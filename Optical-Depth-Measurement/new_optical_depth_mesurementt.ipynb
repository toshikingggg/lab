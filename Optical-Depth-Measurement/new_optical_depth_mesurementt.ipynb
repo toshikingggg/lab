{
 "cells": [
  {
   "cell_type": "code",
   "execution_count": 1,
   "metadata": {},
   "outputs": [
    {
     "name": "stdin",
     "output_type": "stream",
     "text": [
      "外径の半径を入力(mm) 500000\n",
      "内径の半径を入力(mm) 250000\n",
      "光を受け取る位置を入力(mm)(外径の半径よりも大きくすること) 750000\n"
     ]
    }
   ],
   "source": [
    "import math\n",
    "import numpy as np\n",
    "\n",
    "\n",
    "#外周の半径を定義\n",
    "r = int(input(\"外径の半径を入力(mm)\"))\n",
    "r_i  = int(input(\"内径の半径を入力(mm)\"))\n",
    "r_h = int(input(\"光を受け取る位置を入力(mm)(外径の半径よりも大きくすること)\"))\n",
    "tes = r\n",
    "\n",
    "def array(xlist,ylist):\n",
    "    keep_x = []\n",
    "    keep_y = []\n",
    "    keep_x = [i*-1 for i in xlist[::-1]]\n",
    "    keep_y = [i for i in ylist[::-1]]\n",
    "\n",
    "    return xlist + keep_x,ylist + keep_y\n",
    "\n",
    "#解の公式\n",
    "def quadratic_formula(a,b,r,x,grad):\n",
    "    if a==1 or a==-1:\n",
    "#         print(\"解の公式が適応できません\")\n",
    "        return 0\n",
    "    else:\n",
    "        global tes\n",
    "        if grad<0:   \n",
    "            #判別式で直線と交わっているか確かめる\n",
    "            D = pow(a,2)*pow(b,2)-(1+pow(a,2))*(pow(b,2)-pow(r,2))\n",
    "            if D<0:\n",
    "    #             print(\"光線が内周の円と交わっていません\")\n",
    "                #内周と接さずに外周と接する\n",
    "    #             print(\"tes\",tes)\n",
    "                if x<0:\n",
    "                    return (-a*b+np.sqrt(pow(a,2)*pow(b,2)-(1+pow(a,2))*(pow(b,2)-pow(tes,2))))/(1+pow(a,2))\n",
    "                elif x==0:\n",
    "                    return x\n",
    "                elif x>0:\n",
    "                    return (-a*b-np.sqrt(pow(a,2)*pow(b,2)-(1+pow(a,2))*(pow(b,2)-pow(tes,2))))/(1+pow(a,2))\n",
    "            elif D == 0:\n",
    "                print(\"直線と円が接しています\")\n",
    "            else:\n",
    "                if x<0:\n",
    "                    return (-a*b+np.sqrt(pow(a,2)*pow(b,2)-(1+pow(a,2))*(pow(b,2)-pow(r,2))))/(1+pow(a,2))\n",
    "                elif x==0:\n",
    "                    return x\n",
    "                elif x>0:\n",
    "                    return (-a*b-np.sqrt(pow(a,2)*pow(b,2)-(1+pow(a,2))*(pow(b,2)-pow(r,2))))/(1+pow(a,2))\n",
    "        else:\n",
    "            #判別式で直線と交わっているか確かめる\n",
    "            D = pow(a,2)*pow(b,2)-(1+pow(a,2))*(pow(b,2)-pow(r,2))\n",
    "            if D<0:\n",
    "    #             print(\"光線が内周の円と交わっていません\")\n",
    "                #内周と接さずに外周と接する\n",
    "    #             print(\"tes\",tes)\n",
    "                if x<0:\n",
    "                    return (-a*b-np.sqrt(pow(a,2)*pow(b,2)-(1+pow(a,2))*(pow(b,2)-pow(tes,2))))/(1+pow(a,2))\n",
    "                elif x==0:\n",
    "                    return x\n",
    "                elif x>0:\n",
    "                    return (-a*b+np.sqrt(pow(a,2)*pow(b,2)-(1+pow(a,2))*(pow(b,2)-pow(tes,2))))/(1+pow(a,2))\n",
    "            elif D == 0:\n",
    "                print(\"直線と円が接しています\")\n",
    "            else:\n",
    "                if x<0:\n",
    "                    return (-a*b-np.sqrt(pow(a,2)*pow(b,2)-(1+pow(a,2))*(pow(b,2)-pow(r,2))))/(1+pow(a,2))\n",
    "                elif x==0:\n",
    "                    return x\n",
    "                elif x>0:\n",
    "                    return (-a*b+np.sqrt(pow(a,2)*pow(b,2)-(1+pow(a,2))*(pow(b,2)-pow(r,2))))/(1+pow(a,2))            \n",
    "            \n",
    "\n",
    "            \n",
    "#直線の傾き\n",
    "def katamuki(n_i ,n_r ,x_i,y_i,sita_h_i,sita_r_i,sita_i,sin_i):\n",
    "    if n_i>n_r:\n",
    "        sin_c = n_r/n_i\n",
    "        sita_c = np.arcsin(sin_c)\n",
    "        if sita_c > sita_i:\n",
    "            #屈折しつつ透過\n",
    "            #屈折角を求める\n",
    "            sin_r = n_i*sin_i/n_r\n",
    "            sita_r = np.arcsin(sin_r)\n",
    "            #同じものでよさそう\n",
    "            if x_i<0:\n",
    "                if y_i>0:\n",
    "                    gradient_i = np.tan(-(sita_h_i+sita_r))\n",
    "                    return gradient_i\n",
    "                if y_i<0:\n",
    "                    gradient_i = np.tan(-(np.radians(180)-(sita_h_i+sita_r)))\n",
    "                    #print(\"テストgrad\",gradient_i)\n",
    "                    \n",
    "                    return gradient_i\n",
    "            elif x_i ==0:\n",
    "                print(\"x_i=0\")\n",
    "            elif x_i>0:\n",
    "                if y_i>0:\n",
    "                    gradient_i = np.tan(-(np.radians(180)-(sita_h_i+sita_r)))\n",
    "                    return gradient_i\n",
    "                if y_i<0:\n",
    "                    gradient_i = np.tan(-(sita_h_i+sita_r))\n",
    "                    return gradient_i\n",
    "            \n",
    "        else:\n",
    "            #全反射\n",
    "            sita_r = sita_i\n",
    "            \n",
    "            if x_i<0:\n",
    "                gradient_i = np.tan(-(np.radians(180)-(sita_r-sita_h_i)))\n",
    "                return gradient_i\n",
    "            elif x_i==0:\n",
    "                print(\"おそらく存在しない\")\n",
    "            elif x_i>0:\n",
    "                gradient_i = np.tan(-(sita_r-sita_h_i))\n",
    "                return gradient_i\n",
    "    else:\n",
    "        if x_i<0:\n",
    "            if y_i>0:\n",
    "                gradient_i = np.tan(-(sita_h_i+sita_r_i))\n",
    "                return gradient_i\n",
    "            if y_i<0:\n",
    "                gradient_i = np.tan(-(np.radians(180)-(sita_h_i+sita_r_i)))\n",
    "                return gradient_i\n",
    "        elif x_i ==0:\n",
    "            print(\"x_i=0\")\n",
    "        elif x_i>0:\n",
    "            if y_i>0:\n",
    "                gradient_i = np.tan(-(np.radians(180)-(sita_h_i+sita_r_i)))\n",
    "                return gradient_i\n",
    "            if y_i<0:\n",
    "                gradient_i = np.tan(-(sita_h_i+sita_r_i))\n",
    "                return gradient_i\n",
    "\n",
    "            \n",
    "#角計測部分\n",
    "#全反射0 その他１\n",
    "def calculate_angle_and_(n_i ,n_r ,x ,y ,x_i ,y_i, r_i,change):\n",
    "    #求めたい角度に必要な2つの直線\n",
    "    #1.y軸に平行な直線の式はx=h → 0*y+1*x-h=0\n",
    "    a = -(y_i - y)\n",
    "    b = x_i - x\n",
    "    #2.接線に垂直な直線→便利な公式：ax+by+c=0 に垂直で，(x0,y0) を通る直線の方程式は，b(x−x0)−a(y−y0)=0\n",
    "    c = y_i\n",
    "    d = -x_i\n",
    "    if a*c + b*d == 0:\n",
    "#         print(\"a*c + b*d\",a*c + b*d)\n",
    "        return 0,0,0\n",
    "    #2直線の成す角→入射角\n",
    "    tan = (abs(a*d - b*c))/(abs(a*c + b*d))\n",
    "    sita_i = np.arctan(tan)\n",
    "    #スネルの法則にひつような入射角のsin\n",
    "    sin_i = np.sin(sita_i)\n",
    "    \n",
    "    \n",
    "    a_h = 0\n",
    "    b_h = 1\n",
    "    if a_h*c + b_h*d == 0:\n",
    "#         print(\"a*c + b*d\",a*c + b*d)\n",
    "        return 0,0 ,0   \n",
    "    tan2 = (abs(a_h*d - b_h*c))/(abs(a_h*c + b_h*d))\n",
    "    sita_h_i = np.arctan(tan2)\n",
    "    sin_h_i = np.sin(sita_h_i)\n",
    "#     print(\"n_i\",n_i)\n",
    "#     print(\"n_r\",n_r)\n",
    "#     print(\"sin_i\",sin_i)\n",
    "    if change == 0:\n",
    "        sita_r = sita_i\n",
    "#         print(\"calcの中、全反射だよ\")\n",
    "    else:\n",
    "        sin_r = n_i*sin_i/n_r\n",
    "        if sin_r > 1:\n",
    "#             print(\"sinが1を超えてる\")\n",
    "            return 0,0,0\n",
    "        sita_r = np.arcsin(sin_r)\n",
    "    \n",
    "\n",
    "    gradient_i = katamuki(n_i ,n_r ,x_i,y_i,sita_h_i,sita_r,sita_i,sin_i) \n",
    "#     print(\"gradient_i\",gradient_i)\n",
    "    if gradient_i == None:\n",
    "#         print(\"てすと\")\n",
    "        return 0,0,0\n",
    "    y_intercept_i = y_i - gradient_i * x_i\n",
    "    x_i_i = quadratic_formula(gradient_i,y_intercept_i,r_i,x_i,gradient_i)\n",
    "    y_i_i = gradient_i*x_i_i + y_intercept_i\n",
    "    #角度追加\n",
    "    if x_i_i < 0:\n",
    "        beta = sita_r + sita_h_i\n",
    "    else:\n",
    "        beta = np.pi - (sita_r + sita_h_i)\n",
    "    return x_i_i ,y_i_i,beta\n",
    "\n",
    "\n",
    "    \n",
    "\n",
    "xlist = []\n",
    "ylist = []\n",
    "xlist_d = []\n",
    "ylist_d = []\n",
    "xlist_z = []\n",
    "ylist_z = []\n",
    "x_a_list = []\n",
    "y_a_list = []\n",
    "x_d_list = []\n",
    "y_d_list = []\n",
    "test_x = []\n",
    "test_y = []\n",
    "sita_v_list = []\n",
    "cnt=0\n",
    "arg = 30\n",
    "\n",
    "\n",
    "# for x in range(-r+1,r):\n",
    "for x in range(-r+1,0):\n",
    "    if x == 0:\n",
    "        continue\n",
    "#     print(\"x\",x)\n",
    "    #最初\n",
    "    y = 0\n",
    "    x_i = x\n",
    "    y_i = np.sqrt(pow(r,2)-pow(x_i,2))\n",
    "    \n",
    "    n_i = 1.000292\n",
    "    n_r = 1.49\n",
    "    #2つ目の座標\n",
    "    #ここで内径に接しない場合も考える必要がある。\n",
    "    x_i_i, y_i_i,beta = calculate_angle_and_(n_i ,n_r ,x ,y ,x_i ,y_i, r_i,1)\n",
    "#     x_d_list.append(x_i_i)\n",
    "#     y_d_list.append(y_i_i)\n",
    "#     new_x_d_list,new_y_d_list = array(x_d_list, y_d_list)\n",
    "#     print(\"1回目のcalc\")\n",
    "    if x_i_i == 0 and y_i_i == 0:\n",
    "#         print(\"--------------------------------------\")\n",
    "        cnt +=1\n",
    "        continue    \n",
    "    if pow(x_i_i,2)+pow(y_i_i,2) > pow(r-1,2):\n",
    "#         print(\"-------------------------------------\")\n",
    "#         print(\"D<0ルート\")          \n",
    "        n_i = 1.49\n",
    "        n_r = 1.000292\n",
    "        cnt +=1\n",
    "        x_d_get,y_d_get,beta = calculate_angle_and_(n_i ,n_r ,x_i ,y_i ,x_i_i ,y_i_i, r_h,1)\n",
    "        a = -(y_d_get - y_i_i)\n",
    "        b = x_d_get - x_i_i\n",
    "        c = 1\n",
    "        d = 0    \n",
    "        tan = (abs(a*d - b*c))/(abs(a*c + b*d))\n",
    "#         alfa = abs(np.arccos(x_d_get/r_h) - np.pi)\n",
    "#         slit = abs(np.rad2deg(alfa)-np.rad2deg(beta))\n",
    "#         if arg < slit:\n",
    "#             continue\n",
    "        if 0<=y_d_get:\n",
    "#             print(\"-------------------------------------\")\n",
    "            continue\n",
    "        sita_v = np.arctan(tan)\n",
    "        sita_v_list.append(sita_v)\n",
    "        x_d_list.append(x_i_i)\n",
    "        y_d_list.append(y_i_i)\n",
    "        test_x.append(x_i)\n",
    "        test_y.append(y_i)\n",
    "        new_x_d_list,new_y_d_list = array(x_d_list, y_d_list)\n",
    "        \n",
    "        xlist_d.append(x_d_get)\n",
    "        ylist_d.append(y_d_get)\n",
    "        new_xlist_d,new_ylist_d = array(xlist_d, ylist_d)\n",
    "        xlist.append(x_d_get)\n",
    "        ylist.append(y_d_get)\n",
    "#         print(\"-------------------------------------\")\n",
    "    else:\n",
    "        #内側→外\n",
    "#         print(\"D>0ルート\")\n",
    "        n_i = 1.49\n",
    "        n_r = 1.000292\n",
    "        sin_c = n_r/n_i\n",
    "        sita_c = np.arcsin(sin_c)    \n",
    "        a = -(y_i_i - y_i)\n",
    "        b = x_i_i - x_i\n",
    "        c = y_i_i\n",
    "        d = -x_i_i\n",
    "\n",
    "        tan = (abs(a*d - b*c))/(abs(a*c + b*d))\n",
    "        sita_i = np.arctan(tan)\n",
    "        #3つ目の座標 透過or全反射→どう分けよう とりあえずaをトリガーにする？→aと半径をトリガーにする？\n",
    "        #ここのrが問題→全反射と内部を透過する場合で代入しなければならない半径が異なる\n",
    "        if sita_c > sita_i:\n",
    "            x_i_i_i, y_i_i_i,beta = calculate_angle_and_(n_i ,n_r ,x_i ,y_i ,x_i_i ,y_i_i, r_i,1)\n",
    "#             print(\"2回目のcalc　内部\")\n",
    "            if x_i_i_i == 0 and y_i_i_i == 0:\n",
    "#                 print(\"--------------------------------------\")\n",
    "                cnt +=1\n",
    "                continue\n",
    "            n_i = 1.000292\n",
    "            n_r = 1.49 \n",
    "            x_i_i_r, y_i_i_r,beta = calculate_angle_and_(n_i ,n_r ,x_i_i ,y_i_i ,x_i_i_i ,y_i_i_i, r,1)\n",
    "#             print(\"3回目のcalc\")\n",
    "            if x_i_i_r == 0 and y_i_i_r == 0:\n",
    "#                 print(\"--------------------------------------\")\n",
    "#                 cnt +=1\n",
    "                continue\n",
    "            n_i = 1.49\n",
    "            n_r = 1.000292\n",
    "            x_get,y_get,beta = calculate_angle_and_(n_i ,n_r ,x_i_i_i ,y_i_i_i ,x_i_i_r ,y_i_i_r, r_h,1)\n",
    "            alfa = abs(np.arccos(x_get/r_h) - np.pi)\n",
    "            slit = abs(np.rad2deg(alfa)-np.rad2deg(beta))\n",
    "            if arg < slit:\n",
    "                continue\n",
    "#             print(\"最後のcalc　内部透過\")\n",
    "#             print(\"--------------------------------------\")\n",
    "        elif sita_c < sita_i:      \n",
    "#             print(\"全反射ルート\")\n",
    "            x_i_i_r, y_i_i_r,beta = calculate_angle_and_(n_i ,n_r ,x_i ,y_i ,x_i_i ,y_i_i, r,0)\n",
    "#             print(\"2回目のcalc 全反射\")\n",
    "            if x_i_i_r == 0 and y_i_i_r == 0:\n",
    "#                 print(\"--------------------------------------\")\n",
    "                cnt +=1\n",
    "                continue\n",
    "            x_get,y_get,beta = calculate_angle_and_(n_i ,n_r ,x_i_i ,y_i_i ,x_i_i_r ,y_i_i_r, r_h,1)\n",
    "            alfa = abs(np.arccos(x_get/r_h) - np.pi)\n",
    "            slit = abs(np.rad2deg(alfa)-np.rad2deg(beta))\n",
    "#             print(\"slitの中身\",slit)\n",
    "            if arg < slit:\n",
    "                continue\n",
    "#             print(\"最後のcalc　全反射\")\n",
    "#             print(\"--------------------------------------\")\n",
    "            if 0<=y_get:\n",
    "                continue\n",
    "            xlist_z.append(x_get)\n",
    "            ylist_z.append(y_get)\n",
    "            x_a_list.append(x_i_i_r)\n",
    "            y_a_list.append(y_i_i_r)\n",
    "            new_xlist_z,new_ylist_z = array(xlist_z,ylist_z)\n",
    "            new_x_a_list,new_y_a_list = array(x_a_list,y_a_list)\n",
    "        if 0<=y_get:\n",
    "            continue\n",
    "        xlist.append(x_get)\n",
    "        ylist.append(y_get)\n",
    "        new_xlist, new_ylist = array(xlist,ylist)"
   ]
  },
  {
   "cell_type": "code",
   "execution_count": 2,
   "metadata": {},
   "outputs": [
    {
     "name": "stdout",
     "output_type": "stream",
     "text": [
      "127608 127608\n"
     ]
    }
   ],
   "source": [
    "print(len(sita_v_list),len(x_d_list))"
   ]
  },
  {
   "cell_type": "code",
   "execution_count": 3,
   "metadata": {},
   "outputs": [
    {
     "data": {
      "image/png": "[encoded data removed]",
      "text/plain": [
       "<Figure size 432x288 with 1 Axes>"
      ]
     },
     "metadata": {
      "needs_background": "light"
     },
     "output_type": "display_data"
    }
   ],
   "source": [
    "# とりあえず表示\n",
    "import matplotlib.pyplot as plt\n",
    "import matplotlib.patches as patches\n",
    "\n",
    "\n",
    "\n",
    "g = plt.subplot()\n",
    "#外径\n",
    "draw_circle_r = plt.Circle((0, 0), r, fill=False)\n",
    "#内径\n",
    "draw_circle_i = plt.Circle((0, 0), r_i, fill=False)\n",
    "g.add_artist(draw_circle_r)\n",
    "g.add_artist(draw_circle_i)\n",
    "g.plot(new_xlist, new_ylist, marker=\"o\", color = \"red\", linestyle = \" \",markersize=1)\n",
    "g.set_aspect('equal')\n",
    "\n"
   ]
  },
  {
   "cell_type": "code",
   "execution_count": 4,
   "metadata": {},
   "outputs": [
    {
     "name": "stdout",
     "output_type": "stream",
     "text": [
      "取得できていない座標の数 127608\n"
     ]
    },
    {
     "data": {
      "image/png": "[encoded data removed]",
      "text/plain": [
       "<Figure size 432x288 with 1 Axes>"
      ]
     },
     "metadata": {
      "needs_background": "light"
     },
     "output_type": "display_data"
    }
   ],
   "source": [
    "# とりあえず表示　全反射の外径通過点\n",
    "import matplotlib.pyplot as plt\n",
    "import matplotlib.patches as patches\n",
    "\n",
    "\n",
    "\n",
    "g = plt.subplot()\n",
    "#外径\n",
    "draw_circle_r = plt.Circle((0, 0), r, fill=False)\n",
    "#内径\n",
    "draw_circle_i = plt.Circle((0, 0), r_i, fill=False)\n",
    "g.add_artist(draw_circle_r)\n",
    "g.add_artist(draw_circle_i)\n",
    "g.plot(new_x_a_list, new_y_a_list, marker=\"o\", color = \"red\", linestyle = \" \",markersize=1)\n",
    "g.set_aspect('equal')\n",
    "\n",
    "print(\"取得できていない座標の数\",cnt)"
   ]
  },
  {
   "cell_type": "code",
   "execution_count": 5,
   "metadata": {},
   "outputs": [
    {
     "name": "stdout",
     "output_type": "stream",
     "text": [
      "D<0の数 127608\n"
     ]
    },
    {
     "data": {
      "image/png": "[encoded data removed]",
      "text/plain": [
       "<Figure size 432x288 with 1 Axes>"
      ]
     },
     "metadata": {
      "needs_background": "light"
     },
     "output_type": "display_data"
    }
   ],
   "source": [
    "#D<0 外周の通過点\n",
    "import matplotlib.pyplot as plt\n",
    "import matplotlib.patches as patches\n",
    "\n",
    "\n",
    "\n",
    "g = plt.subplot()\n",
    "#外径\n",
    "draw_circle_r = plt.Circle((0, 0), r, fill=False)\n",
    "#内径\n",
    "draw_circle_i = plt.Circle((0, 0), r_i, fill=False)\n",
    "g.add_artist(draw_circle_r)\n",
    "g.add_artist(draw_circle_i)\n",
    "g.plot(new_x_d_list,new_y_d_list, marker=\"o\", color = \"red\", linestyle = \" \",markersize=1)\n",
    "g.plot(test_x,test_y, marker=\"o\", color = \"red\", linestyle = \" \",markersize=1)\n",
    "g.plot([new_x_d_list[1000],test_x[1000]],[new_y_d_list[1000],test_y[1000]])\n",
    "g.plot(new_xlist_d, new_ylist_d, marker=\"o\", color = \"red\", linestyle = \" \",markersize=1)\n",
    "g.plot([new_xlist_d[1000],new_x_d_list[1000]],[new_ylist_d[1000],new_y_d_list[1000]])\n",
    "g.set_aspect('equal')\n",
    "\n",
    "\n",
    "print(\"D<0の数\",cnt)"
   ]
  },
  {
   "cell_type": "code",
   "execution_count": 6,
   "metadata": {},
   "outputs": [
    {
     "name": "stdout",
     "output_type": "stream",
     "text": [
      "D<0の数 127608\n"
     ]
    },
    {
     "data": {
      "image/png": "[encoded data removed]",
      "text/plain": [
       "<Figure size 432x288 with 1 Axes>"
      ]
     },
     "metadata": {
      "needs_background": "light"
     },
     "output_type": "display_data"
    }
   ],
   "source": [
    "#D<0　フォトトランジスタのところ\n",
    "import matplotlib.pyplot as plt\n",
    "import matplotlib.patches as patches\n",
    "\n",
    "\n",
    "\n",
    "g = plt.subplot()\n",
    "#外径\n",
    "draw_circle_r = plt.Circle((0, 0), r, fill=False)\n",
    "#内径\n",
    "draw_circle_i = plt.Circle((0, 0), r_i, fill=False)\n",
    "g.add_artist(draw_circle_r)\n",
    "g.add_artist(draw_circle_i)\n",
    "g.plot(new_xlist_d, new_ylist_d, marker=\"o\", color = \"red\", linestyle = \" \",markersize=1)\n",
    "g.set_aspect('equal')\n",
    "\n",
    "print(\"D<0の数\",cnt)"
   ]
  },
  {
   "cell_type": "code",
   "execution_count": 7,
   "metadata": {},
   "outputs": [
    {
     "data": {
      "image/png": "[encoded data removed]",
      "text/plain": [
       "<Figure size 432x288 with 1 Axes>"
      ]
     },
     "metadata": {
      "needs_background": "light"
     },
     "output_type": "display_data"
    }
   ],
   "source": [
    "#全反射のみ\n",
    "import matplotlib.pyplot as plt\n",
    "import matplotlib.patches as patches\n",
    "\n",
    "\n",
    "\n",
    "g = plt.subplot()\n",
    "#外径\n",
    "draw_circle_r = plt.Circle((0, 0), r, fill=False)\n",
    "#内径\n",
    "draw_circle_i = plt.Circle((0, 0), r_i, fill=False)\n",
    "g.add_artist(draw_circle_r)\n",
    "g.add_artist(draw_circle_i)\n",
    "g.plot(new_xlist_z, new_ylist_z, marker=\"o\", color = \"red\", linestyle = \" \",markersize=1)\n",
    "g.set_aspect('equal')"
   ]
  },
  {
   "cell_type": "code",
   "execution_count": 8,
   "metadata": {},
   "outputs": [
    {
     "data": {
      "text/plain": [
       "<BarContainer object of 1802 artists>"
      ]
     },
     "execution_count": 8,
     "metadata": {},
     "output_type": "execute_result"
    },
    {
     "data": {
      "image/png": "[encoded data removed]",
      "text/plain": [
       "<Figure size 432x288 with 1 Axes>"
      ]
     },
     "metadata": {
      "needs_background": "light"
     },
     "output_type": "display_data"
    }
   ],
   "source": [
    "#全て\n",
    "array_ex = []\n",
    "keep = 0\n",
    "inst=[0]*901\n",
    "new_array=[]\n",
    "new_inst=[]\n",
    "test_array1=[]\n",
    "test_array2=[]\n",
    "\n",
    "#180度を1800等分した配列\n",
    "while keep < 90.1:\n",
    "    keep = round(keep,1)\n",
    "    array_ex.append(keep)\n",
    "    keep += 0.1\n",
    "# print(array)\n",
    "\n",
    "for x, y in zip(new_xlist, new_ylist):\n",
    "    a = 0\n",
    "    b = 1\n",
    "    c = y\n",
    "    d = x\n",
    "\n",
    "    tan_test = (abs(a*d - b*c))/(abs(a*c + b*d))\n",
    "\n",
    "    sita_test = math.atan(tan_test)\n",
    "    if x<0:\n",
    "#         print(\"(x座標,y座標)=(\",x,y,\")|\",round(math.degrees(sita_test),1),\"度\")\n",
    "        f = round(math.degrees(sita_test),1)\n",
    "        for i in range(0,901):\n",
    "            if array_ex[i] == f:\n",
    "                inst[i] += 1   \n",
    "#     else:\n",
    "# #         print(\"(x座標,y座標)=(\",x,y,\")|\",round(180-math.degrees(sita_test),1),\"度\")\n",
    "#         f = round(180-math.degrees(sita_test),1)\n",
    "#         for i in range(0,1801):\n",
    "#             if array_ex[i] == f:\n",
    "#                 inst[i] += 1\n",
    "\n",
    "new_array,new_inst = array(array_ex, inst)\n",
    "\n",
    "second_new_array = [i + 90 for i in new_array]\n",
    "\n",
    "k=0\n",
    "for j in inst:\n",
    "    if j > 1000:\n",
    "        test_array1.append(array_ex[k])\n",
    "        test_array2.append(inst[k])\n",
    "    k +=1\n",
    "\n",
    "#     #1度を10分割する\n",
    "# print(inst)\n",
    "# print(len(inst))\n",
    "# print(len(array))\n",
    "plt.bar(second_new_array, new_inst, width=1.0) \n",
    "#まだ荒い"
   ]
  },
  {
   "cell_type": "code",
   "execution_count": 9,
   "metadata": {},
   "outputs": [
    {
     "data": {
      "text/plain": [
       "<BarContainer object of 1801 artists>"
      ]
     },
     "execution_count": 9,
     "metadata": {},
     "output_type": "execute_result"
    },
    {
     "data": {
      "image/png": "[encoded data removed]",
      "text/plain": [
       "<Figure size 432x288 with 1 Axes>"
      ]
     },
     "metadata": {
      "needs_background": "light"
     },
     "output_type": "display_data"
    }
   ],
   "source": [
    "#D<0　フォトトランジスタで取った場合\n",
    "array = []\n",
    "keep = 0\n",
    "inst=[0]*1801\n",
    "\n",
    "#180度を1800等分した配列\n",
    "while keep < 180.1:\n",
    "    keep = round(keep,1)\n",
    "    array.append(keep)\n",
    "    keep += 0.1\n",
    "# print(array)\n",
    "\n",
    "for x, y in zip(new_xlist_d, new_ylist_d):\n",
    "    a = 0\n",
    "    b = 1\n",
    "    c = y\n",
    "    d = x\n",
    "\n",
    "    tan_test = (abs(a*d - b*c))/(abs(a*c + b*d))\n",
    "\n",
    "    sita_test = math.atan(tan_test)\n",
    "    if x<0:\n",
    "#         print(\"(x座標,y座標)=(\",x,y,\")|\",round(math.degrees(sita_test),1),\"度\")\n",
    "        f = round(math.degrees(sita_test),1)\n",
    "        for i in range(0,1801):\n",
    "            if array[i] == f:\n",
    "                inst[i] += 1   \n",
    "    else:\n",
    "#         print(\"(x座標,y座標)=(\",x,y,\")|\",round(180-math.degrees(sita_test),1),\"度\")\n",
    "        f = round(180-math.degrees(sita_test),1)\n",
    "        for i in range(0,1801):\n",
    "            if array[i] == f:\n",
    "                inst[i] += 1\n",
    "        \n",
    "#     #1度を10分割する\n",
    "# print(inst)\n",
    "# print(len(inst))\n",
    "# print(len(array))\n",
    "plt.bar(array, inst, width=1.0) \n",
    "#まだ荒い"
   ]
  },
  {
   "cell_type": "code",
   "execution_count": 10,
   "metadata": {},
   "outputs": [
    {
     "data": {
      "text/plain": [
       "<BarContainer object of 1801 artists>"
      ]
     },
     "execution_count": 10,
     "metadata": {},
     "output_type": "execute_result"
    },
    {
     "data": {
      "image/png": "[encoded data removed]",
      "text/plain": [
       "<Figure size 432x288 with 1 Axes>"
      ]
     },
     "metadata": {
      "needs_background": "light"
     },
     "output_type": "display_data"
    }
   ],
   "source": [
    "#全反射のみ　フォトロランジスタの位置の場合　→必要なさそう\n",
    "array = []\n",
    "keep = 0\n",
    "inst=[0]*1801\n",
    "\n",
    "#180度を1800等分した配列\n",
    "while keep < 180.1:\n",
    "    keep = round(keep,1)\n",
    "    array.append(keep)\n",
    "    keep += 0.1\n",
    "# print(array)\n",
    "\n",
    "for x, y in zip(new_xlist_z, new_ylist_z):\n",
    "    a = 0\n",
    "    b = 1\n",
    "    c = y\n",
    "    d = x\n",
    "\n",
    "    tan_test = (abs(a*d - b*c))/(abs(a*c + b*d))\n",
    "\n",
    "    sita_test = math.atan(tan_test)\n",
    "    if x<0:\n",
    "#         print(\"(x座標,y座標)=(\",x,y,\")|\",round(math.degrees(sita_test),1),\"度\")\n",
    "        f = round(math.degrees(sita_test),1)\n",
    "        for i in range(0,1801):\n",
    "            if array[i] == f:\n",
    "                inst[i] += 1   \n",
    "    else:\n",
    "#         print(\"(x座標,y座標)=(\",x,y,\")|\",round(180-math.degrees(sita_test),1),\"度\")\n",
    "        f = round(180-math.degrees(sita_test),1)\n",
    "        for i in range(0,1801):\n",
    "            if array[i] == f:\n",
    "                inst[i] += 1\n",
    "        \n",
    "#     #1度を10分割する\n",
    "# print(inst)\n",
    "# print(len(inst))\n",
    "# print(len(array))\n",
    "plt.bar(array, inst, width=1.0) \n",
    "#まだ荒い"
   ]
  },
  {
   "cell_type": "code",
   "execution_count": 11,
   "metadata": {},
   "outputs": [
    {
     "data": {
      "text/plain": [
       "<BarContainer object of 1801 artists>"
      ]
     },
     "execution_count": 11,
     "metadata": {},
     "output_type": "execute_result"
    },
    {
     "data": {
      "image/png": "[encoded data removed]",
      "text/plain": [
       "<Figure size 432x288 with 1 Axes>"
      ]
     },
     "metadata": {
      "needs_background": "light"
     },
     "output_type": "display_data"
    }
   ],
   "source": [
    "#全反射のみ　外周のところ\n",
    "array = []\n",
    "keep = 0\n",
    "inst=[0]*1801\n",
    "\n",
    "#180度を1800等分した配列\n",
    "while keep < 180.1:\n",
    "    keep = round(keep,1)\n",
    "    array.append(keep)\n",
    "    keep += 0.1\n",
    "# print(array)\n",
    "\n",
    "for x, y in zip(new_x_a_list, new_y_a_list):\n",
    "    a = 0\n",
    "    b = 1\n",
    "    c = y\n",
    "    d = x\n",
    "\n",
    "    tan_test = (abs(a*d - b*c))/(abs(a*c + b*d))\n",
    "\n",
    "    sita_test = math.atan(tan_test)\n",
    "    if x<0:\n",
    "#         print(\"(x座標,y座標)=(\",x,y,\")|\",round(math.degrees(sita_test),1),\"度\")\n",
    "        f = round(math.degrees(sita_test),1)\n",
    "        for i in range(0,1801):\n",
    "            if array[i] == f:\n",
    "                inst[i] += 1   \n",
    "    else:\n",
    "#         print(\"(x座標,y座標)=(\",x,y,\")|\",round(180-math.degrees(sita_test),1),\"度\")\n",
    "        f = round(180-math.degrees(sita_test),1)\n",
    "        for i in range(0,1801):\n",
    "            if array[i] == f:\n",
    "                inst[i] += 1\n",
    "        \n",
    "#     #1度を10分割する\n",
    "# print(inst)\n",
    "# print(len(inst))\n",
    "# print(len(array))\n",
    "plt.bar(array, inst, width=1.0) \n",
    "#まだ荒い"
   ]
  },
  {
   "cell_type": "code",
   "execution_count": 24,
   "metadata": {},
   "outputs": [
    {
     "data": {
      "text/plain": [
       "<BarContainer object of 1801 artists>"
      ]
     },
     "execution_count": 24,
     "metadata": {},
     "output_type": "execute_result"
    },
    {
     "data": {
      "image/png": "[encoded data removed]",
      "text/plain": [
       "<Figure size 432x288 with 1 Axes>"
      ]
     },
     "metadata": {
      "needs_background": "light"
     },
     "output_type": "display_data"
    }
   ],
   "source": [
    "#全反射のみ\n",
    "array = []\n",
    "keep = 0\n",
    "inst=[0]*1801\n",
    "\n",
    "#180度を1800等分した配列\n",
    "while keep < 180.1:\n",
    "    keep = round(keep,1)\n",
    "    array.append(keep)\n",
    "    keep += 0.1\n",
    "# print(array)\n",
    "\n",
    "for x, y in zip(new_x_a_list, new_y_a_list):\n",
    "    a = 0\n",
    "    b = 1\n",
    "    c = y\n",
    "    d = x\n",
    "\n",
    "    tan_test = (abs(a*d - b*c))/(abs(a*c + b*d))\n",
    "\n",
    "    sita_test = math.atan(tan_test)\n",
    "    if x<0:\n",
    "#         print(\"(x座標,y座標)=(\",x,y,\")|\",round(math.degrees(sita_test),1),\"度\")\n",
    "        f = round(math.degrees(sita_test),1)\n",
    "        for i in range(0,1801):\n",
    "            if array[i] == f:\n",
    "                inst[i] += 1   \n",
    "    else:\n",
    "#         print(\"(x座標,y座標)=(\",x,y,\")|\",round(180-math.degrees(sita_test),1),\"度\")\n",
    "        f = round(180-math.degrees(sita_test),1)\n",
    "        for i in range(0,1801):\n",
    "            if array[i] == f:\n",
    "                inst[i] += 1\n",
    "        \n",
    "#     #1度を10分割する\n",
    "# print(inst)\n",
    "# print(len(inst))\n",
    "# print(len(array))\n",
    "plt.xlim([20,160])\n",
    "plt.bar(array, inst, width=1.0) \n",
    "#まだ荒い"
   ]
  },
  {
   "cell_type": "code",
   "execution_count": 47,
   "metadata": {},
   "outputs": [
    {
     "data": {
      "text/plain": [
       "<BarContainer object of 18001 artists>"
      ]
     },
     "execution_count": 47,
     "metadata": {},
     "output_type": "execute_result"
    },
    {
     "data": {
      "image/png": "[encoded data removed]",
      "text/plain": [
       "<Figure size 432x288 with 1 Axes>"
      ]
     },
     "metadata": {
      "needs_background": "light"
     },
     "output_type": "display_data"
    }
   ],
   "source": [
    "array = []\n",
    "keep = 0\n",
    "inst=[0]*18001\n",
    "\n",
    "\n",
    "#180度を1800等分した配列\n",
    "while keep < 180.01:\n",
    "    keep = round(keep,2)\n",
    "    array.append(keep)\n",
    "    keep += 0.01\n",
    "# print(array)\n",
    "\n",
    "for x, y in zip(new_x_a_list,new_y_a_list):\n",
    "    a = 0\n",
    "    b = 1\n",
    "    c = y\n",
    "    d = x\n",
    "\n",
    "    tan_test = (abs(a*d - b*c))/(abs(a*c + b*d))\n",
    "\n",
    "    sita_test = math.atan(tan_test)\n",
    "    if x<0:\n",
    "#         print(\"(x座標,y座標)=(\",x,y,\")|\",round(math.degrees(sita_test),1),\"度\")\n",
    "        f = round(math.degrees(sita_test),2)\n",
    "        for i in range(0,18001):\n",
    "            if array[i] == f:\n",
    "                inst[i] += 1 \n",
    "                sita_v_test[i] = sita_v_v\n",
    "    else:\n",
    "#         print(\"(x座標,y座標)=(\",x,y,\")|\",round(180-math.degrees(sita_test),1),\"度\")\n",
    "        f = round(180-math.degrees(sita_test),2)\n",
    "        for i in range(0,18001):\n",
    "            if array[i] == f:\n",
    "                inst[i] += 1\n",
    "    \n",
    "        \n",
    "#     #1度を10分割する\n",
    "# print(inst)\n",
    "# print(len(inst))\n",
    "# print(len(array))\n",
    "# plt.xlim([75,90])\n",
    "# plt.ylim([8000,8100])\n",
    "plt.bar(array, inst, width=1.0) \n",
    "#まだ荒い"
   ]
  },
  {
   "cell_type": "code",
   "execution_count": 49,
   "metadata": {},
   "outputs": [
    {
     "name": "stdout",
     "output_type": "stream",
     "text": [
      "2\n",
      "[30.13, 149.06]\n",
      "[53, 53]\n"
     ]
    }
   ],
   "source": [
    "#aを求める\n",
    "tmp1=52\n",
    "tmp2=52\n",
    "\n",
    "cnt=0\n",
    "get_x = []\n",
    "get_y = []\n",
    "get_x_a = []\n",
    "get_y_a = []\n",
    "\n",
    "for max_array,max_inst in zip(array, inst):\n",
    "    if max_array < 90:\n",
    "        if tmp1 < max_inst:\n",
    "            tmp1 = max_inst\n",
    "            get_x.append(max_array)\n",
    "            get_y.append(max_inst)\n",
    "            cnt +=1\n",
    "    elif max_array >= 90:\n",
    "        if tmp2 < max_inst:\n",
    "            tmp2 = max_inst\n",
    "            get_x.append(max_array)\n",
    "            get_y.append(max_inst)\n",
    "            cnt +=1\n",
    "\n",
    "print(cnt)\n",
    "print(get_x)\n",
    "print(get_y)"
   ]
  },
  {
   "cell_type": "markdown",
   "metadata": {},
   "source": [
    "## 内径計測の方法\n",
    "\n",
    "理論的には大きく2つ？？\n",
    "- 一次反射モード\n",
    "- 接線モード\n"
   ]
  },
  {
   "cell_type": "markdown",
   "metadata": {},
   "source": [
    "一次反射モードの場合"
   ]
  },
  {
   "cell_type": "markdown",
   "metadata": {},
   "source": [
    "$n$:屈折率 $d$:内径 $D$:外径 $a$:透過距離\n",
    "\n",
    "$$\n",
    "d = \\frac{-a^3\\pm\\sqrt{a^6+a^2D^2(n^2(D^2-a^2)-a^2})}{n^2(D^2-a^2)-a^2}\n",
    "$$"
   ]
  },
  {
   "cell_type": "code",
   "execution_count": 50,
   "metadata": {},
   "outputs": [
    {
     "name": "stdout",
     "output_type": "stream",
     "text": [
      "861318.9621566366\n",
      "6937568.030248828 633514.7576115255\n"
     ]
    }
   ],
   "source": [
    "n=1.49\n",
    "D=r*2\n",
    "a_toka=2*r*np.sin((np.deg2rad(get_x[1]-get_x[0]))/2)\n",
    "print(a_toka)\n",
    "# print(a_toka)\n",
    "d_ans_1 = (-pow(a_toka,3)-np.sqrt(pow(a_toka,6)+pow(a_toka,2)*pow(D,2)*(pow(n,2)*(pow(D,2)-pow(a_toka,2))-pow(a_toka,2))))/(pow(n,2)*(pow(D,2)-pow(a_toka,2))-pow(a_toka,2))\n",
    "d_ans_2 = (-pow(a_toka,3)+np.sqrt(pow(a_toka,6)+pow(a_toka,2)*pow(D,2)*(pow(n,2)*(pow(D,2)-pow(a_toka,2))-pow(a_toka,2))))/(pow(n,2)*(pow(D,2)-pow(a_toka,2))-pow(a_toka,2))\n",
    "print(d_ans_1,d_ans_2)\n",
    "#print(np.deg2rad(get_x[1]-get_x[0]))\n"
   ]
  },
  {
   "cell_type": "markdown",
   "metadata": {},
   "source": [
    "接線モードの場合\n"
   ]
  },
  {
   "cell_type": "code",
   "execution_count": 33,
   "metadata": {},
   "outputs": [
    {
     "name": "stdout",
     "output_type": "stream",
     "text": [
      "255216 255216\n"
     ]
    }
   ],
   "source": [
    "second_sita_v_list = [i  for i in reversed(sita_v_list)]\n",
    "new_sita_v_list = sita_v_list + second_sita_v_list\n",
    "\n",
    "print(len(new_sita_v_list),len(new_x_d_list))"
   ]
  },
  {
   "cell_type": "code",
   "execution_count": 34,
   "metadata": {},
   "outputs": [
    {
     "data": {
      "text/plain": [
       "<BarContainer object of 1801 artists>"
      ]
     },
     "execution_count": 34,
     "metadata": {},
     "output_type": "execute_result"
    },
    {
     "data": {
      "image/png": "[encoded data removed]",
      "text/plain": [
       "<Figure size 432x288 with 1 Axes>"
      ]
     },
     "metadata": {
      "needs_background": "light"
     },
     "output_type": "display_data"
    }
   ],
   "source": [
    "#D<0\n",
    "array = []\n",
    "keep = 0\n",
    "inst=[0]*1801\n",
    "sita_v_test = [0]*1801\n",
    "\n",
    "#180度を1800等分した配列\n",
    "while keep < 180.1:\n",
    "    keep = round(keep,1)\n",
    "    array.append(keep)\n",
    "    keep += 0.1\n",
    "# print(array)\n",
    "\n",
    "for x, y,sita_v_v in zip(new_x_d_list,new_y_d_list,new_sita_v_list):\n",
    "    a = 0\n",
    "    b = 1\n",
    "    c = y\n",
    "    d = x\n",
    "\n",
    "    tan_test = (abs(a*d - b*c))/(abs(a*c + b*d))\n",
    "\n",
    "    sita_test = math.atan(tan_test)\n",
    "    if x<0:\n",
    "#         print(\"(x座標,y座標)=(\",x,y,\")|\",round(math.degrees(sita_test),1),\"度\")\n",
    "        f = round(math.degrees(sita_test),1)\n",
    "        for i in range(0,1801):\n",
    "            if array[i] == f:\n",
    "                inst[i] += 1 \n",
    "                sita_v_test[i] = sita_v_v\n",
    "    else:\n",
    "#         print(\"(x座標,y座標)=(\",x,y,\")|\",round(180-math.degrees(sita_test),1),\"度\")\n",
    "        f = round(180-math.degrees(sita_test),1)\n",
    "        for i in range(0,1801):\n",
    "            if array[i] == f:\n",
    "                inst[i] += 1\n",
    "                sita_v_test[i] = sita_v_v\n",
    "        \n",
    "#     #1度を10分割する\n",
    "# print(inst)\n",
    "# print(len(inst))\n",
    "# print(len(array))\n",
    "plt.bar(array, inst, width=1.0) \n",
    "#まだ荒い"
   ]
  },
  {
   "cell_type": "code",
   "execution_count": 35,
   "metadata": {},
   "outputs": [
    {
     "data": {
      "text/plain": [
       "<BarContainer object of 18001 artists>"
      ]
     },
     "execution_count": 35,
     "metadata": {},
     "output_type": "execute_result"
    },
    {
     "data": {
      "image/png": "[encoded data removed]",
      "text/plain": [
       "<Figure size 432x288 with 1 Axes>"
      ]
     },
     "metadata": {
      "needs_background": "light"
     },
     "output_type": "display_data"
    }
   ],
   "source": [
    "#D<0\n",
    "array = []\n",
    "keep = 0\n",
    "inst=[0]*18001\n",
    "sita_v_test = [0]*18001\n",
    "\n",
    "#180度を1800等分した配列\n",
    "while keep < 180.01:\n",
    "    keep = round(keep,2)\n",
    "    array.append(keep)\n",
    "    keep += 0.01\n",
    "# print(array)\n",
    "\n",
    "for x, y,sita_v_v in zip(new_x_d_list,new_y_d_list,new_sita_v_list):\n",
    "    a = 0\n",
    "    b = 1\n",
    "    c = y\n",
    "    d = x\n",
    "\n",
    "    tan_test = (abs(a*d - b*c))/(abs(a*c + b*d))\n",
    "\n",
    "    sita_test = math.atan(tan_test)\n",
    "    if x<0:\n",
    "#         print(\"(x座標,y座標)=(\",x,y,\")|\",round(math.degrees(sita_test),1),\"度\")\n",
    "        f = round(math.degrees(sita_test),2)\n",
    "        for i in range(0,18001):\n",
    "            if array[i] == f:\n",
    "                inst[i] += 1 \n",
    "                sita_v_test[i] = sita_v_v\n",
    "    else:\n",
    "#         print(\"(x座標,y座標)=(\",x,y,\")|\",round(180-math.degrees(sita_test),1),\"度\")\n",
    "        f = round(180-math.degrees(sita_test),2)\n",
    "        for i in range(0,18001):\n",
    "            if array[i] == f:\n",
    "                inst[i] += 1\n",
    "                sita_v_test[i] = sita_v_v\n",
    "        \n",
    "#     #1度を10分割する\n",
    "# print(inst)\n",
    "# print(len(inst))\n",
    "# print(len(array))\n",
    "# plt.xlim([75,90])\n",
    "# plt.ylim([8000,8100])\n",
    "plt.bar(array, inst, width=1.0) \n",
    "#まだ荒い"
   ]
  },
  {
   "cell_type": "code",
   "execution_count": 44,
   "metadata": {},
   "outputs": [
    {
     "name": "stdout",
     "output_type": "stream",
     "text": [
      "1\n",
      "78.1\n",
      "8052\n",
      "0.65940384780195\n"
     ]
    }
   ],
   "source": [
    "#sita求める\n",
    "tmp1=70\n",
    "cnt=0\n",
    "get_x = []\n",
    "get_y = []\n",
    "\n",
    "for max_array,max_inst,ans_sita in zip(array, inst, sita_v_test):\n",
    "    if max_array < 90:\n",
    "        if tmp1 < max_inst:\n",
    "            tmp1 = max_inst\n",
    "            get_x = max_array\n",
    "            get_y = max_inst\n",
    "            get_sita = ans_sita\n",
    "            cnt +=1\n",
    "\n",
    "print(cnt)\n",
    "print(get_x)\n",
    "print(get_y)\n",
    "print(get_sita)\n"
   ]
  },
  {
   "cell_type": "code",
   "execution_count": 45,
   "metadata": {},
   "outputs": [
    {
     "name": "stdout",
     "output_type": "stream",
     "text": [
      "257794.8470712998\n"
     ]
    }
   ],
   "source": [
    "sita_ans= get_sita\n",
    "d_ans_3 = np.sqrt((pow(D,2)*pow(np.sin(sita_ans/2),2))/(pow(n,2)-2*n*np.cos(sita_ans/2)+1))\n",
    "\n",
    "print(d_ans_3)"
   ]
  },
  {
   "cell_type": "code",
   "execution_count": 38,
   "metadata": {},
   "outputs": [
    {
     "name": "stdout",
     "output_type": "stream",
     "text": [
      "2.1595758468156805\n"
     ]
    }
   ],
   "source": [
    "#屈折率も求めてみる\n",
    "d=d_ans_2\n",
    "D =r*2\n",
    "n_bunsi = (a_toka/D)*np.sqrt((pow(a_toka,2)/pow(D,2))-2*(a_toka/D)*(d/D)+1)\n",
    "n_bunbo = (d/D)*np.sqrt(1-(pow(a_toka,2)/pow(D,2)))\n",
    "n = n_bunsi/n_bunbo\n",
    "print(n)"
   ]
  },
  {
   "cell_type": "code",
   "execution_count": 39,
   "metadata": {},
   "outputs": [
    {
     "name": "stdout",
     "output_type": "stream",
     "text": [
      "1000000\n",
      "633844.0463381378\n",
      "0.65940384780195\n",
      "861629.1604415257\n",
      "0.65012778312879\n"
     ]
    }
   ],
   "source": [
    "print(D)\n",
    "print(d)\n",
    "print(sita_ans)\n",
    "print(a_toka)\n",
    "print((pow(a_toka,2)/pow(D,2))-2*(a_toka/D)*(d/D)+1)"
   ]
  },
  {
   "cell_type": "markdown",
   "metadata": {},
   "source": [
    "値があまりよろしくない\n",
    "→精度向上に必要なことは？？？\n",
    "→解の公式の見直し\n",
    "→更に小さな値でプログラムを回す"
   ]
  },
  {
   "cell_type": "code",
   "execution_count": 40,
   "metadata": {},
   "outputs": [
    {
     "name": "stdout",
     "output_type": "stream",
     "text": [
      "356013.02299549826\n"
     ]
    }
   ],
   "source": [
    "test=500000*np.cos(np.deg2rad(44.6))\n",
    "\n",
    "print(test)"
   ]
  },
  {
   "cell_type": "code",
   "execution_count": 41,
   "metadata": {},
   "outputs": [
    {
     "data": {
      "text/plain": [
       "0.001368"
      ]
     },
     "execution_count": 41,
     "metadata": {},
     "output_type": "execute_result"
    }
   ],
   "source": [
    "gosa = abs(499316-500000)/500000\n",
    "gosa"
   ]
  },
  {
   "cell_type": "code",
   "execution_count": null,
   "metadata": {},
   "outputs": [],
   "source": []
  },
  {
   "cell_type": "code",
   "execution_count": null,
   "metadata": {},
   "outputs": [],
   "source": []
  }
 ],
 "metadata": {
  "kernelspec": {
   "display_name": "Python 3",
   "language": "python",
   "name": "python3"
  },
  "language_info": {
   "codemirror_mode": {
    "name": "ipython",
    "version": 3
   },
   "file_extension": ".py",
   "mimetype": "text/x-python",
   "name": "python",
   "nbconvert_exporter": "python",
   "pygments_lexer": "ipython3",
   "version": "3.8.5"
  }
 },
 "nbformat": 4,
 "nbformat_minor": 4
}
