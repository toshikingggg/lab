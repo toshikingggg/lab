{
 "cells": [
  {
   "cell_type": "code",
   "execution_count": 1,
   "metadata": {},
   "outputs": [],
   "source": [
    "# %load_ext Cython"
   ]
  },
  {
   "cell_type": "code",
   "execution_count": 2,
   "metadata": {},
   "outputs": [],
   "source": [
    "# import sys\n",
    "# sys.version"
   ]
  },
  {
   "cell_type": "markdown",
   "metadata": {},
   "source": [
    "- histgramで表示するなら光線の本数いらないかも"
   ]
  },
  {
   "cell_type": "code",
   "execution_count": 23,
   "metadata": {},
   "outputs": [],
   "source": [
    "import matplotlib.pyplot as plt\n",
    "import matplotlib.patches as patches\n",
    "import pandas as pd\n",
    "import time \n",
    "import numpy as np"
   ]
  },
  {
   "cell_type": "code",
   "execution_count": 24,
   "metadata": {},
   "outputs": [],
   "source": [
    "# %%cython\n",
    "#透過距離計算用プログラム\n",
    "#x軸に沿ったスリットの平行移動を考える\n",
    "def light_receiving_t_d(gradient , intercept, x_k, y_k, distance1, distance2, slit1, slit2, r_d):\n",
    "    \n",
    "    #スリットの位置の定義\n",
    "    #配列制作用\n",
    "    const = r_d\n",
    "    i = 0\n",
    "    x1y1 = [[0 for i in range(2)] for i in range(const*2 +1)]\n",
    "#     x1y1 = np.zeros((const*2 +1,2))\n",
    "    x2y2 = [[0 for i in range(2)] for i in range(const*2 +1)]\n",
    "#     x2y2 = np.zeros((const*2 +1,2))\n",
    "    #とりあえず外径の　1.5倍外\n",
    "    \n",
    "    #ここおかしくね？？？？\n",
    "    for d in [tmp*0.1 for tmp in range(-const, const+1)]:\n",
    "        x1 = d\n",
    "        y1 = -distance1\n",
    "        x2 = d\n",
    "        y2 = -distance2\n",
    "        x1y1[i][0] = x1\n",
    "        x1y1[i][1] = y1\n",
    "        x2y2[i][0] = x2\n",
    "        x2y2[i][1] = y2\n",
    "        i += 1 \n",
    "\n",
    "\n",
    "    count_light = [0] * (const *2 + 1)\n",
    "    \n",
    "    cnt_slit1 = 0\n",
    "    cnt_slit2 = 0\n",
    "    \n",
    "    count_x = []\n",
    "    count_y = []\n",
    "    \n",
    "    #透過距離\n",
    "    distance_t = [i for i in range(const * 2 + 1)]\n",
    "#     distance_t = np.arange(const * 2 + 1)\n",
    "    #ここのとり方を変える\n",
    "    #zip使うと遅くなる？→普通のforループに書き直しても良いかも\n",
    "    for g, i, xk, yk in zip(gradient, intercept, x_k, y_k):\n",
    "        if yk == 0:\n",
    "            continue\n",
    "        for j in range(-const, const +1): #-x,xで動かす\n",
    "            #スリットと,光線の交点\n",
    "            a = 0\n",
    "            b = x1y1[j][1]\n",
    "            x = (i - b)/(a - g)\n",
    "            #スリット幅(斜めver)\n",
    "            s_d = slit1/2\n",
    "            #1つ目のスリットを超えられるかどうか\n",
    "            ##この条件がおかしそう\n",
    "            if x < x1y1[j][0] + s_d and x1y1[j][0] - s_d < x:\n",
    "                #2つめの条件に変更\n",
    "                #ここの計算間違っている説あり（要確認)\n",
    "                b = x2y2[j][1]\n",
    "                x = (i - b)/(a - g)\n",
    "                s_d = slit2/2\n",
    "                cnt_slit1 += 1\n",
    "                #2つ目のスリットを超えられるかどうか\n",
    "                if x < x2y2[j][0] + s_d and x2y2[j][0] - s_d < x:\n",
    "                    cnt_slit2 += 1\n",
    "                    #光の本数をカウント\n",
    "                    count_light[j] += 1\n",
    "                    count_x.append(x)\n",
    "                    y = g*x + i\n",
    "                    count_y.append(y)\n",
    "                    \n",
    "                    \n",
    "    return count_light, distance_t, count_x, count_y\n",
    "                    "
   ]
  },
  {
   "cell_type": "code",
   "execution_count": null,
   "metadata": {},
   "outputs": [],
   "source": []
  },
  {
   "cell_type": "code",
   "execution_count": 25,
   "metadata": {},
   "outputs": [],
   "source": [
    "#高速化を考える"
   ]
  },
  {
   "cell_type": "code",
   "execution_count": 26,
   "metadata": {},
   "outputs": [],
   "source": [
    "#透過角 を求めるための回転装置をもしたシミュレーション\n",
    "#90度だけで良さそう\n",
    "#全ての直線データをぶちこむ\n",
    "#外周座標は最後の透過角を求めるために必要。\n",
    "# import time\n",
    "# %%cython\n",
    "#回転中心が違うぽい\n",
    "def light_receiving_t_a(gradient ,intercept, x_k, y_k, distance1, distance2, slit1, slit2, center_x, center_y):\n",
    "    #print(\"値が入ってるか？\",gradient[0],intercept[0],x_k[0],y_k[0],distance1,distance2)\n",
    "#     t1 = time.time() \n",
    "    \n",
    "    #まずslitの位置を定義 下準備\n",
    "    #円管とスリットの距離の定義が必要\n",
    "#     distance1 = 1\n",
    "#     distance2 = 1\n",
    "    i = 0\n",
    "    x1y1 = np.zeros((900,2))\n",
    "    x2y2 = np.zeros((900,2))\n",
    "    s_sita = np.zeros(1801)\n",
    "    for sita in [tmp*0.1 for tmp in range(900, 1800)]:\n",
    "        x1 = distance1*np.cos(np.deg2rad(sita)) + center_x\n",
    "        y1 = distance1*np.sin(np.deg2rad(sita)) + center_y\n",
    "        x2 = distance2*np.cos(np.deg2rad(sita)) + center_x\n",
    "        y2 = distance2*np.sin(np.deg2rad(sita)) + center_y\n",
    "        similar_sita = abs(np.arctan(np.tan(abs(x1)/abs(y1))))\n",
    "        x1y1[i][0] = x1\n",
    "        x1y1[i][1] = y1\n",
    "        x2y2[i][0] = x2\n",
    "        x2y2[i][1] = y2\n",
    "        s_sita[i] = similar_sita\n",
    "        i += 1\n",
    "        \n",
    "    # 経過時間を表示\n",
    "#     t2 = time.time()\n",
    "#     elapsed_time_1 = t2-t1\n",
    "#     print(f\"経過時間：{elapsed_time_1}\",\"秒\")\n",
    "#     print(\"---------------下準備終了！------------------\")\n",
    "    \n",
    "#     t3 = time.time() \n",
    "    #スリット幅を入力\n",
    "    #need to change\n",
    "#     slit1 = 1\n",
    "#     slit2 = 1\n",
    "    #ある角度における光線の本数カウント用\n",
    "    count_light = [0] * 900\n",
    "    count_x = [0] * 900\n",
    "    count_y = [0] * 900\n",
    "#     t_angle = [0] * 900\n",
    "    t_angle = [0] * 900\n",
    "    \n",
    "    cnt_slit1 = 0\n",
    "    cnt_slit2 = 0\n",
    "    count_x = []\n",
    "    count_y = []\n",
    "    \n",
    "    for g, i, xk, yk in zip(gradient, intercept, x_k, y_k):\n",
    "        if yk == 0:\n",
    "            continue\n",
    "        for j in range(900): #90度分の回転を表す\n",
    "            #スリットの傾きと,光線の交点\n",
    "            a = -np.tan(s_sita[j])\n",
    "            b = x1y1[j][1] - a*x1y1[j][0]\n",
    "            x = (i - b)/(a - g)\n",
    "            #スリット幅(斜めver)\n",
    "            s_d = slit1*np.cos(abs(s_sita[j]))/2\n",
    "            #1つ目のスリットを超えられるかどうか\n",
    "            if x < x1y1[j][0] + s_d and x1y1[j][0] - s_d < x:\n",
    "                #2つめの条件に変更\n",
    "                b = x2y2[j][1] - a*x2y2[j][0]\n",
    "                x = (i - b)/(a - g)\n",
    "                s_d = slit2*np.cos(abs(s_sita[j]))/2\n",
    "                cnt_slit1 += 1\n",
    "                #2つ目のスリットを超えられるかどうか\n",
    "                if x < x2y2[j][0] + s_d and x2y2[j][0] - s_d < x:\n",
    "                    cnt_slit2 += 1\n",
    "                    #光の本数をカウント\n",
    "                    count_light[j] += 1\n",
    "#                     #透過角算出用のx,yもおいておきたい→平均orとりあえずmin,maxの2つをキープしておいて考える。\n",
    "#                     #怪しい、場合によってはmaxminが大幅に離れてる？→ここはどのへんに値が偏っているのかを見てもいいかも一旦保留\n",
    "                    \n",
    "#                     ##ここで透過角を計算する\n",
    "#                     count_x[j] += xk\n",
    "#                     count_y[j] += yk\n",
    "                    #ここで透過角を入れていけば良いんじゃないだろうか？\n",
    "#                     x_slit2 = x2y2[j][0]\n",
    "#                     y_slit2 = x2y2[j][1]\n",
    "                    count_x.append(x)\n",
    "                    y = g*x + i\n",
    "                    count_y.append(y)\n",
    "                    a = y - yk\n",
    "                    b = xk - x\n",
    "                    c = 1\n",
    "                    d = 0\n",
    "                    t_angle[j] = np.rad2deg(np.arctan(np.tan(abs(a*d - b*c)/abs(a*c + b*d))))\n",
    "    \n",
    "    # 経過時間を表示\n",
    "#     t4 = time.time()\n",
    "#     elapsed_time_2 = t4-t3\n",
    "#     print(f\"経過時間：{elapsed_time_2}\",\"秒\")\n",
    "#     print(\"---------------光線の処理完了！------------------\")\n",
    "#     print(\"スリット1枚目を超えられた本数\",cnt_slit1)\n",
    "#     print(\"スリット2枚目を超えられた本数\",cnt_slit2)\n",
    "    #print(\"光線の本数は？\",sum(count_light))\n",
    "    \n",
    "#     t5 = time.time()\n",
    "    #jごとの透過角を求める必要がある(横軸)\n",
    "#     for j in range(900):\n",
    "#         #ある角度jのときのスリットを透過する外周の点の平均\n",
    "#         if count_light[j] == 0:\n",
    "#             continue\n",
    "#         x_g = count_x[j]/count_light[j]\n",
    "#         y_g = count_y[j]/count_light[j]\n",
    "#         x_slit2 = x2y2[j][0]\n",
    "#         y_slit2 = x2y2[j][1]\n",
    "#         a = y_slit2 - y_g\n",
    "#         b = x_g - x_slit2\n",
    "#         c = 1\n",
    "#         d = 0\n",
    "#         t_angle[j] = np.rad2deg(np.arctan(np.tan(abs(a*d - b*c)/abs(a*c + b*d))))\n",
    "        \n",
    "    # 経過時間を表示\n",
    "#     t6 = time.time()\n",
    "#     elapsed_time_3 = t6-t5\n",
    "#     print(f\"経過時間：{elapsed_time_3}\",\"秒\")\n",
    "#     print(\"---------------透過角算出！------------------\")\n",
    "    \n",
    "#     print(\"総実行時間:\",(elapsed_time_1+elapsed_time_2+elapsed_time_3)/60,\"分\")\n",
    "    \n",
    "    \n",
    "    return count_light, t_angle, count_x, count_y"
   ]
  },
  {
   "cell_type": "code",
   "execution_count": null,
   "metadata": {},
   "outputs": [],
   "source": []
  },
  {
   "cell_type": "code",
   "execution_count": null,
   "metadata": {
    "collapsed": true,
    "jupyter": {
     "outputs_hidden": true,
     "source_hidden": true
    }
   },
   "outputs": [
    {
     "data": {
      "image/png": "[encoded data removed]",
      "text/plain": [
       "<Figure size 864x432 with 2 Axes>"
      ]
     },
     "metadata": {
      "needs_background": "light"
     },
     "output_type": "display_data"
    },
    {
     "data": {
      "image/png": "[encoded data removed]",
      "text/plain": [
       "<Figure size 864x432 with 2 Axes>"
      ]
     },
     "metadata": {
      "needs_background": "light"
     },
     "output_type": "display_data"
    },
    {
     "data": {
      "image/png": "[encoded data removed]",
      "text/plain": [
       "<Figure size 864x432 with 2 Axes>"
      ]
     },
     "metadata": {
      "needs_background": "light"
     },
     "output_type": "display_data"
    },
    {
     "data": {
      "image/png": "[encoded data removed]",
      "text/plain": [
       "<Figure size 864x432 with 2 Axes>"
      ]
     },
     "metadata": {
      "needs_background": "light"
     },
     "output_type": "display_data"
    }
   ],
   "source": [
    "import matplotlib.pyplot as plt\n",
    "import matplotlib.patches as patches\n",
    "import pandas as pd\n",
    "import time \n",
    "import numpy as np\n",
    "\n",
    "#need to change\n",
    "max_step = 3000\n",
    "for step in range(2000, max_step, 1000):\n",
    "    for threshold in [tmp*0.05 for tmp in range(1, 20)]:\n",
    "        r = step\n",
    "        r_i = step*threshold\n",
    "        r_i = round(r_i)\n",
    "        #1mm → 10000  0.2mm → 2000 0.05mm → 500\n",
    "        #円管とスリットの距離\n",
    "        d1 = 10000\n",
    "        d2 = d1*1.1\n",
    "        #スリット幅\n",
    "        s1 = 2000\n",
    "        s2 = 500\n",
    "        #複数のCSVファイルを順次読み込んでグラフを表示していく\n",
    "        df = pd.read_csv('./data_csv/dataset_r_i_{0}_r_{1}.csv'.format(r_i, r))\n",
    "        new_x_a_list = df['x'] \n",
    "        new_y_a_list = df['y']\n",
    "        gradient_list = df['gradient']\n",
    "        intercept_list = df['intercept']\n",
    "        light_num_a, toka_angle = light_receiving_t_a(gradient_list ,intercept_list, new_x_a_list, new_y_a_list, d1, d2,s1 ,s2)\n",
    "        \n",
    "        d1 = 50000\n",
    "        d2 = d1*1.1\n",
    "        light_num_d, distance = light_receiving_t_d(gradient_list ,intercept_list, new_x_a_list, new_y_a_list, d1, d2,s1 ,s2, r)\n",
    "        \n",
    "        fig = plt.figure(figsize=(12,6))\n",
    "#         fig.subplots_adjust(wspace=0.5)\n",
    "        ax1 = fig.add_subplot(1, 2, 1)\n",
    "        ax2 = fig.add_subplot(1, 2, 2)\n",
    "        ax1.set_xlim([0,90])\n",
    "        ax1.bar(toka_angle, light_num_a, width=1.0)\n",
    "        ax2.bar(distance, light_num_d, width=1.0)\n",
    "        ax1.set_title('Inner_diameter = {0}mm External_diameter = {1}mm'.format(r_i*2/10000, r*2/10000))\n",
    "        ax2.set_title('Inner_diameter = {0}mm External_diameter = {1}mm'.format(r_i*2/10000, r*2/10000))\n",
    "        ax1.set_xlabel('Transmission angle')\n",
    "        ax2.set_xlabel('Distance')\n",
    "        ax1.set_yticklabels([])\n",
    "#         ax2.set_yticklabels([])\n",
    "        ax1.tick_params(length=0)\n",
    "#         ax2.tick_params(length=0)\n",
    "        plt.show()"
   ]
  },
  {
   "cell_type": "code",
   "execution_count": null,
   "metadata": {},
   "outputs": [],
   "source": [
    "#透過角の最大値を計算するプログラム"
   ]
  },
  {
   "cell_type": "code",
   "execution_count": null,
   "metadata": {
    "collapsed": true,
    "jupyter": {
     "outputs_hidden": true
    }
   },
   "outputs": [
    {
     "name": "stdout",
     "output_type": "stream",
     "text": [
      "データ読み込み数: 74078\n",
      "経過時間： 0.001041245460510254 分\n",
      "---------------下準備終了！------------------\n",
      "透過角算出!\n",
      "経過時間： 5.209172471364339 分\n",
      "---------------------------------\n",
      "経過時間： 29.54135792652766 分\n",
      "---------------------------------\n",
      "データ読み込み数: 74078\n",
      "経過時間： 0.0007811665534973144 分\n",
      "---------------下準備終了！------------------\n",
      "透過角算出!\n",
      "経過時間： 5.170784997940063 分\n",
      "---------------------------------\n",
      "経過時間： 29.804702007770537 分\n",
      "---------------------------------\n",
      "データ読み込み数: 74078\n",
      "経過時間： 0.0010414918263753254 分\n",
      "---------------下準備終了！------------------\n",
      "透過角算出!\n",
      "経過時間： 5.218313332398733 分\n",
      "---------------------------------\n",
      "経過時間： 29.90754415988922 分\n",
      "---------------------------------\n",
      "データ読み込み数: 74078\n",
      "経過時間： 0.0007810513178507487 分\n",
      "---------------下準備終了！------------------\n",
      "透過角算出!\n",
      "経過時間： 5.325246409575144 分\n",
      "---------------------------------\n",
      "経過時間： 29.853891094525654 分\n",
      "---------------------------------\n"
     ]
    },
    {
     "name": "stderr",
     "output_type": "stream",
     "text": [
      "C:\\Users\\mpl\\anaconda3\\lib\\site-packages\\seaborn\\distributions.py:369: UserWarning: Default bandwidth for data is 0; skipping density estimation.\n",
      "  warnings.warn(msg, UserWarning)\n"
     ]
    },
    {
     "name": "stdout",
     "output_type": "stream",
     "text": [
      "データ読み込み数: 74078\n",
      "経過時間： 0.0010418971379597983 分\n",
      "---------------下準備終了！------------------\n",
      "透過角算出!\n",
      "経過時間： 5.189328587055206 分\n",
      "---------------------------------\n",
      "経過時間： 29.37872938712438 分\n",
      "---------------------------------\n"
     ]
    },
    {
     "name": "stderr",
     "output_type": "stream",
     "text": [
      "C:\\Users\\mpl\\anaconda3\\lib\\site-packages\\seaborn\\distributions.py:369: UserWarning: Default bandwidth for data is 0; skipping density estimation.\n",
      "  warnings.warn(msg, UserWarning)\n"
     ]
    },
    {
     "name": "stdout",
     "output_type": "stream",
     "text": [
      "データ読み込み数: 74078\n",
      "経過時間： 0.0007810672124226888 分\n",
      "---------------下準備終了！------------------\n",
      "透過角算出!\n",
      "経過時間： 5.096682119369507 分\n",
      "---------------------------------\n",
      "経過時間： 29.393738373120627 分\n",
      "---------------------------------\n"
     ]
    },
    {
     "name": "stderr",
     "output_type": "stream",
     "text": [
      "C:\\Users\\mpl\\anaconda3\\lib\\site-packages\\seaborn\\distributions.py:369: UserWarning: Default bandwidth for data is 0; skipping density estimation.\n",
      "  warnings.warn(msg, UserWarning)\n"
     ]
    },
    {
     "name": "stdout",
     "output_type": "stream",
     "text": [
      "データ読み込み数: 74078\n",
      "経過時間： 0.0007813334465026856 分\n",
      "---------------下準備終了！------------------\n",
      "透過角算出!\n",
      "経過時間： 5.208686165014902 分\n",
      "---------------------------------\n",
      "経過時間： 29.099988981088003 分\n",
      "---------------------------------\n"
     ]
    },
    {
     "name": "stderr",
     "output_type": "stream",
     "text": [
      "C:\\Users\\mpl\\anaconda3\\lib\\site-packages\\seaborn\\distributions.py:369: UserWarning: Default bandwidth for data is 0; skipping density estimation.\n",
      "  warnings.warn(msg, UserWarning)\n"
     ]
    },
    {
     "name": "stdout",
     "output_type": "stream",
     "text": [
      "データ読み込み数: 74078\n",
      "経過時間： 0.0007809797922770182 分\n",
      "---------------下準備終了！------------------\n",
      "透過角算出!\n",
      "経過時間： 5.155220186710357 分\n",
      "---------------------------------\n",
      "経過時間： 29.55112603108088 分\n",
      "---------------------------------\n"
     ]
    },
    {
     "name": "stderr",
     "output_type": "stream",
     "text": [
      "C:\\Users\\mpl\\anaconda3\\lib\\site-packages\\seaborn\\distributions.py:369: UserWarning: Default bandwidth for data is 0; skipping density estimation.\n",
      "  warnings.warn(msg, UserWarning)\n"
     ]
    },
    {
     "name": "stdout",
     "output_type": "stream",
     "text": [
      "データ読み込み数: 74078\n",
      "経過時間： 0.0010419567426045737 分\n",
      "---------------下準備終了！------------------\n",
      "透過角算出!\n",
      "経過時間： 5.257517286141714 分\n",
      "---------------------------------\n",
      "経過時間： 28.902247524261476 分\n",
      "---------------------------------\n"
     ]
    },
    {
     "name": "stderr",
     "output_type": "stream",
     "text": [
      "C:\\Users\\mpl\\anaconda3\\lib\\site-packages\\seaborn\\distributions.py:369: UserWarning: Default bandwidth for data is 0; skipping density estimation.\n",
      "  warnings.warn(msg, UserWarning)\n"
     ]
    },
    {
     "name": "stdout",
     "output_type": "stream",
     "text": [
      "データ読み込み数: 74078\n",
      "経過時間： 0.0010410745938618977 分\n",
      "---------------下準備終了！------------------\n",
      "透過角算出!\n",
      "経過時間： 5.211340459187825 分\n",
      "---------------------------------\n",
      "経過時間： 29.019214701652526 分\n",
      "---------------------------------\n"
     ]
    },
    {
     "name": "stderr",
     "output_type": "stream",
     "text": [
      "C:\\Users\\mpl\\anaconda3\\lib\\site-packages\\seaborn\\distributions.py:369: UserWarning: Default bandwidth for data is 0; skipping density estimation.\n",
      "  warnings.warn(msg, UserWarning)\n"
     ]
    },
    {
     "name": "stdout",
     "output_type": "stream",
     "text": [
      "データ読み込み数: 74078\n",
      "経過時間： 0.0007805903752644857 分\n",
      "---------------下準備終了！------------------\n",
      "透過角算出!\n",
      "経過時間： 5.1987797498703 分\n",
      "---------------------------------\n",
      "経過時間： 29.10478704770406 分\n",
      "---------------------------------\n"
     ]
    },
    {
     "name": "stderr",
     "output_type": "stream",
     "text": [
      "<ipython-input-4-6464427fb4d8>:55: RuntimeWarning: More than 20 figures have been opened. Figures created through the pyplot interface (`matplotlib.pyplot.figure`) are retained until explicitly closed and may consume too much memory. (To control this warning, see the rcParam `figure.max_open_warning`).\n",
      "  fig = plt.figure(figsize=(12,6))\n",
      "<ipython-input-4-6464427fb4d8>:73: RuntimeWarning: More than 20 figures have been opened. Figures created through the pyplot interface (`matplotlib.pyplot.figure`) are retained until explicitly closed and may consume too much memory. (To control this warning, see the rcParam `figure.max_open_warning`).\n",
      "  fig2 = plt.figure(figsize=(12,6))\n",
      "C:\\Users\\mpl\\anaconda3\\lib\\site-packages\\seaborn\\distributions.py:369: UserWarning: Default bandwidth for data is 0; skipping density estimation.\n",
      "  warnings.warn(msg, UserWarning)\n"
     ]
    },
    {
     "name": "stdout",
     "output_type": "stream",
     "text": [
      "データ読み込み数: 74078\n",
      "経過時間： 0.0007814606030782064 分\n",
      "---------------下準備終了！------------------\n",
      "透過角算出!\n",
      "経過時間： 5.1289114356040955 分\n",
      "---------------------------------\n",
      "経過時間： 29.172347589333853 分\n",
      "---------------------------------\n"
     ]
    },
    {
     "name": "stderr",
     "output_type": "stream",
     "text": [
      "<ipython-input-4-6464427fb4d8>:55: RuntimeWarning: More than 20 figures have been opened. Figures created through the pyplot interface (`matplotlib.pyplot.figure`) are retained until explicitly closed and may consume too much memory. (To control this warning, see the rcParam `figure.max_open_warning`).\n",
      "  fig = plt.figure(figsize=(12,6))\n",
      "<ipython-input-4-6464427fb4d8>:73: RuntimeWarning: More than 20 figures have been opened. Figures created through the pyplot interface (`matplotlib.pyplot.figure`) are retained until explicitly closed and may consume too much memory. (To control this warning, see the rcParam `figure.max_open_warning`).\n",
      "  fig2 = plt.figure(figsize=(12,6))\n",
      "C:\\Users\\mpl\\anaconda3\\lib\\site-packages\\seaborn\\distributions.py:369: UserWarning: Default bandwidth for data is 0; skipping density estimation.\n",
      "  warnings.warn(msg, UserWarning)\n"
     ]
    },
    {
     "name": "stdout",
     "output_type": "stream",
     "text": [
      "データ読み込み数: 74078\n",
      "経過時間： 0.0007810393969217936 分\n",
      "---------------下準備終了！------------------\n",
      "透過角算出!\n",
      "経過時間： 5.187312912940979 分\n",
      "---------------------------------\n",
      "経過時間： 29.20923901796341 分\n",
      "---------------------------------\n"
     ]
    },
    {
     "name": "stderr",
     "output_type": "stream",
     "text": [
      "<ipython-input-4-6464427fb4d8>:55: RuntimeWarning: More than 20 figures have been opened. Figures created through the pyplot interface (`matplotlib.pyplot.figure`) are retained until explicitly closed and may consume too much memory. (To control this warning, see the rcParam `figure.max_open_warning`).\n",
      "  fig = plt.figure(figsize=(12,6))\n",
      "<ipython-input-4-6464427fb4d8>:73: RuntimeWarning: More than 20 figures have been opened. Figures created through the pyplot interface (`matplotlib.pyplot.figure`) are retained until explicitly closed and may consume too much memory. (To control this warning, see the rcParam `figure.max_open_warning`).\n",
      "  fig2 = plt.figure(figsize=(12,6))\n",
      "C:\\Users\\mpl\\anaconda3\\lib\\site-packages\\seaborn\\distributions.py:369: UserWarning: Default bandwidth for data is 0; skipping density estimation.\n",
      "  warnings.warn(msg, UserWarning)\n"
     ]
    },
    {
     "name": "stdout",
     "output_type": "stream",
     "text": [
      "データ読み込み数: 74078\n",
      "経過時間： 0.00104141632715861 分\n",
      "---------------下準備終了！------------------\n",
      "透過角算出!\n",
      "経過時間： 5.1835945049921675 分\n",
      "---------------------------------\n",
      "経過時間： 28.50173265536626 分\n",
      "---------------------------------\n"
     ]
    },
    {
     "name": "stderr",
     "output_type": "stream",
     "text": [
      "<ipython-input-4-6464427fb4d8>:55: RuntimeWarning: More than 20 figures have been opened. Figures created through the pyplot interface (`matplotlib.pyplot.figure`) are retained until explicitly closed and may consume too much memory. (To control this warning, see the rcParam `figure.max_open_warning`).\n",
      "  fig = plt.figure(figsize=(12,6))\n",
      "<ipython-input-4-6464427fb4d8>:73: RuntimeWarning: More than 20 figures have been opened. Figures created through the pyplot interface (`matplotlib.pyplot.figure`) are retained until explicitly closed and may consume too much memory. (To control this warning, see the rcParam `figure.max_open_warning`).\n",
      "  fig2 = plt.figure(figsize=(12,6))\n",
      "C:\\Users\\mpl\\anaconda3\\lib\\site-packages\\seaborn\\distributions.py:369: UserWarning: Default bandwidth for data is 0; skipping density estimation.\n",
      "  warnings.warn(msg, UserWarning)\n"
     ]
    },
    {
     "name": "stdout",
     "output_type": "stream",
     "text": [
      "データ読み込み数: 74078\n",
      "経過時間： 0.0007810751597086588 分\n",
      "---------------下準備終了！------------------\n",
      "透過角算出!\n",
      "経過時間： 5.259688317775726 分\n",
      "---------------------------------\n",
      "経過時間： 29.305788270632426 分\n",
      "---------------------------------\n"
     ]
    },
    {
     "name": "stderr",
     "output_type": "stream",
     "text": [
      "<ipython-input-4-6464427fb4d8>:55: RuntimeWarning: More than 20 figures have been opened. Figures created through the pyplot interface (`matplotlib.pyplot.figure`) are retained until explicitly closed and may consume too much memory. (To control this warning, see the rcParam `figure.max_open_warning`).\n",
      "  fig = plt.figure(figsize=(12,6))\n",
      "<ipython-input-4-6464427fb4d8>:73: RuntimeWarning: More than 20 figures have been opened. Figures created through the pyplot interface (`matplotlib.pyplot.figure`) are retained until explicitly closed and may consume too much memory. (To control this warning, see the rcParam `figure.max_open_warning`).\n",
      "  fig2 = plt.figure(figsize=(12,6))\n",
      "C:\\Users\\mpl\\anaconda3\\lib\\site-packages\\seaborn\\distributions.py:369: UserWarning: Default bandwidth for data is 0; skipping density estimation.\n",
      "  warnings.warn(msg, UserWarning)\n"
     ]
    },
    {
     "name": "stdout",
     "output_type": "stream",
     "text": [
      "データ読み込み数: 74078\n",
      "経過時間： 0.0007810632387797038 分\n",
      "---------------下準備終了！------------------\n",
      "透過角算出!\n",
      "経過時間： 5.228045618534088 分\n",
      "---------------------------------\n",
      "経過時間： 29.595226919651033 分\n",
      "---------------------------------\n"
     ]
    },
    {
     "name": "stderr",
     "output_type": "stream",
     "text": [
      "<ipython-input-4-6464427fb4d8>:55: RuntimeWarning: More than 20 figures have been opened. Figures created through the pyplot interface (`matplotlib.pyplot.figure`) are retained until explicitly closed and may consume too much memory. (To control this warning, see the rcParam `figure.max_open_warning`).\n",
      "  fig = plt.figure(figsize=(12,6))\n",
      "<ipython-input-4-6464427fb4d8>:73: RuntimeWarning: More than 20 figures have been opened. Figures created through the pyplot interface (`matplotlib.pyplot.figure`) are retained until explicitly closed and may consume too much memory. (To control this warning, see the rcParam `figure.max_open_warning`).\n",
      "  fig2 = plt.figure(figsize=(12,6))\n",
      "C:\\Users\\mpl\\anaconda3\\lib\\site-packages\\seaborn\\distributions.py:369: UserWarning: Default bandwidth for data is 0; skipping density estimation.\n",
      "  warnings.warn(msg, UserWarning)\n"
     ]
    },
    {
     "name": "stdout",
     "output_type": "stream",
     "text": [
      "データ読み込み数: 74078\n",
      "経過時間： 0.0007815440495808919 分\n",
      "---------------下準備終了！------------------\n",
      "透過角算出!\n",
      "経過時間： 5.164021293322246 分\n",
      "---------------------------------\n",
      "経過時間： 29.523136564095815 分\n",
      "---------------------------------\n"
     ]
    },
    {
     "name": "stderr",
     "output_type": "stream",
     "text": [
      "<ipython-input-4-6464427fb4d8>:55: RuntimeWarning: More than 20 figures have been opened. Figures created through the pyplot interface (`matplotlib.pyplot.figure`) are retained until explicitly closed and may consume too much memory. (To control this warning, see the rcParam `figure.max_open_warning`).\n",
      "  fig = plt.figure(figsize=(12,6))\n",
      "<ipython-input-4-6464427fb4d8>:73: RuntimeWarning: More than 20 figures have been opened. Figures created through the pyplot interface (`matplotlib.pyplot.figure`) are retained until explicitly closed and may consume too much memory. (To control this warning, see the rcParam `figure.max_open_warning`).\n",
      "  fig2 = plt.figure(figsize=(12,6))\n",
      "C:\\Users\\mpl\\anaconda3\\lib\\site-packages\\seaborn\\distributions.py:369: UserWarning: Default bandwidth for data is 0; skipping density estimation.\n",
      "  warnings.warn(msg, UserWarning)\n"
     ]
    },
    {
     "name": "stdout",
     "output_type": "stream",
     "text": [
      "データ読み込み数: 74078\n",
      "経過時間： 0.000781087080637614 分\n",
      "---------------下準備終了！------------------\n",
      "透過角算出!\n",
      "経過時間： 5.190909886360169 分\n",
      "---------------------------------\n",
      "経過時間： 30.833429753780365 分\n",
      "---------------------------------\n"
     ]
    },
    {
     "name": "stderr",
     "output_type": "stream",
     "text": [
      "<ipython-input-4-6464427fb4d8>:55: RuntimeWarning: More than 20 figures have been opened. Figures created through the pyplot interface (`matplotlib.pyplot.figure`) are retained until explicitly closed and may consume too much memory. (To control this warning, see the rcParam `figure.max_open_warning`).\n",
      "  fig = plt.figure(figsize=(12,6))\n",
      "<ipython-input-4-6464427fb4d8>:73: RuntimeWarning: More than 20 figures have been opened. Figures created through the pyplot interface (`matplotlib.pyplot.figure`) are retained until explicitly closed and may consume too much memory. (To control this warning, see the rcParam `figure.max_open_warning`).\n",
      "  fig2 = plt.figure(figsize=(12,6))\n",
      "C:\\Users\\mpl\\anaconda3\\lib\\site-packages\\seaborn\\distributions.py:369: UserWarning: Default bandwidth for data is 0; skipping density estimation.\n",
      "  warnings.warn(msg, UserWarning)\n"
     ]
    },
    {
     "name": "stdout",
     "output_type": "stream",
     "text": [
      "データ読み込み数: 74078\n",
      "経過時間： 0.0008428136507670085 分\n",
      "---------------下準備終了！------------------\n",
      "透過角算出!\n",
      "経過時間： 5.300419147809347 分\n",
      "---------------------------------\n",
      "経過時間： 30.646495970090232 分\n",
      "---------------------------------\n"
     ]
    },
    {
     "name": "stderr",
     "output_type": "stream",
     "text": [
      "<ipython-input-4-6464427fb4d8>:55: RuntimeWarning: More than 20 figures have been opened. Figures created through the pyplot interface (`matplotlib.pyplot.figure`) are retained until explicitly closed and may consume too much memory. (To control this warning, see the rcParam `figure.max_open_warning`).\n",
      "  fig = plt.figure(figsize=(12,6))\n",
      "<ipython-input-4-6464427fb4d8>:73: RuntimeWarning: More than 20 figures have been opened. Figures created through the pyplot interface (`matplotlib.pyplot.figure`) are retained until explicitly closed and may consume too much memory. (To control this warning, see the rcParam `figure.max_open_warning`).\n",
      "  fig2 = plt.figure(figsize=(12,6))\n",
      "C:\\Users\\mpl\\anaconda3\\lib\\site-packages\\seaborn\\distributions.py:369: UserWarning: Default bandwidth for data is 0; skipping density estimation.\n",
      "  warnings.warn(msg, UserWarning)\n"
     ]
    },
    {
     "name": "stdout",
     "output_type": "stream",
     "text": [
      "データ読み込み数: 74078\n",
      "経過時間： 0.0007136821746826172 分\n",
      "---------------下準備終了！------------------\n",
      "透過角算出!\n",
      "経過時間： 5.325324149926503 分\n",
      "---------------------------------\n",
      "経過時間： 31.11915232737859 分\n",
      "---------------------------------\n"
     ]
    },
    {
     "name": "stderr",
     "output_type": "stream",
     "text": [
      "<ipython-input-4-6464427fb4d8>:55: RuntimeWarning: More than 20 figures have been opened. Figures created through the pyplot interface (`matplotlib.pyplot.figure`) are retained until explicitly closed and may consume too much memory. (To control this warning, see the rcParam `figure.max_open_warning`).\n",
      "  fig = plt.figure(figsize=(12,6))\n",
      "<ipython-input-4-6464427fb4d8>:73: RuntimeWarning: More than 20 figures have been opened. Figures created through the pyplot interface (`matplotlib.pyplot.figure`) are retained until explicitly closed and may consume too much memory. (To control this warning, see the rcParam `figure.max_open_warning`).\n",
      "  fig2 = plt.figure(figsize=(12,6))\n",
      "C:\\Users\\mpl\\anaconda3\\lib\\site-packages\\seaborn\\distributions.py:369: UserWarning: Default bandwidth for data is 0; skipping density estimation.\n",
      "  warnings.warn(msg, UserWarning)\n"
     ]
    },
    {
     "name": "stdout",
     "output_type": "stream",
     "text": [
      "データ読み込み数: 74078\n",
      "経過時間： 0.0006885091463724772 分\n",
      "---------------下準備終了！------------------\n",
      "透過角算出!\n",
      "経過時間： 5.279603715737661 分\n",
      "---------------------------------\n",
      "経過時間： 31.010408449172974 分\n",
      "---------------------------------\n"
     ]
    },
    {
     "name": "stderr",
     "output_type": "stream",
     "text": [
      "<ipython-input-4-6464427fb4d8>:55: RuntimeWarning: More than 20 figures have been opened. Figures created through the pyplot interface (`matplotlib.pyplot.figure`) are retained until explicitly closed and may consume too much memory. (To control this warning, see the rcParam `figure.max_open_warning`).\n",
      "  fig = plt.figure(figsize=(12,6))\n",
      "<ipython-input-4-6464427fb4d8>:73: RuntimeWarning: More than 20 figures have been opened. Figures created through the pyplot interface (`matplotlib.pyplot.figure`) are retained until explicitly closed and may consume too much memory. (To control this warning, see the rcParam `figure.max_open_warning`).\n",
      "  fig2 = plt.figure(figsize=(12,6))\n",
      "C:\\Users\\mpl\\anaconda3\\lib\\site-packages\\seaborn\\distributions.py:369: UserWarning: Default bandwidth for data is 0; skipping density estimation.\n",
      "  warnings.warn(msg, UserWarning)\n"
     ]
    },
    {
     "name": "stdout",
     "output_type": "stream",
     "text": [
      "データ読み込み数: 74078\n",
      "経過時間： 0.0008483052253723145 分\n",
      "---------------下準備終了！------------------\n",
      "透過角算出!\n",
      "経過時間： 5.346112608909607 分\n",
      "---------------------------------\n",
      "経過時間： 30.90055196682612 分\n",
      "---------------------------------\n"
     ]
    },
    {
     "name": "stderr",
     "output_type": "stream",
     "text": [
      "<ipython-input-4-6464427fb4d8>:55: RuntimeWarning: More than 20 figures have been opened. Figures created through the pyplot interface (`matplotlib.pyplot.figure`) are retained until explicitly closed and may consume too much memory. (To control this warning, see the rcParam `figure.max_open_warning`).\n",
      "  fig = plt.figure(figsize=(12,6))\n",
      "<ipython-input-4-6464427fb4d8>:73: RuntimeWarning: More than 20 figures have been opened. Figures created through the pyplot interface (`matplotlib.pyplot.figure`) are retained until explicitly closed and may consume too much memory. (To control this warning, see the rcParam `figure.max_open_warning`).\n",
      "  fig2 = plt.figure(figsize=(12,6))\n",
      "C:\\Users\\mpl\\anaconda3\\lib\\site-packages\\seaborn\\distributions.py:369: UserWarning: Default bandwidth for data is 0; skipping density estimation.\n",
      "  warnings.warn(msg, UserWarning)\n"
     ]
    },
    {
     "name": "stdout",
     "output_type": "stream",
     "text": [
      "データ読み込み数: 74078\n",
      "経過時間： 0.000781087080637614 分\n",
      "---------------下準備終了！------------------\n",
      "透過角算出!\n",
      "経過時間： 5.256890547275543 分\n",
      "---------------------------------\n",
      "経過時間： 30.6048416018486 分\n",
      "---------------------------------\n"
     ]
    },
    {
     "name": "stderr",
     "output_type": "stream",
     "text": [
      "<ipython-input-4-6464427fb4d8>:55: RuntimeWarning: More than 20 figures have been opened. Figures created through the pyplot interface (`matplotlib.pyplot.figure`) are retained until explicitly closed and may consume too much memory. (To control this warning, see the rcParam `figure.max_open_warning`).\n",
      "  fig = plt.figure(figsize=(12,6))\n",
      "<ipython-input-4-6464427fb4d8>:73: RuntimeWarning: More than 20 figures have been opened. Figures created through the pyplot interface (`matplotlib.pyplot.figure`) are retained until explicitly closed and may consume too much memory. (To control this warning, see the rcParam `figure.max_open_warning`).\n",
      "  fig2 = plt.figure(figsize=(12,6))\n",
      "C:\\Users\\mpl\\anaconda3\\lib\\site-packages\\seaborn\\distributions.py:369: UserWarning: Default bandwidth for data is 0; skipping density estimation.\n",
      "  warnings.warn(msg, UserWarning)\n"
     ]
    },
    {
     "name": "stdout",
     "output_type": "stream",
     "text": [
      "データ読み込み数: 74078\n",
      "経過時間： 0.0008128960927327474 分\n",
      "---------------下準備終了！------------------\n",
      "透過角算出!\n",
      "経過時間： 5.339488923549652 分\n",
      "---------------------------------\n",
      "経過時間： 30.71998033920924 分\n",
      "---------------------------------\n"
     ]
    },
    {
     "name": "stderr",
     "output_type": "stream",
     "text": [
      "<ipython-input-4-6464427fb4d8>:55: RuntimeWarning: More than 20 figures have been opened. Figures created through the pyplot interface (`matplotlib.pyplot.figure`) are retained until explicitly closed and may consume too much memory. (To control this warning, see the rcParam `figure.max_open_warning`).\n",
      "  fig = plt.figure(figsize=(12,6))\n",
      "<ipython-input-4-6464427fb4d8>:73: RuntimeWarning: More than 20 figures have been opened. Figures created through the pyplot interface (`matplotlib.pyplot.figure`) are retained until explicitly closed and may consume too much memory. (To control this warning, see the rcParam `figure.max_open_warning`).\n",
      "  fig2 = plt.figure(figsize=(12,6))\n",
      "C:\\Users\\mpl\\anaconda3\\lib\\site-packages\\seaborn\\distributions.py:369: UserWarning: Default bandwidth for data is 0; skipping density estimation.\n",
      "  warnings.warn(msg, UserWarning)\n"
     ]
    },
    {
     "name": "stdout",
     "output_type": "stream",
     "text": [
      "データ読み込み数: 74078\n",
      "経過時間： 0.0008471528689066569 分\n",
      "---------------下準備終了！------------------\n",
      "透過角算出!\n",
      "経過時間： 5.29805368979772 分\n",
      "---------------------------------\n",
      "経過時間： 31.076649884382885 分\n",
      "---------------------------------\n"
     ]
    },
    {
     "name": "stderr",
     "output_type": "stream",
     "text": [
      "<ipython-input-4-6464427fb4d8>:55: RuntimeWarning: More than 20 figures have been opened. Figures created through the pyplot interface (`matplotlib.pyplot.figure`) are retained until explicitly closed and may consume too much memory. (To control this warning, see the rcParam `figure.max_open_warning`).\n",
      "  fig = plt.figure(figsize=(12,6))\n",
      "<ipython-input-4-6464427fb4d8>:73: RuntimeWarning: More than 20 figures have been opened. Figures created through the pyplot interface (`matplotlib.pyplot.figure`) are retained until explicitly closed and may consume too much memory. (To control this warning, see the rcParam `figure.max_open_warning`).\n",
      "  fig2 = plt.figure(figsize=(12,6))\n",
      "C:\\Users\\mpl\\anaconda3\\lib\\site-packages\\seaborn\\distributions.py:369: UserWarning: Default bandwidth for data is 0; skipping density estimation.\n",
      "  warnings.warn(msg, UserWarning)\n"
     ]
    },
    {
     "name": "stdout",
     "output_type": "stream",
     "text": [
      "データ読み込み数: 74078\n",
      "経過時間： 0.0009484450022379557 分\n",
      "---------------下準備終了！------------------\n",
      "透過角算出!\n",
      "経過時間： 5.276609639326732 分\n",
      "---------------------------------\n",
      "経過時間： 30.313128340244294 分\n",
      "---------------------------------\n"
     ]
    },
    {
     "name": "stderr",
     "output_type": "stream",
     "text": [
      "<ipython-input-4-6464427fb4d8>:55: RuntimeWarning: More than 20 figures have been opened. Figures created through the pyplot interface (`matplotlib.pyplot.figure`) are retained until explicitly closed and may consume too much memory. (To control this warning, see the rcParam `figure.max_open_warning`).\n",
      "  fig = plt.figure(figsize=(12,6))\n",
      "<ipython-input-4-6464427fb4d8>:73: RuntimeWarning: More than 20 figures have been opened. Figures created through the pyplot interface (`matplotlib.pyplot.figure`) are retained until explicitly closed and may consume too much memory. (To control this warning, see the rcParam `figure.max_open_warning`).\n",
      "  fig2 = plt.figure(figsize=(12,6))\n",
      "C:\\Users\\mpl\\anaconda3\\lib\\site-packages\\seaborn\\distributions.py:369: UserWarning: Default bandwidth for data is 0; skipping density estimation.\n",
      "  warnings.warn(msg, UserWarning)\n"
     ]
    },
    {
     "name": "stdout",
     "output_type": "stream",
     "text": [
      "データ読み込み数: 74078\n",
      "経過時間： 0.0008854508399963379 分\n",
      "---------------下準備終了！------------------\n",
      "透過角算出!\n",
      "経過時間： 5.241798690954844 分\n",
      "---------------------------------\n",
      "経過時間： 30.268097591400146 分\n",
      "---------------------------------\n"
     ]
    },
    {
     "name": "stderr",
     "output_type": "stream",
     "text": [
      "<ipython-input-4-6464427fb4d8>:55: RuntimeWarning: More than 20 figures have been opened. Figures created through the pyplot interface (`matplotlib.pyplot.figure`) are retained until explicitly closed and may consume too much memory. (To control this warning, see the rcParam `figure.max_open_warning`).\n",
      "  fig = plt.figure(figsize=(12,6))\n",
      "<ipython-input-4-6464427fb4d8>:73: RuntimeWarning: More than 20 figures have been opened. Figures created through the pyplot interface (`matplotlib.pyplot.figure`) are retained until explicitly closed and may consume too much memory. (To control this warning, see the rcParam `figure.max_open_warning`).\n",
      "  fig2 = plt.figure(figsize=(12,6))\n",
      "C:\\Users\\mpl\\anaconda3\\lib\\site-packages\\seaborn\\distributions.py:369: UserWarning: Default bandwidth for data is 0; skipping density estimation.\n",
      "  warnings.warn(msg, UserWarning)\n"
     ]
    },
    {
     "name": "stdout",
     "output_type": "stream",
     "text": [
      "データ読み込み数: 74078\n",
      "経過時間： 0.0008360147476196289 分\n",
      "---------------下準備終了！------------------\n",
      "透過角算出!\n",
      "経過時間： 5.348043322563171 分\n",
      "---------------------------------\n",
      "経過時間： 31.197193149725596 分\n",
      "---------------------------------\n"
     ]
    },
    {
     "name": "stderr",
     "output_type": "stream",
     "text": [
      "<ipython-input-4-6464427fb4d8>:55: RuntimeWarning: More than 20 figures have been opened. Figures created through the pyplot interface (`matplotlib.pyplot.figure`) are retained until explicitly closed and may consume too much memory. (To control this warning, see the rcParam `figure.max_open_warning`).\n",
      "  fig = plt.figure(figsize=(12,6))\n",
      "<ipython-input-4-6464427fb4d8>:73: RuntimeWarning: More than 20 figures have been opened. Figures created through the pyplot interface (`matplotlib.pyplot.figure`) are retained until explicitly closed and may consume too much memory. (To control this warning, see the rcParam `figure.max_open_warning`).\n",
      "  fig2 = plt.figure(figsize=(12,6))\n",
      "C:\\Users\\mpl\\anaconda3\\lib\\site-packages\\seaborn\\distributions.py:369: UserWarning: Default bandwidth for data is 0; skipping density estimation.\n",
      "  warnings.warn(msg, UserWarning)\n"
     ]
    },
    {
     "name": "stdout",
     "output_type": "stream",
     "text": [
      "データ読み込み数: 74078\n",
      "経過時間： 0.0007811546325683594 分\n",
      "---------------下準備終了！------------------\n",
      "透過角算出!\n",
      "経過時間： 5.410122481981913 分\n",
      "---------------------------------\n",
      "経過時間： 31.21989386876424 分\n",
      "---------------------------------\n"
     ]
    },
    {
     "name": "stderr",
     "output_type": "stream",
     "text": [
      "<ipython-input-4-6464427fb4d8>:55: RuntimeWarning: More than 20 figures have been opened. Figures created through the pyplot interface (`matplotlib.pyplot.figure`) are retained until explicitly closed and may consume too much memory. (To control this warning, see the rcParam `figure.max_open_warning`).\n",
      "  fig = plt.figure(figsize=(12,6))\n",
      "<ipython-input-4-6464427fb4d8>:73: RuntimeWarning: More than 20 figures have been opened. Figures created through the pyplot interface (`matplotlib.pyplot.figure`) are retained until explicitly closed and may consume too much memory. (To control this warning, see the rcParam `figure.max_open_warning`).\n",
      "  fig2 = plt.figure(figsize=(12,6))\n",
      "C:\\Users\\mpl\\anaconda3\\lib\\site-packages\\seaborn\\distributions.py:369: UserWarning: Default bandwidth for data is 0; skipping density estimation.\n",
      "  warnings.warn(msg, UserWarning)\n"
     ]
    },
    {
     "name": "stdout",
     "output_type": "stream",
     "text": [
      "データ読み込み数: 74078\n",
      "経過時間： 0.0014753262201944986 分\n",
      "---------------下準備終了！------------------\n",
      "透過角算出!\n",
      "経過時間： 5.346259780724844 分\n",
      "---------------------------------\n",
      "経過時間： 31.64585035244624 分\n",
      "---------------------------------\n"
     ]
    },
    {
     "name": "stderr",
     "output_type": "stream",
     "text": [
      "<ipython-input-4-6464427fb4d8>:55: RuntimeWarning: More than 20 figures have been opened. Figures created through the pyplot interface (`matplotlib.pyplot.figure`) are retained until explicitly closed and may consume too much memory. (To control this warning, see the rcParam `figure.max_open_warning`).\n",
      "  fig = plt.figure(figsize=(12,6))\n",
      "<ipython-input-4-6464427fb4d8>:73: RuntimeWarning: More than 20 figures have been opened. Figures created through the pyplot interface (`matplotlib.pyplot.figure`) are retained until explicitly closed and may consume too much memory. (To control this warning, see the rcParam `figure.max_open_warning`).\n",
      "  fig2 = plt.figure(figsize=(12,6))\n"
     ]
    },
    {
     "name": "stdout",
     "output_type": "stream",
     "text": [
      "データ読み込み数: 74078\n",
      "経過時間： 0.000846389929453532 分\n",
      "---------------下準備終了！------------------\n",
      "透過角算出!\n",
      "経過時間： 5.294849908351898 分\n",
      "---------------------------------\n",
      "経過時間： 29.688117162386575 分\n",
      "---------------------------------\n"
     ]
    },
    {
     "name": "stderr",
     "output_type": "stream",
     "text": [
      "<ipython-input-4-6464427fb4d8>:55: RuntimeWarning: More than 20 figures have been opened. Figures created through the pyplot interface (`matplotlib.pyplot.figure`) are retained until explicitly closed and may consume too much memory. (To control this warning, see the rcParam `figure.max_open_warning`).\n",
      "  fig = plt.figure(figsize=(12,6))\n",
      "<ipython-input-4-6464427fb4d8>:73: RuntimeWarning: More than 20 figures have been opened. Figures created through the pyplot interface (`matplotlib.pyplot.figure`) are retained until explicitly closed and may consume too much memory. (To control this warning, see the rcParam `figure.max_open_warning`).\n",
      "  fig2 = plt.figure(figsize=(12,6))\n"
     ]
    },
    {
     "name": "stdout",
     "output_type": "stream",
     "text": [
      "データ読み込み数: 74078\n",
      "経過時間： 0.0008412917455037435 分\n",
      "---------------下準備終了！------------------\n",
      "透過角算出!\n",
      "経過時間： 5.514375694592794 分\n",
      "---------------------------------\n",
      "経過時間： 41.15079749822617 分\n",
      "---------------------------------\n"
     ]
    },
    {
     "name": "stderr",
     "output_type": "stream",
     "text": [
      "<ipython-input-4-6464427fb4d8>:55: RuntimeWarning: More than 20 figures have been opened. Figures created through the pyplot interface (`matplotlib.pyplot.figure`) are retained until explicitly closed and may consume too much memory. (To control this warning, see the rcParam `figure.max_open_warning`).\n",
      "  fig = plt.figure(figsize=(12,6))\n",
      "<ipython-input-4-6464427fb4d8>:73: RuntimeWarning: More than 20 figures have been opened. Figures created through the pyplot interface (`matplotlib.pyplot.figure`) are retained until explicitly closed and may consume too much memory. (To control this warning, see the rcParam `figure.max_open_warning`).\n",
      "  fig2 = plt.figure(figsize=(12,6))\n"
     ]
    },
    {
     "name": "stdout",
     "output_type": "stream",
     "text": [
      "データ読み込み数: 74078\n",
      "経過時間： 0.0008481542269388834 分\n",
      "---------------下準備終了！------------------\n",
      "透過角算出!\n",
      "経過時間： 5.29857534567515 分\n",
      "---------------------------------\n",
      "経過時間： 28.88040908972422 分\n",
      "---------------------------------\n"
     ]
    },
    {
     "name": "stderr",
     "output_type": "stream",
     "text": [
      "<ipython-input-4-6464427fb4d8>:55: RuntimeWarning: More than 20 figures have been opened. Figures created through the pyplot interface (`matplotlib.pyplot.figure`) are retained until explicitly closed and may consume too much memory. (To control this warning, see the rcParam `figure.max_open_warning`).\n",
      "  fig = plt.figure(figsize=(12,6))\n",
      "<ipython-input-4-6464427fb4d8>:73: RuntimeWarning: More than 20 figures have been opened. Figures created through the pyplot interface (`matplotlib.pyplot.figure`) are retained until explicitly closed and may consume too much memory. (To control this warning, see the rcParam `figure.max_open_warning`).\n",
      "  fig2 = plt.figure(figsize=(12,6))\n",
      "C:\\Users\\mpl\\anaconda3\\lib\\site-packages\\seaborn\\distributions.py:369: UserWarning: Default bandwidth for data is 0; skipping density estimation.\n",
      "  warnings.warn(msg, UserWarning)\n"
     ]
    },
    {
     "name": "stdout",
     "output_type": "stream",
     "text": [
      "データ読み込み数: 74078\n",
      "経過時間： 0.004507613182067871 分\n",
      "---------------下準備終了！------------------\n",
      "透過角算出!\n",
      "経過時間： 5.2065068006515505 分\n",
      "---------------------------------\n",
      "経過時間： 28.489937353134156 分\n",
      "---------------------------------\n"
     ]
    },
    {
     "name": "stderr",
     "output_type": "stream",
     "text": [
      "<ipython-input-4-6464427fb4d8>:55: RuntimeWarning: More than 20 figures have been opened. Figures created through the pyplot interface (`matplotlib.pyplot.figure`) are retained until explicitly closed and may consume too much memory. (To control this warning, see the rcParam `figure.max_open_warning`).\n",
      "  fig = plt.figure(figsize=(12,6))\n",
      "<ipython-input-4-6464427fb4d8>:73: RuntimeWarning: More than 20 figures have been opened. Figures created through the pyplot interface (`matplotlib.pyplot.figure`) are retained until explicitly closed and may consume too much memory. (To control this warning, see the rcParam `figure.max_open_warning`).\n",
      "  fig2 = plt.figure(figsize=(12,6))\n",
      "C:\\Users\\mpl\\anaconda3\\lib\\site-packages\\seaborn\\distributions.py:369: UserWarning: Default bandwidth for data is 0; skipping density estimation.\n",
      "  warnings.warn(msg, UserWarning)\n"
     ]
    },
    {
     "name": "stdout",
     "output_type": "stream",
     "text": [
      "データ読み込み数: 74078\n",
      "経過時間： 0.018427189191182455 分\n",
      "---------------下準備終了！------------------\n",
      "透過角算出!\n",
      "経過時間： 5.529538345336914 分\n",
      "---------------------------------\n",
      "経過時間： 38.33705053329468 分\n",
      "---------------------------------\n"
     ]
    },
    {
     "name": "stderr",
     "output_type": "stream",
     "text": [
      "<ipython-input-4-6464427fb4d8>:55: RuntimeWarning: More than 20 figures have been opened. Figures created through the pyplot interface (`matplotlib.pyplot.figure`) are retained until explicitly closed and may consume too much memory. (To control this warning, see the rcParam `figure.max_open_warning`).\n",
      "  fig = plt.figure(figsize=(12,6))\n",
      "<ipython-input-4-6464427fb4d8>:73: RuntimeWarning: More than 20 figures have been opened. Figures created through the pyplot interface (`matplotlib.pyplot.figure`) are retained until explicitly closed and may consume too much memory. (To control this warning, see the rcParam `figure.max_open_warning`).\n",
      "  fig2 = plt.figure(figsize=(12,6))\n",
      "C:\\Users\\mpl\\anaconda3\\lib\\site-packages\\seaborn\\distributions.py:369: UserWarning: Default bandwidth for data is 0; skipping density estimation.\n",
      "  warnings.warn(msg, UserWarning)\n"
     ]
    },
    {
     "name": "stdout",
     "output_type": "stream",
     "text": [
      "データ読み込み数: 74078\n",
      "経過時間： 0.0010220925013224283 分\n",
      "---------------下準備終了！------------------\n",
      "透過角算出!\n",
      "経過時間： 5.299395370483398 分\n",
      "---------------------------------\n",
      "経過時間： 29.51085005203883 分\n",
      "---------------------------------\n"
     ]
    },
    {
     "name": "stderr",
     "output_type": "stream",
     "text": [
      "<ipython-input-4-6464427fb4d8>:55: RuntimeWarning: More than 20 figures have been opened. Figures created through the pyplot interface (`matplotlib.pyplot.figure`) are retained until explicitly closed and may consume too much memory. (To control this warning, see the rcParam `figure.max_open_warning`).\n",
      "  fig = plt.figure(figsize=(12,6))\n",
      "<ipython-input-4-6464427fb4d8>:73: RuntimeWarning: More than 20 figures have been opened. Figures created through the pyplot interface (`matplotlib.pyplot.figure`) are retained until explicitly closed and may consume too much memory. (To control this warning, see the rcParam `figure.max_open_warning`).\n",
      "  fig2 = plt.figure(figsize=(12,6))\n",
      "C:\\Users\\mpl\\anaconda3\\lib\\site-packages\\seaborn\\distributions.py:369: UserWarning: Default bandwidth for data is 0; skipping density estimation.\n",
      "  warnings.warn(msg, UserWarning)\n"
     ]
    },
    {
     "name": "stdout",
     "output_type": "stream",
     "text": [
      "データ読み込み数: 74078\n",
      "経過時間： 0.001189704736073812 分\n",
      "---------------下準備終了！------------------\n",
      "透過角算出!\n",
      "経過時間： 5.291743783156077 分\n",
      "---------------------------------\n",
      "経過時間： 28.321956209341685 分\n",
      "---------------------------------\n"
     ]
    },
    {
     "name": "stderr",
     "output_type": "stream",
     "text": [
      "<ipython-input-4-6464427fb4d8>:55: RuntimeWarning: More than 20 figures have been opened. Figures created through the pyplot interface (`matplotlib.pyplot.figure`) are retained until explicitly closed and may consume too much memory. (To control this warning, see the rcParam `figure.max_open_warning`).\n",
      "  fig = plt.figure(figsize=(12,6))\n",
      "<ipython-input-4-6464427fb4d8>:73: RuntimeWarning: More than 20 figures have been opened. Figures created through the pyplot interface (`matplotlib.pyplot.figure`) are retained until explicitly closed and may consume too much memory. (To control this warning, see the rcParam `figure.max_open_warning`).\n",
      "  fig2 = plt.figure(figsize=(12,6))\n",
      "C:\\Users\\mpl\\anaconda3\\lib\\site-packages\\seaborn\\distributions.py:369: UserWarning: Default bandwidth for data is 0; skipping density estimation.\n",
      "  warnings.warn(msg, UserWarning)\n"
     ]
    },
    {
     "name": "stdout",
     "output_type": "stream",
     "text": [
      "データ読み込み数: 74078\n",
      "経過時間： 0.0011832555135091146 分\n",
      "---------------下準備終了！------------------\n",
      "透過角算出!\n",
      "経過時間： 5.19055978457133 分\n",
      "---------------------------------\n",
      "経過時間： 29.026533301671346 分\n",
      "---------------------------------\n"
     ]
    },
    {
     "name": "stderr",
     "output_type": "stream",
     "text": [
      "<ipython-input-4-6464427fb4d8>:55: RuntimeWarning: More than 20 figures have been opened. Figures created through the pyplot interface (`matplotlib.pyplot.figure`) are retained until explicitly closed and may consume too much memory. (To control this warning, see the rcParam `figure.max_open_warning`).\n",
      "  fig = plt.figure(figsize=(12,6))\n",
      "<ipython-input-4-6464427fb4d8>:73: RuntimeWarning: More than 20 figures have been opened. Figures created through the pyplot interface (`matplotlib.pyplot.figure`) are retained until explicitly closed and may consume too much memory. (To control this warning, see the rcParam `figure.max_open_warning`).\n",
      "  fig2 = plt.figure(figsize=(12,6))\n",
      "C:\\Users\\mpl\\anaconda3\\lib\\site-packages\\seaborn\\distributions.py:369: UserWarning: Default bandwidth for data is 0; skipping density estimation.\n",
      "  warnings.warn(msg, UserWarning)\n"
     ]
    },
    {
     "name": "stdout",
     "output_type": "stream",
     "text": [
      "データ読み込み数: 74078\n",
      "経過時間： 0.0013433535893758138 分\n",
      "---------------下準備終了！------------------\n",
      "透過角算出!\n",
      "経過時間： 5.279546058177948 分\n",
      "---------------------------------\n",
      "経過時間： 29.107064859072366 分\n",
      "---------------------------------\n"
     ]
    },
    {
     "name": "stderr",
     "output_type": "stream",
     "text": [
      "<ipython-input-4-6464427fb4d8>:55: RuntimeWarning: More than 20 figures have been opened. Figures created through the pyplot interface (`matplotlib.pyplot.figure`) are retained until explicitly closed and may consume too much memory. (To control this warning, see the rcParam `figure.max_open_warning`).\n",
      "  fig = plt.figure(figsize=(12,6))\n",
      "<ipython-input-4-6464427fb4d8>:73: RuntimeWarning: More than 20 figures have been opened. Figures created through the pyplot interface (`matplotlib.pyplot.figure`) are retained until explicitly closed and may consume too much memory. (To control this warning, see the rcParam `figure.max_open_warning`).\n",
      "  fig2 = plt.figure(figsize=(12,6))\n",
      "C:\\Users\\mpl\\anaconda3\\lib\\site-packages\\seaborn\\distributions.py:369: UserWarning: Default bandwidth for data is 0; skipping density estimation.\n",
      "  warnings.warn(msg, UserWarning)\n"
     ]
    },
    {
     "name": "stdout",
     "output_type": "stream",
     "text": [
      "データ読み込み数: 74078\n",
      "経過時間： 0.0008385896682739258 分\n",
      "---------------下準備終了！------------------\n",
      "透過角算出!\n",
      "経過時間： 5.336489677429199 分\n",
      "---------------------------------\n",
      "経過時間： 28.671305561065672 分\n",
      "---------------------------------\n"
     ]
    },
    {
     "name": "stderr",
     "output_type": "stream",
     "text": [
      "<ipython-input-4-6464427fb4d8>:55: RuntimeWarning: More than 20 figures have been opened. Figures created through the pyplot interface (`matplotlib.pyplot.figure`) are retained until explicitly closed and may consume too much memory. (To control this warning, see the rcParam `figure.max_open_warning`).\n",
      "  fig = plt.figure(figsize=(12,6))\n",
      "<ipython-input-4-6464427fb4d8>:73: RuntimeWarning: More than 20 figures have been opened. Figures created through the pyplot interface (`matplotlib.pyplot.figure`) are retained until explicitly closed and may consume too much memory. (To control this warning, see the rcParam `figure.max_open_warning`).\n",
      "  fig2 = plt.figure(figsize=(12,6))\n",
      "C:\\Users\\mpl\\anaconda3\\lib\\site-packages\\seaborn\\distributions.py:369: UserWarning: Default bandwidth for data is 0; skipping density estimation.\n",
      "  warnings.warn(msg, UserWarning)\n"
     ]
    },
    {
     "name": "stdout",
     "output_type": "stream",
     "text": [
      "データ読み込み数: 74078\n",
      "経過時間： 0.08570079406102499 分\n",
      "---------------下準備終了！------------------\n",
      "透過角算出!\n",
      "経過時間： 5.182594350973765 分\n",
      "---------------------------------\n",
      "経過時間： 27.791378490130107 分\n",
      "---------------------------------\n"
     ]
    },
    {
     "name": "stderr",
     "output_type": "stream",
     "text": [
      "<ipython-input-4-6464427fb4d8>:55: RuntimeWarning: More than 20 figures have been opened. Figures created through the pyplot interface (`matplotlib.pyplot.figure`) are retained until explicitly closed and may consume too much memory. (To control this warning, see the rcParam `figure.max_open_warning`).\n",
      "  fig = plt.figure(figsize=(12,6))\n",
      "<ipython-input-4-6464427fb4d8>:73: RuntimeWarning: More than 20 figures have been opened. Figures created through the pyplot interface (`matplotlib.pyplot.figure`) are retained until explicitly closed and may consume too much memory. (To control this warning, see the rcParam `figure.max_open_warning`).\n",
      "  fig2 = plt.figure(figsize=(12,6))\n",
      "C:\\Users\\mpl\\anaconda3\\lib\\site-packages\\seaborn\\distributions.py:369: UserWarning: Default bandwidth for data is 0; skipping density estimation.\n",
      "  warnings.warn(msg, UserWarning)\n"
     ]
    },
    {
     "name": "stdout",
     "output_type": "stream",
     "text": [
      "データ読み込み数: 74078\n",
      "経過時間： 0.0019317229588826498 分\n",
      "---------------下準備終了！------------------\n",
      "透過角算出!\n",
      "経過時間： 5.276835501194 分\n",
      "---------------------------------\n",
      "経過時間： 29.418150750796 分\n",
      "---------------------------------\n"
     ]
    },
    {
     "name": "stderr",
     "output_type": "stream",
     "text": [
      "<ipython-input-4-6464427fb4d8>:55: RuntimeWarning: More than 20 figures have been opened. Figures created through the pyplot interface (`matplotlib.pyplot.figure`) are retained until explicitly closed and may consume too much memory. (To control this warning, see the rcParam `figure.max_open_warning`).\n",
      "  fig = plt.figure(figsize=(12,6))\n",
      "<ipython-input-4-6464427fb4d8>:73: RuntimeWarning: More than 20 figures have been opened. Figures created through the pyplot interface (`matplotlib.pyplot.figure`) are retained until explicitly closed and may consume too much memory. (To control this warning, see the rcParam `figure.max_open_warning`).\n",
      "  fig2 = plt.figure(figsize=(12,6))\n",
      "C:\\Users\\mpl\\anaconda3\\lib\\site-packages\\seaborn\\distributions.py:369: UserWarning: Default bandwidth for data is 0; skipping density estimation.\n",
      "  warnings.warn(msg, UserWarning)\n"
     ]
    },
    {
     "name": "stdout",
     "output_type": "stream",
     "text": [
      "データ読み込み数: 74078\n",
      "経過時間： 0.0008421738942464193 分\n",
      "---------------下準備終了！------------------\n",
      "透過角算出!\n",
      "経過時間： 5.622533659140269 分\n",
      "---------------------------------\n",
      "経過時間： 40.159185294310255 分\n",
      "---------------------------------\n"
     ]
    },
    {
     "name": "stderr",
     "output_type": "stream",
     "text": [
      "<ipython-input-4-6464427fb4d8>:55: RuntimeWarning: More than 20 figures have been opened. Figures created through the pyplot interface (`matplotlib.pyplot.figure`) are retained until explicitly closed and may consume too much memory. (To control this warning, see the rcParam `figure.max_open_warning`).\n",
      "  fig = plt.figure(figsize=(12,6))\n",
      "<ipython-input-4-6464427fb4d8>:73: RuntimeWarning: More than 20 figures have been opened. Figures created through the pyplot interface (`matplotlib.pyplot.figure`) are retained until explicitly closed and may consume too much memory. (To control this warning, see the rcParam `figure.max_open_warning`).\n",
      "  fig2 = plt.figure(figsize=(12,6))\n",
      "C:\\Users\\mpl\\anaconda3\\lib\\site-packages\\seaborn\\distributions.py:369: UserWarning: Default bandwidth for data is 0; skipping density estimation.\n",
      "  warnings.warn(msg, UserWarning)\n"
     ]
    },
    {
     "name": "stdout",
     "output_type": "stream",
     "text": [
      "データ読み込み数: 74078\n",
      "経過時間： 0.0007810791333516439 分\n",
      "---------------下準備終了！------------------\n",
      "透過角算出!\n",
      "経過時間： 5.582580995559693 分\n",
      "---------------------------------\n",
      "経過時間： 35.332802426815036 分\n",
      "---------------------------------\n"
     ]
    },
    {
     "name": "stderr",
     "output_type": "stream",
     "text": [
      "<ipython-input-4-6464427fb4d8>:55: RuntimeWarning: More than 20 figures have been opened. Figures created through the pyplot interface (`matplotlib.pyplot.figure`) are retained until explicitly closed and may consume too much memory. (To control this warning, see the rcParam `figure.max_open_warning`).\n",
      "  fig = plt.figure(figsize=(12,6))\n",
      "<ipython-input-4-6464427fb4d8>:73: RuntimeWarning: More than 20 figures have been opened. Figures created through the pyplot interface (`matplotlib.pyplot.figure`) are retained until explicitly closed and may consume too much memory. (To control this warning, see the rcParam `figure.max_open_warning`).\n",
      "  fig2 = plt.figure(figsize=(12,6))\n",
      "C:\\Users\\mpl\\anaconda3\\lib\\site-packages\\seaborn\\distributions.py:369: UserWarning: Default bandwidth for data is 0; skipping density estimation.\n",
      "  warnings.warn(msg, UserWarning)\n"
     ]
    },
    {
     "name": "stdout",
     "output_type": "stream",
     "text": [
      "データ読み込み数: 74078\n",
      "経過時間： 0.0010406931241353353 分\n",
      "---------------下準備終了！------------------\n",
      "透過角算出!\n",
      "経過時間： 5.221842408180237 分\n",
      "---------------------------------\n",
      "経過時間： 28.211270089944204 分\n",
      "---------------------------------\n"
     ]
    },
    {
     "name": "stderr",
     "output_type": "stream",
     "text": [
      "<ipython-input-4-6464427fb4d8>:55: RuntimeWarning: More than 20 figures have been opened. Figures created through the pyplot interface (`matplotlib.pyplot.figure`) are retained until explicitly closed and may consume too much memory. (To control this warning, see the rcParam `figure.max_open_warning`).\n",
      "  fig = plt.figure(figsize=(12,6))\n",
      "<ipython-input-4-6464427fb4d8>:73: RuntimeWarning: More than 20 figures have been opened. Figures created through the pyplot interface (`matplotlib.pyplot.figure`) are retained until explicitly closed and may consume too much memory. (To control this warning, see the rcParam `figure.max_open_warning`).\n",
      "  fig2 = plt.figure(figsize=(12,6))\n",
      "C:\\Users\\mpl\\anaconda3\\lib\\site-packages\\seaborn\\distributions.py:369: UserWarning: Default bandwidth for data is 0; skipping density estimation.\n",
      "  warnings.warn(msg, UserWarning)\n"
     ]
    },
    {
     "name": "stdout",
     "output_type": "stream",
     "text": [
      "データ読み込み数: 74078\n",
      "経過時間： 0.0016705830891927083 分\n",
      "---------------下準備終了！------------------\n",
      "透過角算出!\n",
      "経過時間： 5.249460363388062 分\n",
      "---------------------------------\n",
      "経過時間： 28.68567572037379 分\n",
      "---------------------------------\n"
     ]
    },
    {
     "name": "stderr",
     "output_type": "stream",
     "text": [
      "<ipython-input-4-6464427fb4d8>:55: RuntimeWarning: More than 20 figures have been opened. Figures created through the pyplot interface (`matplotlib.pyplot.figure`) are retained until explicitly closed and may consume too much memory. (To control this warning, see the rcParam `figure.max_open_warning`).\n",
      "  fig = plt.figure(figsize=(12,6))\n",
      "<ipython-input-4-6464427fb4d8>:73: RuntimeWarning: More than 20 figures have been opened. Figures created through the pyplot interface (`matplotlib.pyplot.figure`) are retained until explicitly closed and may consume too much memory. (To control this warning, see the rcParam `figure.max_open_warning`).\n",
      "  fig2 = plt.figure(figsize=(12,6))\n",
      "C:\\Users\\mpl\\anaconda3\\lib\\site-packages\\seaborn\\distributions.py:369: UserWarning: Default bandwidth for data is 0; skipping density estimation.\n",
      "  warnings.warn(msg, UserWarning)\n"
     ]
    },
    {
     "name": "stdout",
     "output_type": "stream",
     "text": [
      "データ読み込み数: 74078\n",
      "経過時間： 0.001931329568227132 分\n",
      "---------------下準備終了！------------------\n",
      "透過角算出!\n",
      "経過時間： 5.251149046421051 分\n",
      "---------------------------------\n",
      "経過時間： 30.192563207944236 分\n",
      "---------------------------------\n"
     ]
    },
    {
     "name": "stderr",
     "output_type": "stream",
     "text": [
      "<ipython-input-4-6464427fb4d8>:55: RuntimeWarning: More than 20 figures have been opened. Figures created through the pyplot interface (`matplotlib.pyplot.figure`) are retained until explicitly closed and may consume too much memory. (To control this warning, see the rcParam `figure.max_open_warning`).\n",
      "  fig = plt.figure(figsize=(12,6))\n",
      "<ipython-input-4-6464427fb4d8>:73: RuntimeWarning: More than 20 figures have been opened. Figures created through the pyplot interface (`matplotlib.pyplot.figure`) are retained until explicitly closed and may consume too much memory. (To control this warning, see the rcParam `figure.max_open_warning`).\n",
      "  fig2 = plt.figure(figsize=(12,6))\n",
      "C:\\Users\\mpl\\anaconda3\\lib\\site-packages\\seaborn\\distributions.py:369: UserWarning: Default bandwidth for data is 0; skipping density estimation.\n",
      "  warnings.warn(msg, UserWarning)\n"
     ]
    },
    {
     "name": "stdout",
     "output_type": "stream",
     "text": [
      "データ読み込み数: 74078\n",
      "経過時間： 0.0006875475247701009 分\n",
      "---------------下準備終了！------------------\n",
      "透過角算出!\n",
      "経過時間： 5.2260361591974895 分\n",
      "---------------------------------\n",
      "経過時間： 28.653728210926054 分\n",
      "---------------------------------\n"
     ]
    },
    {
     "name": "stderr",
     "output_type": "stream",
     "text": [
      "<ipython-input-4-6464427fb4d8>:55: RuntimeWarning: More than 20 figures have been opened. Figures created through the pyplot interface (`matplotlib.pyplot.figure`) are retained until explicitly closed and may consume too much memory. (To control this warning, see the rcParam `figure.max_open_warning`).\n",
      "  fig = plt.figure(figsize=(12,6))\n",
      "<ipython-input-4-6464427fb4d8>:73: RuntimeWarning: More than 20 figures have been opened. Figures created through the pyplot interface (`matplotlib.pyplot.figure`) are retained until explicitly closed and may consume too much memory. (To control this warning, see the rcParam `figure.max_open_warning`).\n",
      "  fig2 = plt.figure(figsize=(12,6))\n",
      "C:\\Users\\mpl\\anaconda3\\lib\\site-packages\\seaborn\\distributions.py:369: UserWarning: Default bandwidth for data is 0; skipping density estimation.\n",
      "  warnings.warn(msg, UserWarning)\n"
     ]
    },
    {
     "name": "stdout",
     "output_type": "stream",
     "text": [
      "データ読み込み数: 74078\n",
      "経過時間： 0.119501527150472 分\n",
      "---------------下準備終了！------------------\n",
      "透過角算出!\n",
      "経過時間： 5.333091207345327 分\n",
      "---------------------------------\n",
      "経過時間： 27.687521501382193 分\n",
      "---------------------------------\n"
     ]
    },
    {
     "name": "stderr",
     "output_type": "stream",
     "text": [
      "<ipython-input-4-6464427fb4d8>:55: RuntimeWarning: More than 20 figures have been opened. Figures created through the pyplot interface (`matplotlib.pyplot.figure`) are retained until explicitly closed and may consume too much memory. (To control this warning, see the rcParam `figure.max_open_warning`).\n",
      "  fig = plt.figure(figsize=(12,6))\n",
      "<ipython-input-4-6464427fb4d8>:73: RuntimeWarning: More than 20 figures have been opened. Figures created through the pyplot interface (`matplotlib.pyplot.figure`) are retained until explicitly closed and may consume too much memory. (To control this warning, see the rcParam `figure.max_open_warning`).\n",
      "  fig2 = plt.figure(figsize=(12,6))\n",
      "C:\\Users\\mpl\\anaconda3\\lib\\site-packages\\seaborn\\distributions.py:369: UserWarning: Default bandwidth for data is 0; skipping density estimation.\n",
      "  warnings.warn(msg, UserWarning)\n"
     ]
    },
    {
     "name": "stdout",
     "output_type": "stream",
     "text": [
      "データ読み込み数: 74078\n",
      "経過時間： 0.0013009031613667806 分\n",
      "---------------下準備終了！------------------\n",
      "透過角算出!\n",
      "経過時間： 5.135401566823323 分\n",
      "---------------------------------\n"
     ]
    },
    {
     "ename": "KeyboardInterrupt",
     "evalue": "",
     "output_type": "error",
     "traceback": [
      "\u001b[1;31m---------------------------------------------------------------------------\u001b[0m",
      "\u001b[1;31mKeyboardInterrupt\u001b[0m                         Traceback (most recent call last)",
      "\u001b[1;32m<ipython-input-4-6464427fb4d8>\u001b[0m in \u001b[0;36m<module>\u001b[1;34m\u001b[0m\n\u001b[0;32m     48\u001b[0m         \u001b[0md2\u001b[0m \u001b[1;33m=\u001b[0m \u001b[0md1\u001b[0m \u001b[1;33m+\u001b[0m \u001b[0mh2\u001b[0m\u001b[1;33m\u001b[0m\u001b[1;33m\u001b[0m\u001b[0m\n\u001b[0;32m     49\u001b[0m         \u001b[0mt5\u001b[0m \u001b[1;33m=\u001b[0m \u001b[0mtime\u001b[0m\u001b[1;33m.\u001b[0m\u001b[0mtime\u001b[0m\u001b[1;33m(\u001b[0m\u001b[1;33m)\u001b[0m\u001b[1;33m\u001b[0m\u001b[1;33m\u001b[0m\u001b[0m\n\u001b[1;32m---> 50\u001b[1;33m         \u001b[0mlight_num_d\u001b[0m\u001b[1;33m,\u001b[0m \u001b[0mdistance\u001b[0m\u001b[1;33m,\u001b[0m \u001b[0mlight_x\u001b[0m \u001b[1;33m=\u001b[0m \u001b[0mlight_receiving_t_d\u001b[0m\u001b[1;33m(\u001b[0m\u001b[0mgradient_list\u001b[0m \u001b[1;33m,\u001b[0m\u001b[0mintercept_list\u001b[0m\u001b[1;33m,\u001b[0m \u001b[0mnew_x_a_list\u001b[0m\u001b[1;33m,\u001b[0m \u001b[0mnew_y_a_list\u001b[0m\u001b[1;33m,\u001b[0m \u001b[0md1\u001b[0m\u001b[1;33m,\u001b[0m \u001b[0md2\u001b[0m\u001b[1;33m,\u001b[0m\u001b[0ms1\u001b[0m \u001b[1;33m,\u001b[0m\u001b[0ms2\u001b[0m\u001b[1;33m,\u001b[0m \u001b[0mr\u001b[0m\u001b[1;33m)\u001b[0m\u001b[1;33m\u001b[0m\u001b[1;33m\u001b[0m\u001b[0m\n\u001b[0m\u001b[0;32m     51\u001b[0m         \u001b[0mt6\u001b[0m \u001b[1;33m=\u001b[0m \u001b[0mtime\u001b[0m\u001b[1;33m.\u001b[0m\u001b[0mtime\u001b[0m\u001b[1;33m(\u001b[0m\u001b[1;33m)\u001b[0m\u001b[1;33m\u001b[0m\u001b[1;33m\u001b[0m\u001b[0m\n\u001b[0;32m     52\u001b[0m         \u001b[0melapsed_time_3\u001b[0m \u001b[1;33m=\u001b[0m \u001b[0mt6\u001b[0m\u001b[1;33m-\u001b[0m\u001b[0mt5\u001b[0m\u001b[1;33m\u001b[0m\u001b[1;33m\u001b[0m\u001b[0m\n",
      "\u001b[1;32m<ipython-input-2-a6b0a3124aa5>\u001b[0m in \u001b[0;36mlight_receiving_t_d\u001b[1;34m(gradient, intercept, x_k, y_k, distance1, distance2, slit1, slit2, r_d)\u001b[0m\n\u001b[0;32m     46\u001b[0m             \u001b[0ma\u001b[0m \u001b[1;33m=\u001b[0m \u001b[1;36m0\u001b[0m\u001b[1;33m\u001b[0m\u001b[1;33m\u001b[0m\u001b[0m\n\u001b[0;32m     47\u001b[0m             \u001b[0mb\u001b[0m \u001b[1;33m=\u001b[0m \u001b[0mx1y1\u001b[0m\u001b[1;33m[\u001b[0m\u001b[0mj\u001b[0m\u001b[1;33m]\u001b[0m\u001b[1;33m[\u001b[0m\u001b[1;36m1\u001b[0m\u001b[1;33m]\u001b[0m\u001b[1;33m\u001b[0m\u001b[1;33m\u001b[0m\u001b[0m\n\u001b[1;32m---> 48\u001b[1;33m             \u001b[0mx\u001b[0m \u001b[1;33m=\u001b[0m \u001b[1;33m(\u001b[0m\u001b[0mi\u001b[0m \u001b[1;33m-\u001b[0m \u001b[0mb\u001b[0m\u001b[1;33m)\u001b[0m\u001b[1;33m/\u001b[0m\u001b[1;33m(\u001b[0m\u001b[0ma\u001b[0m \u001b[1;33m-\u001b[0m \u001b[0mg\u001b[0m\u001b[1;33m)\u001b[0m\u001b[1;33m\u001b[0m\u001b[1;33m\u001b[0m\u001b[0m\n\u001b[0m\u001b[0;32m     49\u001b[0m             \u001b[1;31m#スリット幅(斜めver)\u001b[0m\u001b[1;33m\u001b[0m\u001b[1;33m\u001b[0m\u001b[1;33m\u001b[0m\u001b[0m\n\u001b[0;32m     50\u001b[0m             \u001b[0ms_d\u001b[0m \u001b[1;33m=\u001b[0m \u001b[0mslit1\u001b[0m\u001b[1;33m/\u001b[0m\u001b[1;36m2\u001b[0m\u001b[1;33m\u001b[0m\u001b[1;33m\u001b[0m\u001b[0m\n",
      "\u001b[1;31mKeyboardInterrupt\u001b[0m: "
     ]
    }
   ],
   "source": [
    "#テスト用\n",
    "# %%cython\n",
    "import matplotlib.pyplot as plt\n",
    "import matplotlib.patches as patches\n",
    "import pandas as pd\n",
    "import time \n",
    "import numpy as np\n",
    "import seaborn as sns\n",
    "#need to change\n",
    "\n",
    "r = 40000\n",
    "r_i = 15000\n",
    "r_i = round(r_i)\n",
    "#1mm → 10000  0.2mm → 2000 0.05mm → 500\n",
    "#円管とスリットの距離\n",
    "\n",
    "for h1 in range(1000, 30000, 1000):\n",
    "    for h2 in range(1000, 30000, 1000):\n",
    "        d1 = r + h1\n",
    "        d2 = d1 + h2\n",
    "        #スリット幅\n",
    "        s1 = 2000\n",
    "        s2 = 500\n",
    "        t1 = time.time() \n",
    "        #複数のCSVファイルを順次読み込んでグラフを表示していく\n",
    "        df = pd.read_csv('./data_csv3/dataset_r_i_{0}_r_{1}.csv'.format(r_i, r))\n",
    "        new_x_a_list = df['x'] \n",
    "        new_y_a_list = df['y']\n",
    "        gradient_list = df['gradient']\n",
    "        intercept_list = df['intercept']\n",
    "        center_x_list = df['change_x']\n",
    "        center_y_list = df['change_y']\n",
    "\n",
    "        print(\"データ読み込み数:\",len(new_x_a_list))\n",
    "\n",
    "        t2 = time.time()\n",
    "        elapsed_time_1 = t2-t1\n",
    "        print(\"経過時間：\",elapsed_time_1/60,\"分\")\n",
    "        print(\"---------------下準備終了！------------------\")\n",
    "        t3 = time.time() \n",
    "        light_num_a, toka_angle = light_receiving_t_a(gradient_list ,intercept_list, new_x_a_list, new_y_a_list, d1, d2,s1 ,s2, center_x_list[0], center_y_list[0])\n",
    "        print(\"透過角算出!\")\n",
    "        t4 = time.time()\n",
    "        elapsed_time_2 = t4-t3\n",
    "        print(\"経過時間：\",elapsed_time_2/60,\"分\")\n",
    "        print(\"---------------------------------\")\n",
    "        d1 = r + h1\n",
    "        d2 = d1 + h2\n",
    "        t5 = time.time() \n",
    "        light_num_d, distance, light_x = light_receiving_t_d(gradient_list ,intercept_list, new_x_a_list, new_y_a_list, d1, d2,s1 ,s2, r)\n",
    "        t6 = time.time()\n",
    "        elapsed_time_3 = t6-t5\n",
    "        print(\"経過時間：\",elapsed_time_3/60,\"分\")\n",
    "        print(\"---------------------------------\")\n",
    "        fig = plt.figure(figsize=(12,6))\n",
    "        #         fig.subplots_adjust(wspace=0.5)\n",
    "        ax1 = fig.add_subplot(1, 2, 1)\n",
    "        ax2 = fig.add_subplot(1, 2, 2)\n",
    "        ax1.set_xlim([0,90])\n",
    "        ax1.bar(toka_angle, light_num_a, width=1.0)\n",
    "        ax2.bar(distance, light_num_d, width=1.0)\n",
    "        ax1.set_title('Inner_diameter = {0}mm External_diameter = {1}mm'.format(r_i*2/10000, r*2/10000))\n",
    "        ax2.set_title('Inner_diameter = {0}mm External_diameter = {1}mm'.format(r_i*2/10000, r*2/10000))\n",
    "        ax1.set_xlabel('Transmission angle')\n",
    "        ax2.set_xlabel('Distance')\n",
    "        ax1.set_yticklabels([])\n",
    "        #         ax2.set_yticklabels([])\n",
    "        ax1.tick_params(length=0)\n",
    "        #         ax2.tick_params(length=0)\n",
    "        #plt.show()\n",
    "        fig.savefig('./figure_data/cnt_figure_d1_{0}_d2_{1}.png'.format(d1, d2))\n",
    "        \n",
    "        fig2 = plt.figure(figsize=(12,6))\n",
    "        #         fig.subplots_adjust(wspace=0.5)\n",
    "        ax3 = fig2.add_subplot(1, 2, 1)\n",
    "        ax4 = fig2.add_subplot(1, 2, 2)\n",
    "        sns.distplot(toka_angle, ax = ax3)\n",
    "        sns.distplot(light_x, ax = ax4)\n",
    "        ax3.set_xlim([0,90])\n",
    "        ax3.set_title('Inner_diameter = {0}mm External_diameter = {1}mm'.format(r_i*2/10000, r*2/10000))\n",
    "        ax4.set_title('Inner_diameter = {0}mm External_diameter = {1}mm'.format(r_i*2/10000, r*2/10000))\n",
    "        ax3.set_xlabel('Transmission angle')\n",
    "        ax4.set_xlabel('Distance')\n",
    "        ax3.set_yticklabels([])\n",
    "        #         ax2.set_yticklabels([])\n",
    "        ax3.tick_params(length=0)\n",
    "        #         ax2.tick_params(length=0)\n",
    "        #plt.show()\n",
    "        fig2.savefig('./figure_hist/figure_d1_{0}_d2_{1}.png'.format(d1, d2))\n",
    "        \n",
    "        \n",
    "        "
   ]
  },
  {
   "cell_type": "code",
   "execution_count": 27,
   "metadata": {},
   "outputs": [
    {
     "name": "stdout",
     "output_type": "stream",
     "text": [
      "データ読み込み数: 18748\n",
      "経過時間： 0.00033244689305623375 分\n",
      "---------------下準備終了！------------------\n",
      "透過角算出!\n",
      "経過時間： 1.4144079089164734 分\n",
      "---------------------------------\n",
      "経過時間： 2.718283732732137 分\n",
      "---------------------------------\n"
     ]
    },
    {
     "data": {
      "image/png": "[encoded data removed]",
      "text/plain": [
       "<Figure size 864x432 with 2 Axes>"
      ]
     },
     "metadata": {
      "needs_background": "light"
     },
     "output_type": "display_data"
    },
    {
     "data": {
      "image/png": "[encoded data removed]",
      "text/plain": [
       "<Figure size 864x432 with 2 Axes>"
      ]
     },
     "metadata": {
      "needs_background": "light"
     },
     "output_type": "display_data"
    }
   ],
   "source": [
    "#テスト用\n",
    "# %%cython\n",
    "import matplotlib.pyplot as plt\n",
    "import matplotlib.patches as patches\n",
    "import pandas as pd\n",
    "import time \n",
    "import numpy as np\n",
    "import seaborn as sns\n",
    "#need to change\n",
    "\n",
    "r = 10000\n",
    "r_i = 3000\n",
    "r_i = round(r_i)\n",
    "#1mm → 10000  0.2mm → 2000 0.05mm → 500\n",
    "#円管とスリットの距離\n",
    "\n",
    "h1 = 1000\n",
    "h2 = 1000\n",
    "d1 = r + h1\n",
    "d2 = d1 + h2\n",
    "#スリット幅\n",
    "s1 = 2000\n",
    "s2 = 500\n",
    "t1 = time.time() \n",
    "#複数のCSVファイルを順次読み込んでグラフを表示していく\n",
    "df = pd.read_csv('./data_csv3/dataset_r_i_{0}_r_{1}.csv'.format(r_i, r))\n",
    "new_x_a_list = df['x'] \n",
    "new_y_a_list = df['y']\n",
    "gradient_list = df['gradient']\n",
    "intercept_list = df['intercept']\n",
    "center_x_list = df['change_x']\n",
    "center_y_list = df['change_y']\n",
    "\n",
    "print(\"データ読み込み数:\",len(new_x_a_list))\n",
    "\n",
    "t2 = time.time()\n",
    "elapsed_time_1 = t2-t1\n",
    "print(\"経過時間：\",elapsed_time_1/60,\"分\")\n",
    "print(\"---------------下準備終了！------------------\")\n",
    "t3 = time.time() \n",
    "light_num_a, toka_angle,light_x1,light_y1 = light_receiving_t_a(gradient_list ,intercept_list, new_x_a_list, new_y_a_list, d1, d2,s1 ,s2, center_x_list[0], center_y_list[0])\n",
    "print(\"透過角算出!\")\n",
    "t4 = time.time()\n",
    "elapsed_time_2 = t4-t3\n",
    "print(\"経過時間：\",elapsed_time_2/60,\"分\")\n",
    "print(\"---------------------------------\")\n",
    "d1 = r + h1\n",
    "d2 = d1 + h2\n",
    "t5 = time.time() \n",
    "light_num_d, distance,light_x,light_y = light_receiving_t_d(gradient_list ,intercept_list, new_x_a_list, new_y_a_list, d1, d2,s1 ,s2, r)\n",
    "t6 = time.time()\n",
    "elapsed_time_3 = t6-t5\n",
    "print(\"経過時間：\",elapsed_time_3/60,\"分\")\n",
    "print(\"---------------------------------\")\n",
    "fig = plt.figure(figsize=(12,6))\n",
    "#         fig.subplots_adjust(wspace=0.5)\n",
    "ax1 = fig.add_subplot(1, 2, 1)\n",
    "ax2 = fig.add_subplot(1, 2, 2)\n",
    "ax1.set_xlim([0,90])\n",
    "ax1.bar(toka_angle, light_num_a, width=1.0)\n",
    "ax2.bar(distance, light_num_d, width=1.0)\n",
    "ax1.set_title('Inner_diameter = {0}mm External_diameter = {1}mm'.format(r_i*2/10000, r*2/10000))\n",
    "ax2.set_title('Inner_diameter = {0}mm External_diameter = {1}mm'.format(r_i*2/10000, r*2/10000))\n",
    "ax1.set_xlabel('Transmission angle')\n",
    "ax2.set_xlabel('Distance')\n",
    "ax1.set_yticklabels([])\n",
    "#         ax2.set_yticklabels([])\n",
    "ax1.tick_params(length=0)\n",
    "#         ax2.tick_params(length=0)\n",
    "#plt.show()\n",
    "fig.savefig('./figure_data/cnt_figure_d1_{0}_d2_{1}.png'.format(d1, d2))\n",
    "\n",
    "fig2 = plt.figure(figsize=(12,6))\n",
    "#         fig.subplots_adjust(wspace=0.5)\n",
    "ax3 = fig2.add_subplot(1, 2, 1)\n",
    "ax4 = fig2.add_subplot(1, 2, 2)\n",
    "sns.distplot(toka_angle, ax = ax3)\n",
    "sns.distplot(light_x, ax = ax4)\n",
    "ax3.set_xlim([0,90])\n",
    "ax3.set_title('Inner_diameter = {0}mm External_diameter = {1}mm'.format(r_i*2/10000, r*2/10000))\n",
    "ax4.set_title('Inner_diameter = {0}mm External_diameter = {1}mm'.format(r_i*2/10000, r*2/10000))\n",
    "ax3.set_xlabel('Transmission angle')\n",
    "ax4.set_xlabel('Distance')\n",
    "ax3.set_yticklabels([])\n",
    "#         ax2.set_yticklabels([])\n",
    "ax3.tick_params(length=0)\n",
    "#         ax2.tick_params(length=0)\n",
    "#plt.show()\n",
    "fig2.savefig('./figure_hist/figure_d1_{0}_d2_{1}.png'.format(d1, d2))\n",
    "\n",
    "\n"
   ]
  },
  {
   "cell_type": "markdown",
   "metadata": {},
   "source": [
    "- スリットとの位置を近づけて透過率的な概念を加えてもいいかも？"
   ]
  },
  {
   "cell_type": "code",
   "execution_count": 28,
   "metadata": {},
   "outputs": [
    {
     "name": "stdout",
     "output_type": "stream",
     "text": [
      "rの変位域-10000<=r<=10000\n",
      "取得したxの数 40423306\n"
     ]
    },
    {
     "data": {
      "image/png": "[encoded data removed]",
      "text/plain": [
       "<Figure size 432x288 with 1 Axes>"
      ]
     },
     "metadata": {
      "needs_background": "light"
     },
     "output_type": "display_data"
    }
   ],
   "source": [
    "#座標確認\n",
    "\n",
    "import matplotlib.pyplot as plt\n",
    "import matplotlib.patches as patches\n",
    "\n",
    "g = plt.subplot()\n",
    "#外径\n",
    "draw_circle_r = plt.Circle((0, 0), r, fill=False)\n",
    "#内径\n",
    "draw_circle_i = plt.Circle((0, 0), r_i, fill=False)\n",
    "g.add_artist(draw_circle_r)\n",
    "g.add_artist(draw_circle_i)\n",
    "g.plot(light_x, light_y, marker=\"o\", color = \"red\", linestyle = \" \",markersize=1)\n",
    "\n",
    "g.set_aspect('equal')\n",
    "g.set_xlim([-r-100,r+100])\n",
    "g.set_ylim([-12500,0])\n",
    "\n",
    "print(\"rの変位域{0}<=r<={1}\".format(-r,r))\n",
    "print(\"取得したxの数\",len(light_x))\n",
    "\n"
   ]
  },
  {
   "cell_type": "code",
   "execution_count": 30,
   "metadata": {},
   "outputs": [
    {
     "name": "stdout",
     "output_type": "stream",
     "text": [
      "rの変位域-10000<=r<=10000\n",
      "取得したxの数 174283\n"
     ]
    },
    {
     "data": {
      "image/png": "[encoded data removed]",
      "text/plain": [
       "<Figure size 432x288 with 1 Axes>"
      ]
     },
     "metadata": {
      "needs_background": "light"
     },
     "output_type": "display_data"
    }
   ],
   "source": [
    "#座標確認\n",
    "\n",
    "import matplotlib.pyplot as plt\n",
    "import matplotlib.patches as patches\n",
    "\n",
    "g = plt.subplot()\n",
    "#外径\n",
    "draw_circle_r = plt.Circle((0, 0), r, fill=False)\n",
    "#内径\n",
    "draw_circle_i = plt.Circle((0, 0), r_i, fill=False)\n",
    "g.add_artist(draw_circle_r)\n",
    "g.add_artist(draw_circle_i)\n",
    "g.plot(light_x1, light_y1, marker=\"o\", color = \"red\", linestyle = \" \",markersize=1)\n",
    "\n",
    "g.set_aspect('equal')\n",
    "g.set_xlim([-r-10000,r+10000])\n",
    "g.set_ylim([-12500,12500])\n",
    "\n",
    "print(\"rの変位域{0}<=r<={1}\".format(-r,r))\n",
    "print(\"取得したxの数\",len(light_x1))"
   ]
  },
  {
   "cell_type": "code",
   "execution_count": 82,
   "metadata": {},
   "outputs": [
    {
     "name": "stderr",
     "output_type": "stream",
     "text": [
      "C:\\Users\\mpl\\anaconda3\\lib\\site-packages\\seaborn\\distributions.py:198: RuntimeWarning: Mean of empty slice.\n",
      "  line, = ax.plot(a.mean(), 0)\n",
      "C:\\Users\\mpl\\anaconda3\\lib\\site-packages\\numpy\\core\\_methods.py:161: RuntimeWarning: invalid value encountered in double_scalars\n",
      "  ret = ret.dtype.type(ret / rcount)\n",
      "C:\\Users\\mpl\\anaconda3\\lib\\site-packages\\numpy\\lib\\histograms.py:908: RuntimeWarning: invalid value encountered in true_divide\n",
      "  return n/db/n.sum(), bin_edges\n"
     ]
    },
    {
     "data": {
      "image/png": "[encoded data removed]",
      "text/plain": [
       "<Figure size 864x432 with 2 Axes>"
      ]
     },
     "metadata": {
      "needs_background": "light"
     },
     "output_type": "display_data"
    },
    {
     "data": {
      "image/png": "[encoded data removed]",
      "text/plain": [
       "<Figure size 864x432 with 2 Axes>"
      ]
     },
     "metadata": {
      "needs_background": "light"
     },
     "output_type": "display_data"
    }
   ],
   "source": [
    "        fig = plt.figure(figsize=(12,6))\n",
    "        #         fig.subplots_adjust(wspace=0.5)\n",
    "        ax1 = fig.add_subplot(1, 2, 1)\n",
    "        ax2 = fig.add_subplot(1, 2, 2)\n",
    "        ax1.set_xlim([0,90])\n",
    "        ax1.bar(toka_angle, light_num_a, width=1.0)\n",
    "        ax2.bar(distance, light_num_d, width=1.0)\n",
    "        ax1.set_title('Inner_diameter = {0}mm External_diameter = {1}mm'.format(r_i*2/10000, r*2/10000))\n",
    "        ax2.set_title('Inner_diameter = {0}mm External_diameter = {1}mm'.format(r_i*2/10000, r*2/10000))\n",
    "        ax1.set_xlabel('Transmission angle')\n",
    "        ax2.set_xlabel('Distance')\n",
    "        ax1.set_yticklabels([])\n",
    "        #         ax2.set_yticklabels([])\n",
    "        ax1.tick_params(length=0)\n",
    "        #         ax2.tick_params(length=0)\n",
    "        #plt.show()\n",
    "        fig.savefig('./figure_data/cnt_figure_d1_{0}_d2_{1}.png'.format(d1, d2))\n",
    "        \n",
    "        fig2 = plt.figure(figsize=(12,6))\n",
    "        #         fig.subplots_adjust(wspace=0.5)\n",
    "        ax3 = fig2.add_subplot(1, 2, 1)\n",
    "        ax4 = fig2.add_subplot(1, 2, 2)\n",
    "        sns.distplot(toka_angle, ax = ax3)\n",
    "        sns.distplot(light_x, ax = ax4)\n",
    "        ax3.set_xlim([0,90])\n",
    "        ax3.set_title('Inner_diameter = {0}mm External_diameter = {1}mm'.format(r_i*2/10000, r*2/10000))\n",
    "        ax4.set_title('Inner_diameter = {0}mm External_diameter = {1}mm'.format(r_i*2/10000, r*2/10000))\n",
    "        ax3.set_xlabel('Transmission angle')\n",
    "        ax4.set_xlabel('Distance')\n",
    "        ax3.set_yticklabels([])\n",
    "        #         ax2.set_yticklabels([])\n",
    "        ax3.tick_params(length=0)\n",
    "        #         ax2.tick_params(length=0)\n",
    "        #plt.show()\n",
    "        fig2.savefig('./figure_hist/figure_d1_{0}_d2_{1}.png'.format(d1, d2))\n",
    "        \n",
    "        "
   ]
  },
  {
   "cell_type": "code",
   "execution_count": 63,
   "metadata": {},
   "outputs": [
    {
     "data": {
      "text/plain": [
       "146"
      ]
     },
     "execution_count": 63,
     "metadata": {},
     "output_type": "execute_result"
    }
   ],
   "source": [
    "max(light_num_d)"
   ]
  },
  {
   "cell_type": "code",
   "execution_count": 67,
   "metadata": {},
   "outputs": [
    {
     "name": "stdout",
     "output_type": "stream",
     "text": [
      "光線数 629 透過角 3.28915723970423\n",
      "629\n",
      "光線数 629 透過距離 6.0 mm\n"
     ]
    }
   ],
   "source": [
    "tmp = 0\n",
    "tmp2 = 0\n",
    "for i in range(len(light_num_a)):   \n",
    "    if tmp < light_num_a[i]:\n",
    "        tmp = light_num_a[i]\n",
    "        tmp2 = toka_angle[i]\n",
    "\n",
    "print(\"光線数\",tmp,\"透過角\",tmp2)\n",
    "\n",
    "tmp3 = 0\n",
    "tmp4 = 0\n",
    "\n",
    "for i in range(int(len(light_num_d)/2)):   \n",
    "    if tmp3 < light_num_d[i]:\n",
    "        tmp3 = light_num_d[i]\n",
    "        tmp4 = distance[i]\n",
    "\n",
    "max_value = max(light_num_d)\n",
    "max_index = light_num_d.index(max_value)\n",
    "tmp3 = distance[max_index]\n",
    "print(tmp)\n",
    "\n",
    "print(\"光線数\",tmp,\"透過距離\",(distance[-1]-tmp3*2)/10000,\"mm\")"
   ]
  },
  {
   "cell_type": "markdown",
   "metadata": {},
   "source": [
    "もう少し大きな値で回す必要がある。"
   ]
  },
  {
   "cell_type": "markdown",
   "metadata": {},
   "source": [
    "# 内径計算\n",
    "$n$:屈折率 $d$:内径 $D$:外径 $a$:透過距離\n",
    "\n",
    "$$\n",
    "d = \\frac{-a^3\\pm\\sqrt{a^6+a^2D^2(n^2(D^2-a^2)-a^2})}{n^2(D^2-a^2)-a^2}\n",
    "$$"
   ]
  },
  {
   "cell_type": "code",
   "execution_count": 68,
   "metadata": {},
   "outputs": [
    {
     "name": "stdout",
     "output_type": "stream",
     "text": [
      "内径1: 3.5537027697709194 内径2: 0.9506275437128308\n"
     ]
    }
   ],
   "source": [
    "#透過距離からの計算\n",
    "a_toka = (distance[-1]-tmp3*2)/10000\n",
    "D = r/10000\n",
    "n = 1.49/1.000292\n",
    "\n",
    "d_ans_1 = (-pow(a_toka,3)-np.sqrt(pow(a_toka,6)+pow(a_toka,2)*pow(D,2)*(pow(n,2)*(pow(D,2)-pow(a_toka,2))-pow(a_toka,2))))/(pow(n,2)*(pow(D,2)-pow(a_toka,2))-pow(a_toka,2))\n",
    "d_ans_2 = (-pow(a_toka,3)+np.sqrt(pow(a_toka,6)+pow(a_toka,2)*pow(D,2)*(pow(n,2)*(pow(D,2)-pow(a_toka,2))-pow(a_toka,2))))/(pow(n,2)*(pow(D,2)-pow(a_toka,2))-pow(a_toka,2))\n",
    "\n",
    "print(\"内径1:\",d_ans_1,\"内径2:\",d_ans_2)\n",
    "\n"
   ]
  },
  {
   "cell_type": "code",
   "execution_count": 69,
   "metadata": {},
   "outputs": [
    {
     "name": "stdout",
     "output_type": "stream",
     "text": [
      "0.17541804158086893\n"
     ]
    }
   ],
   "source": [
    "#透過角からの計算\n",
    "sita_ans = np.deg2rad(tmp2)\n",
    "d_ans_3 = np.sqrt((pow(D,2)*pow(np.sin(sita_ans/2),2))/(pow(n,2)-2*n*np.cos(sita_ans/2)+1))\n",
    "\n",
    "print(d_ans_3)"
   ]
  },
  {
   "cell_type": "code",
   "execution_count": 70,
   "metadata": {},
   "outputs": [
    {
     "name": "stdout",
     "output_type": "stream",
     "text": [
      "2.0 mm\n"
     ]
    }
   ],
   "source": [
    "#期待する内径\n",
    "print(r_i*2/10000,\"mm\")"
   ]
  },
  {
   "cell_type": "code",
   "execution_count": null,
   "metadata": {},
   "outputs": [],
   "source": []
  },
  {
   "cell_type": "code",
   "execution_count": null,
   "metadata": {},
   "outputs": [],
   "source": []
  }
 ],
 "metadata": {
  "kernelspec": {
   "display_name": "Python 3",
   "language": "python",
   "name": "python3"
  },
  "language_info": {
   "codemirror_mode": {
    "name": "ipython",
    "version": 3
   },
   "file_extension": ".py",
   "mimetype": "text/x-python",
   "name": "python",
   "nbconvert_exporter": "python",
   "pygments_lexer": "ipython3",
   "version": "3.8.3"
  }
 },
 "nbformat": 4,
 "nbformat_minor": 4
}
