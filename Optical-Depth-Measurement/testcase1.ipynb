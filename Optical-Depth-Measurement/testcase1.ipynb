{
 "cells": [
  {
   "cell_type": "code",
   "execution_count": 18,
   "metadata": {},
   "outputs": [
    {
     "name": "stdout",
     "output_type": "stream",
     "text": [
      "全反射 5532\n"
     ]
    }
   ],
   "source": [
    "import math\n",
    "import numpy as np\n",
    "#import time\n",
    "import pandas as pd\n",
    "import math\n",
    "import seaborn as sns\n",
    "#t_start = time.time()\n",
    "# min_step = int(input(\"最小の\"))\n",
    "\n",
    "# step_width = int(input())\n",
    "\n",
    "#外周の半径を定義\n",
    "#     r = int(input(\"外径の半径を入力(mm)\"))\n",
    "#     r_i  = int(input(\"内径の半径を入力(mm)\"))\n",
    "#     r_h = int(input(\"光を受け取る位置を入力(mm)(外径の半径よりも大きくすること)\"))\n",
    "#回転中心を変える説\n",
    "\n",
    "r = 10000\n",
    "r_i = 3000\n",
    "# r_i = round(r_i)\n",
    "r_h = 12000\n",
    "tes = r\n",
    "\n",
    "def array(xlist,ylist):\n",
    "    keep_x = []\n",
    "    keep_y = []\n",
    "    keep_x = [i*-1 for i in xlist[::-1]]\n",
    "    keep_y = [i for i in ylist[::-1]]\n",
    "\n",
    "    return xlist + keep_x,ylist + keep_y\n",
    "\n",
    "#解の公式\n",
    "def quadratic_formula(a,b,r,x,grad,change_g):\n",
    "    if a==1 or a==-1:\n",
    "#         print(\"解の公式が適応できません\")\n",
    "        return 0\n",
    "    else:\n",
    "        global tes\n",
    "        if grad<0:   \n",
    "            #判別式で直線と交わっているか確かめる\n",
    "            D = pow(a,2)*pow(b,2)-(1+pow(a,2))*(pow(b,2)-pow(r,2))\n",
    "            if D<0:\n",
    "    #             print(\"光線が内周の円と交わっていません\")\n",
    "                #内周と接さずに外周と接する\n",
    "    #             print(\"tes\",tes)\n",
    "                if x<0:\n",
    "                    return (-a*b+np.sqrt(pow(a,2)*pow(b,2)-(1+pow(a,2))*(pow(b,2)-pow(tes,2))))/(1+pow(a,2))\n",
    "                elif x==0:\n",
    "                    return x\n",
    "                elif x>0:\n",
    "                    return (-a*b-np.sqrt(pow(a,2)*pow(b,2)-(1+pow(a,2))*(pow(b,2)-pow(tes,2))))/(1+pow(a,2))\n",
    "            elif D == 0:\n",
    "                print(\"直線と円が接しています\")\n",
    "                if change_g == 1:\n",
    "                    return (-a*b-np.sqrt(pow(a,2)*pow(b,2)-(1+pow(a,2))*(pow(b,2)-pow(r,2))))/(1+pow(a,2))\n",
    "                \n",
    "                if x<0:\n",
    "                    return (-a*b+np.sqrt(pow(a,2)*pow(b,2)-(1+pow(a,2))*(pow(b,2)-pow(r,2))))/(1+pow(a,2))\n",
    "                elif x==0:\n",
    "                    return x\n",
    "                elif x>0:\n",
    "                    return (-a*b-np.sqrt(pow(a,2)*pow(b,2)-(1+pow(a,2))*(pow(b,2)-pow(r,2))))/(1+pow(a,2))\n",
    "            else:\n",
    "                if change_g == 1:\n",
    "                    return (-a*b-np.sqrt(pow(a,2)*pow(b,2)-(1+pow(a,2))*(pow(b,2)-pow(r,2))))/(1+pow(a,2))\n",
    "                \n",
    "                if x<0:\n",
    "                    return (-a*b+np.sqrt(pow(a,2)*pow(b,2)-(1+pow(a,2))*(pow(b,2)-pow(r,2))))/(1+pow(a,2))\n",
    "                elif x==0:\n",
    "                    return x\n",
    "                elif x>0:\n",
    "                    return (-a*b-np.sqrt(pow(a,2)*pow(b,2)-(1+pow(a,2))*(pow(b,2)-pow(r,2))))/(1+pow(a,2))\n",
    "        else:\n",
    "            #判別式で直線と交わっているか確かめる\n",
    "            D = pow(a,2)*pow(b,2)-(1+pow(a,2))*(pow(b,2)-pow(r,2))\n",
    "            if D<0:\n",
    "    #             print(\"光線が内周の円と交わっていません\")\n",
    "                #内周と接さずに外周と接する\n",
    "    #             print(\"tes\",tes)\n",
    "                if x<0:\n",
    "                    return (-a*b-np.sqrt(pow(a,2)*pow(b,2)-(1+pow(a,2))*(pow(b,2)-pow(tes,2))))/(1+pow(a,2))\n",
    "                elif x==0:\n",
    "                    return x\n",
    "                elif x>0:\n",
    "                    return (-a*b+np.sqrt(pow(a,2)*pow(b,2)-(1+pow(a,2))*(pow(b,2)-pow(tes,2))))/(1+pow(a,2))\n",
    "            elif D == 0:\n",
    "                print(\"直線と円が接しています\")\n",
    "                if x<0:\n",
    "                    return (-a*b-np.sqrt(pow(a,2)*pow(b,2)-(1+pow(a,2))*(pow(b,2)-pow(r,2))))/(1+pow(a,2))\n",
    "                elif x==0:\n",
    "                    return x\n",
    "                elif x>0:\n",
    "                    return (-a*b+np.sqrt(pow(a,2)*pow(b,2)-(1+pow(a,2))*(pow(b,2)-pow(r,2))))/(1+pow(a,2)) \n",
    "            else:\n",
    "                if x<0:\n",
    "                    return (-a*b-np.sqrt(pow(a,2)*pow(b,2)-(1+pow(a,2))*(pow(b,2)-pow(r,2))))/(1+pow(a,2))\n",
    "                elif x==0:\n",
    "                    return x\n",
    "                elif x>0:\n",
    "                    return (-a*b+np.sqrt(pow(a,2)*pow(b,2)-(1+pow(a,2))*(pow(b,2)-pow(r,2))))/(1+pow(a,2))            \n",
    "            \n",
    "\n",
    "\n",
    "#直線の傾き\n",
    "def katamuki(n_i ,n_r ,x_i,y_i,sita_h_i,sita_r_i,sita_i,sin_i):\n",
    "    if n_i>n_r:\n",
    "        sin_c = n_r/n_i\n",
    "        sita_c = np.arcsin(sin_c)\n",
    "        if sita_c > sita_i:\n",
    "            #屈折しつつ透過\n",
    "            #屈折角を求める\n",
    "            sin_r = n_i*sin_i/n_r\n",
    "            sita_r = np.arcsin(sin_r)\n",
    "            #同じものでよさそう\n",
    "            if x_i<0:\n",
    "                if y_i>0:\n",
    "                    gradient_i = np.tan(-(sita_h_i+sita_r))\n",
    "                    return gradient_i\n",
    "                if y_i<0:\n",
    "                    gradient_i = np.tan(-(np.radians(180)-(sita_h_i+sita_r)))\n",
    "                    #print(\"テストgrad\",gradient_i)\n",
    "\n",
    "                    return gradient_i\n",
    "            elif x_i ==0:\n",
    "                print(\"x_i=0\")\n",
    "            elif x_i>0:\n",
    "                if y_i>0:\n",
    "                    gradient_i = np.tan(-(np.radians(180)-(sita_h_i+sita_r)))\n",
    "                    return gradient_i\n",
    "                if y_i<0:\n",
    "                    gradient_i = np.tan(-(sita_h_i+sita_r))\n",
    "                    return gradient_i\n",
    "\n",
    "        else:\n",
    "            #全反射\n",
    "            sita_r = sita_i\n",
    "\n",
    "            if x_i<0:\n",
    "                gradient_i = np.tan(-(np.radians(180)-(sita_r-sita_h_i)))\n",
    "                return gradient_i\n",
    "            elif x_i==0:\n",
    "                print(\"おそらく存在しない\")\n",
    "            elif x_i>0:\n",
    "                gradient_i = np.tan(-(sita_r-sita_h_i))\n",
    "                return gradient_i\n",
    "    else:\n",
    "        if x_i<0:\n",
    "            if y_i>0:\n",
    "                gradient_i = np.tan(-(sita_h_i+sita_r_i))\n",
    "                return gradient_i\n",
    "            if y_i<0:\n",
    "                gradient_i = np.tan(-(np.radians(180)-(sita_h_i+sita_r_i)))\n",
    "                return gradient_i\n",
    "        elif x_i ==0:\n",
    "            print(\"x_i=0\")\n",
    "        elif x_i>0:\n",
    "            if y_i>0:\n",
    "                gradient_i = np.tan(-(np.radians(180)-(sita_h_i+sita_r_i)))\n",
    "                return gradient_i\n",
    "            if y_i<0:\n",
    "                gradient_i = np.tan(-(sita_h_i+sita_r_i))\n",
    "                return gradient_i\n",
    "\n",
    "\n",
    "#角計測部分\n",
    "#全反射0 その他１\n",
    "def calculate_angle_and_(n_i ,n_r ,x ,y ,x_i ,y_i, r_i,change, change_grad):\n",
    "    \n",
    "    \n",
    "    #求めたい角度に必要な2つの直線\n",
    "    #1.y軸に平行な直線の式はx=h → 0*y+1*x-h=0\n",
    "    a = -(y_i - y)\n",
    "    b = x_i - x\n",
    "    #2.接線に垂直な直線→便利な公式：ax+by+c=0 に垂直で，(x0,y0) を通る直線の方程式は，b(x−x0)−a(y−y0)=0\n",
    "    c = y_i\n",
    "    d = -x_i\n",
    "    if a*c + b*d == 0:\n",
    "#         print(\"a*c + b*d\",a*c + b*d)\n",
    "        return 0,0,0,0,0,0\n",
    "    #2直線の成す角→入射角\n",
    "    tan = (abs(a*d - b*c))/(abs(a*c + b*d))\n",
    "    sita_i = np.arctan(tan)\n",
    "    #スネルの法則にひつような入射角のsin\n",
    "    sin_i = np.sin(sita_i)\n",
    "\n",
    "    #テス\n",
    "    a_h = 0\n",
    "    b_h = 1\n",
    "    if a_h*c + b_h*d == 0:\n",
    "#         print(\"a*c + b*d\",a*c + b*d)\n",
    "        return 0,0 ,0,0,0 ,0\n",
    "    tan2 = (abs(a_h*d - b_h*c))/(abs(a_h*c + b_h*d))\n",
    "    sita_h_i = np.arctan(tan2)\n",
    "    sin_h_i = np.sin(sita_h_i)\n",
    "#     print(\"n_i\",n_i)\n",
    "#     print(\"n_r\",n_r)\n",
    "#     print(\"sin_i\",sin_i)\n",
    "    if change == 0:\n",
    "        sita_r = sita_i\n",
    "#         print(\"calcの中、全反射だよ\")\n",
    "    else:\n",
    "        sin_r = n_i*sin_i/n_r\n",
    "        if sin_r > 1:\n",
    "#             print(\"sinが1を超えてる\")\n",
    "            return 0,0,0,0,0,0\n",
    "        sita_r = np.arcsin(sin_r)\n",
    "\n",
    "\n",
    "    gradient_i = katamuki(n_i ,n_r ,x_i,y_i,sita_h_i,sita_r,sita_i,sin_i) \n",
    "    if gradient_i == None:\n",
    "#         print(\"てすと\")\n",
    "        return 0,0,0,0,0,0\n",
    "    y_intercept_i = y_i - gradient_i * x_i\n",
    "#     print(\"gradient_i\",gradient_i,y_intercept_i,r_i,x_i,gradient_i, change_grad)\n",
    "    x_i_i = quadratic_formula(gradient_i,y_intercept_i,r_i,x_i,gradient_i, change_grad)\n",
    "    if math.isnan(x_i_i):\n",
    "        return 0,0,0,0,0,0\n",
    "        \n",
    "    y_i_i = gradient_i*x_i_i + y_intercept_i\n",
    "#     print(\"y_i_i\",y_i_i)\n",
    "    \n",
    "    #y一定での座標も追加\n",
    "    global r_h\n",
    "    y_const = -r_h\n",
    "    x_const_ans = (y_const - y_intercept_i)/gradient_i\n",
    "    \n",
    "    #角度追加\n",
    "    if x_i_i < 0:\n",
    "        beta = sita_r + sita_h_i\n",
    "    else:\n",
    "        beta = np.pi - (sita_r + sita_h_i)\n",
    "    return x_i_i ,y_i_i ,beta ,gradient_i, y_intercept_i, x_const_ans\n",
    "\n",
    "\n",
    "\n",
    "\n",
    "xlist = []\n",
    "ylist = []\n",
    "xlist_d = []\n",
    "ylist_d = []\n",
    "xlist_z = []\n",
    "ylist_z = []\n",
    "x_a_list = []\n",
    "y_a_list = []\n",
    "x_d_list = []\n",
    "y_d_list = []\n",
    "test_x = []\n",
    "test_y = []\n",
    "sita_v_list = []\n",
    "gradient_list = []\n",
    "intercept_list = []\n",
    "gradient_half_list = []\n",
    "intercept_half_list = []\n",
    "x_const_halflist = []\n",
    "x_const_list = []\n",
    "y_const_list = []\n",
    "zen_x_1 = []\n",
    "zen_y_1 = []\n",
    "zen_x_2 = []\n",
    "zen_y_2 = []\n",
    "zen_x_3 = []\n",
    "zen_y_3 = []\n",
    "zen_x_4 = []\n",
    "zen_y_4 = []\n",
    "toka_x_1 = []\n",
    "toka_y_1 = []\n",
    "toka_x_2 = []\n",
    "toka_y_2 = []\n",
    "toka_x_3 = []\n",
    "toka_y_3 = []\n",
    "n_toka_x_1 = []\n",
    "n_toka_y_1 = []\n",
    "n_toka_x_2 = []\n",
    "n_toka_y_2 = []\n",
    "n_toka_x_3 = []\n",
    "n_toka_y_3 = []\n",
    "naibu_x_1 = []\n",
    "naibu_y_1 = []\n",
    "naibu_x_2 = []\n",
    "naibu_y_2 = []\n",
    "naibu_x_3 = []\n",
    "naibu_y_3 = []\n",
    "naibu_x_4 = []\n",
    "naibu_y_4 = []\n",
    "naibu_x_5 = []\n",
    "naibu_y_5 = []\n",
    "n_naibu_x_1 = []\n",
    "n_naibu_y_1 = []\n",
    "n_naibu_x_2 = []\n",
    "n_naibu_y_2 = []\n",
    "n_naibu_x_3 = []\n",
    "n_naibu_y_3 = []\n",
    "n_naibu_x_4 = []\n",
    "n_naibu_y_4 = []\n",
    "n_naibu_x_5 = []\n",
    "n_naibu_y_5 = []\n",
    "transmittance = []\n",
    "\n",
    "tm = 1\n",
    "\n",
    "cnt=0\n",
    "arg = 100000\n",
    "\n",
    "change_d = 0\n",
    "\n",
    "\n",
    "# for x in range(-r+1,r):\n",
    "for x in range(-r+1,0):\n",
    "    if x == 0:\n",
    "        continue\n",
    "#     print(\"x\",x)\n",
    "    #最初\n",
    "    y = 0\n",
    "    x_i = x\n",
    "    y_i = np.sqrt(pow(r,2)-pow(x_i,2))\n",
    "\n",
    "    n_i = 1.000292\n",
    "    n_r = 1.49\n",
    "    #2つ目の座標\n",
    "    #ここで内径に接しない場合も考える必要がある。\n",
    "    #おかしいっぽい -> 全部接することになってる？ -> おそらくD<0がうまくとれてない\n",
    "    x_i_i, y_i_i,beta,g_empty,i_empty, x_const_empty = calculate_angle_and_(n_i ,n_r ,x ,y ,x_i ,y_i, r_i,1,1)     \n",
    "#     print(\"きてる？\",x_i_i,y_i_i)\n",
    "#     x_d_list.append(x_i_i)\n",
    "#     y_d_list.append(y_i_i)\n",
    "#     new_x_d_list,new_y_d_list = array(x_d_list, y_d_list)\n",
    "#     print(\"1回目のcalc\")\n",
    "    if x_i_i == 0 and y_i_i == 0:\n",
    "#         print(\"--------------------------------------\")\n",
    "        cnt +=1\n",
    "        continue\n",
    "#     print(pow(x_i_i,2)+pow(y_i_i,2),pow(r_i-1,2))\n",
    "    #おかしい\n",
    "    if pow(x_i_i,2)+pow(y_i_i,2) > pow(r_i+0.5,2):\n",
    "#         print(\"-------------------------------------\")\n",
    "#         print(\"D<0ルート\")\n",
    "#         print(\"きてる2？\")\n",
    "\n",
    "        n_i = 1.49\n",
    "        n_r = 1.000292\n",
    "        sin_c = n_r/n_i\n",
    "        sita_c = np.arcsin(sin_c)    \n",
    "        a = -(y_i_i - y_i)\n",
    "        b = x_i_i - x_i\n",
    "        c = y_i_i\n",
    "        d = -x_i_i\n",
    "        tan = (abs(a*d - b*c))/(abs(a*c + b*d))\n",
    "        if a*c + b*d == 0:\n",
    "            continue\n",
    "        sita_i = np.arctan(tan)\n",
    "        if sita_c < sita_i:\n",
    "            continue\n",
    "\n",
    "        n_i = 1.49\n",
    "        n_r = 1.000292\n",
    "        cnt +=1\n",
    "        \n",
    "        x_d_get,y_d_get,beta,gradient,intercept, x_const = calculate_angle_and_(n_i ,n_r ,x_i ,y_i ,x_i_i ,y_i_i, r_h,1,0)\n",
    "        a = -(y_d_get - y_i_i)\n",
    "        b = x_d_get - x_i_i\n",
    "        c = 1\n",
    "        d = 0    \n",
    "        tan = (abs(a*d - b*c))/(abs(a*c + b*d))\n",
    "        if a*c + b*d == 0:\n",
    "            continue\n",
    "#         alfa = abs(np.arccos(x_d_get/r_h) - np.pi)\n",
    "#         slit = abs(np.rad2deg(alfa)-np.rad2deg(beta))\n",
    "#         if arg < slit:\n",
    "#             continue\n",
    "        if 0<=y_d_get:\n",
    "#             print(\"-------------------------------------\")\n",
    "            continue\n",
    "    \n",
    "        keep_change_x = abs(x_i_i)\n",
    "        keep_change_y = y_i_i\n",
    "        \n",
    "        #D<0の描画用\n",
    "        \n",
    "        toka_x_1.append(x_i)\n",
    "        toka_y_1.append(y_i)\n",
    "        toka_x_2.append(x_i_i)\n",
    "        toka_y_2.append(y_i_i)\n",
    "        toka_x_3.append(x_d_get)\n",
    "        toka_y_3.append(y_d_get)\n",
    "        \n",
    "        sita_v = np.arctan(tan)\n",
    "        sita_v_list.append(sita_v)\n",
    "        x_d_list.append(x_i_i)\n",
    "        y_d_list.append(y_i_i)\n",
    "        test_x.append(x_i)\n",
    "        test_y.append(y_i)\n",
    "        #new_x_d_list,new_y_d_list = array(x_d_list, y_d_list)\n",
    "\n",
    "        #外周の座標点\n",
    "        x_a_list.append(x_i_i)\n",
    "        y_a_list.append(y_i_i)\n",
    "        #new_x_a_list,new_y_a_list = array(x_a_list,y_a_list)\n",
    "        #最後の傾きと切片\n",
    "        gradient_half_list.append(gradient)\n",
    "        intercept_half_list.append(intercept)\n",
    "        #gradient_list, intercept_list = array(gradient_half_list,intercept_half_list) \n",
    "        \n",
    "        #y一定での受光(x座標)\n",
    "        x_const_halflist.append(x_const)\n",
    "        \n",
    "        #透過率\n",
    "        transmittance.append(tm)\n",
    "\n",
    "#         xlist_d.append(x_d_get)\n",
    "#         ylist_d.append(y_d_get)\n",
    "#         new_xlist_d,new_ylist_d = array(xlist_d, ylist_d)\n",
    "        xlist.append(x_d_get)\n",
    "        ylist.append(y_d_get)\n",
    "#         print(\"-------------------------------------\")\n",
    "    else:\n",
    "        change_d += 1\n",
    "#         print(\"きてる3？\")\n",
    "        #内側→外\n",
    "#         print(\"D>0ルート\")\n",
    "        n_i = 1.49\n",
    "        n_r = 1.000292\n",
    "        sin_c = n_r/n_i\n",
    "        sita_c = np.arcsin(sin_c)    \n",
    "        a = -(y_i_i - y_i)\n",
    "        b = x_i_i - x_i\n",
    "        c = y_i_i\n",
    "        d = -x_i_i\n",
    "\n",
    "        tan = (abs(a*d - b*c))/(abs(a*c + b*d))\n",
    "        if a*c + b*d == 0:\n",
    "            continue\n",
    "        sita_i = np.arctan(tan)        \n",
    "        #3つ目の座標 透過or全反射→どう分けよう とりあえずaをトリガーにする？→aと半径をトリガーにする？\n",
    "        #ここのrが問題→全反射と内部を透過する場合で代入しなければならない半径が異なる\n",
    "        if sita_c > sita_i:\n",
    "            #x_i_iがx_i_i_iとおなじになってる　てかx_i_iがおかしい\n",
    "            x_i_i_i, y_i_i_i,beta,g_empty,i_empty,x_const_empty = calculate_angle_and_(n_i ,n_r ,x_i ,y_i ,x_i_i ,y_i_i, r_i,1,0)\n",
    "            \n",
    "#             print(\"2回目のcalc　内部\")\n",
    "            if x_i_i_i == 0 and y_i_i_i == 0:\n",
    "#                 print(\"--------------------------------------\")\n",
    "                cnt +=1\n",
    "                continue\n",
    "            \n",
    "            n_i = 1.000292\n",
    "            n_r = 1.49 \n",
    "            #外周の座標\n",
    "            #今次に全反射するデータも全てとっている気がする -> 透過の方も\n",
    "            x_i_i_r, y_i_i_r,beta,g_empty,i_empty,x_const_empty = calculate_angle_and_(n_i ,n_r ,x_i_i ,y_i_i ,x_i_i_i ,y_i_i_i, r,1,0)\n",
    "            n_i = 1.49\n",
    "            n_r = 1.000292\n",
    "            sin_c = n_r/n_i\n",
    "            sita_c = np.arcsin(sin_c)    \n",
    "            a = -(y_i_i_r - y_i_i_i)\n",
    "            b = x_i_i_r - x_i_i_i\n",
    "            c = y_i_i_r\n",
    "            d = -x_i_i_r\n",
    "            tan = (abs(a*d - b*c))/(abs(a*c + b*d))\n",
    "            if a*c + b*d == 0:\n",
    "                continue\n",
    "            sita_i = np.arctan(tan)\n",
    "            if sita_c < sita_i:\n",
    "                continue\n",
    "\n",
    "#             print(\"3回目のcalc\")\n",
    "            if x_i_i_r == 0 and y_i_i_r == 0:\n",
    "#                 print(\"--------------------------------------\")\n",
    "#                 cnt +=1\n",
    "                continue\n",
    "            n_i = 1.49\n",
    "            n_r = 1.000292\n",
    "            x_get,y_get,beta,gradient,intercept, x_const = calculate_angle_and_(n_i ,n_r ,x_i_i_i ,y_i_i_i ,x_i_i_r ,y_i_i_r, r_h,1,0)\n",
    "#             x_get,y_get,beta,gradient,intercept, x_const = 0, 1, 0, 0, 0, 0\n",
    "            alfa = abs(np.arccos(x_get/r_h) - np.pi)\n",
    "            slit = abs(np.rad2deg(alfa)-np.rad2deg(beta))\n",
    "            if arg < slit or 0 < y_get:\n",
    "                continue\n",
    "#             print(\"最後のcalc　内部透過\")\n",
    "#             print(\"--------------------------------------\")\n",
    "\n",
    "            #Dの境界を見つける\n",
    "            if change_d == 1:\n",
    "                print(\"内部\",r+x)\n",
    "                \n",
    "            naibu_x_1.append(x_i)\n",
    "            naibu_y_1.append(y_i)\n",
    "            naibu_x_2.append(x_i_i)\n",
    "            naibu_y_2.append(y_i_i)\n",
    "            naibu_x_3.append(x_i_i_i)\n",
    "            naibu_y_3.append(y_i_i_i)\n",
    "            naibu_x_4.append(x_i_i_r)\n",
    "            naibu_y_4.append(y_i_i_r)\n",
    "            naibu_x_5.append(x_get)\n",
    "            naibu_y_5.append(y_get)\n",
    "            \n",
    "            tm = 0.5\n",
    "\n",
    "#             naibu_x_1.append(0)\n",
    "#             naibu_y_1.append(0)\n",
    "#             naibu_x_2.append(0)\n",
    "#             naibu_y_2.append(0)\n",
    "#             naibu_x_3.append(0)\n",
    "#             naibu_y_3.append(0)\n",
    "#             naibu_x_4.append(0)\n",
    "#             naibu_y_4.append(0)\n",
    "#             naibu_x_5.append(0)\n",
    "#             naibu_y_5.append(0)\n",
    "\n",
    "        \n",
    "        elif sita_c < sita_i:      \n",
    "#             print(\"全反射ルート\")\n",
    "            #外周の座標\n",
    "            x_i_i_r, y_i_i_r,beta,g_empty,i_empty,x_const_empty = calculate_angle_and_(n_i ,n_r ,x_i ,y_i ,x_i_i ,y_i_i, r,0,0)\n",
    "#             print(\"2回目のcalc 全反射\")\n",
    "            if x_i_i_r == 0 and y_i_i_r == 0:\n",
    "#                 print(\"--------------------------------------\")\n",
    "                cnt +=1\n",
    "                continue\n",
    "            \n",
    "\n",
    "            n_i = 1.49\n",
    "            n_r = 1.000292\n",
    "            sin_c = n_r/n_i\n",
    "            sita_c = np.arcsin(sin_c)    \n",
    "            a = -(y_i_i_r - y_i_i)\n",
    "            b = x_i_i_r - x_i_i\n",
    "            c = y_i_i_r\n",
    "            d = -x_i_i_r\n",
    "            tan = (abs(a*d - b*c))/(abs(a*c + b*d))\n",
    "            if a*c + b*d == 0:\n",
    "                continue\n",
    "            sita_i = np.arctan(tan)\n",
    "            if sita_c < sita_i:\n",
    "                continue\n",
    "\n",
    "            x_get,y_get,beta,gradient,intercept,x_const = calculate_angle_and_(n_i ,n_r ,x_i_i ,y_i_i ,x_i_i_r ,y_i_i_r, r_h,1,0)\n",
    "            alfa = abs(np.arccos(x_get/r_h) - np.pi)\n",
    "            slit = abs(np.rad2deg(alfa)-np.rad2deg(beta))\n",
    "#             print(\"slitの中身\",slit)\n",
    "            if arg < slit:\n",
    "                continue\n",
    "#             print(\"最後のcalc　全反射\")\n",
    "#             print(\"--------------------------------------\")\n",
    "            if 0<=y_get or 0 < x_get :\n",
    "                continue\n",
    "            \n",
    "            #Dの境界を見つける\n",
    "            if change_d == 1:\n",
    "                print(\"全反射\",r+x)\n",
    "                \n",
    "            zen_x_1.append(x_i)\n",
    "            zen_y_1.append(y_i)\n",
    "            zen_x_2.append(x_i_i)\n",
    "            zen_y_2.append(y_i_i)\n",
    "            zen_x_3.append(x_i_i_r)\n",
    "            zen_y_3.append(y_i_i_r)\n",
    "            zen_x_4.append(x_get)\n",
    "            zen_y_4.append(y_get)\n",
    "            \n",
    "            #new_xlist_z,new_ylist_z = array(xlist_z,ylist_z)\n",
    "        if 0<=y_get:\n",
    "            continue\n",
    "\n",
    "        #外周の座標点\n",
    "        x_a_list.append(x_i_i_r)\n",
    "        y_a_list.append(y_i_i_r)\n",
    "\n",
    "        #最後の傾きと切片\n",
    "        gradient_half_list.append(gradient)\n",
    "        intercept_half_list.append(intercept)\n",
    "\n",
    "        \n",
    "        #y一定での受光(x座標)\n",
    "        x_const_halflist.append(x_const)\n",
    "        \n",
    "        xlist.append(x_get)\n",
    "        ylist.append(y_get)\n",
    "        \n",
    "        #透過率\n",
    "        transmittance.append(tm)\n",
    "        \n",
    "emplist = [r_h]*len(x_const_halflist)\n",
    "new_x_a_list,new_y_a_list = array(x_a_list,y_a_list)    \n",
    "gradient_list, intercept_list = array(gradient_half_list,intercept_half_list)\n",
    "x_const_list, y_const_list = array(x_const_halflist, emplist)\n",
    "new_xlist, new_ylist = array(xlist,ylist)\n",
    "emp, transmittance_list = array(emplist, transmittance)\n",
    "\n",
    "n_zen_x_1, n_zen_y_1 = array(zen_x_1, zen_y_1)\n",
    "n_zen_x_2, n_zen_y_2 = array(zen_x_2, zen_y_2)\n",
    "n_zen_x_3, n_zen_y_3 = array(zen_x_3, zen_y_3)\n",
    "n_zen_x_4, n_zen_y_4 = array(zen_x_4, zen_y_4)\n",
    "\n",
    "n_toka_x_1, n_toka_y_1 = array(toka_x_1, toka_y_1)\n",
    "n_toka_x_2, n_toka_y_2 = array(toka_x_2, toka_y_2)\n",
    "n_toka_x_3, n_toka_y_3 = array(toka_x_3, toka_y_3)\n",
    "\n",
    "n_naibu_x_1, n_naibu_y_1 = array(naibu_x_1, naibu_y_1)\n",
    "n_naibu_x_2, n_naibu_y_2 = array(naibu_x_2, naibu_y_2)\n",
    "n_naibu_x_3, n_naibu_y_3 = array(naibu_x_3, naibu_y_3)\n",
    "n_naibu_x_4, n_naibu_y_4 = array(naibu_x_4, naibu_y_4)\n",
    "n_naibu_x_5, n_naibu_y_5 = array(naibu_x_5, naibu_y_5)\n",
    "\n",
    "num_tes = len(new_x_a_list)\n",
    "change_d_x = [0]*num_tes\n",
    "change_d_y = [0]*num_tes\n",
    "#最後に残ってる点 D<0\n",
    "change_d_x[0] = keep_change_x\n",
    "change_d_y[0] = keep_change_y\n",
    "\n",
    "df = pd.DataFrame({\n",
    "    'x':new_x_a_list,\n",
    "    'y':new_y_a_list,\n",
    "    'gradient':gradient_list,\n",
    "    'intercept':intercept_list,\n",
    "    'change_x':change_d_x,\n",
    "    'change_y':change_d_y,\n",
    "    'transmittance':transmittance_list\n",
    "})\n",
    "\n",
    "df.to_csv(\"./data_csv3/dataset_r_i_{0}_r_{1}.csv\".format(r_i, r), index=False)\n",
    "\n",
    "#         t_end = time.time()\n",
    "#         elapsed_time = t_end-t_start\n",
    "#         print(f\"経過時間：{elapsed_time/60}分\")"
   ]
  },
  {
   "cell_type": "code",
   "execution_count": 2,
   "metadata": {},
   "outputs": [
    {
     "name": "stdout",
     "output_type": "stream",
     "text": [
      "<class 'pandas.core.frame.DataFrame'>\n",
      "RangeIndex: 18854 entries, 0 to 18853\n",
      "Data columns (total 6 columns):\n",
      " #   Column     Non-Null Count  Dtype  \n",
      "---  ------     --------------  -----  \n",
      " 0   x          18854 non-null  float64\n",
      " 1   y          18854 non-null  float64\n",
      " 2   gradient   18854 non-null  float64\n",
      " 3   intercept  18854 non-null  float64\n",
      " 4   change_x   18854 non-null  float64\n",
      " 5   change_y   18854 non-null  float64\n",
      "dtypes: float64(6)\n",
      "memory usage: 883.9 KB\n"
     ]
    }
   ],
   "source": [
    "df.info()"
   ]
  },
  {
   "cell_type": "code",
   "execution_count": 3,
   "metadata": {},
   "outputs": [
    {
     "data": {
      "image/png": "[encoded data removed]",
      "text/plain": [
       "<Figure size 432x288 with 1 Axes>"
      ]
     },
     "metadata": {
      "needs_background": "light"
     },
     "output_type": "display_data"
    }
   ],
   "source": [
    "#全部の座標表示\n",
    "\n",
    "import matplotlib.pyplot as plt\n",
    "import matplotlib.patches as patches\n",
    "\n",
    "g = plt.subplot()\n",
    "#外径\n",
    "draw_circle_r = plt.Circle((0, 0), r, fill=False)\n",
    "#内径\n",
    "draw_circle_i = plt.Circle((0, 0), r_i, fill=False)\n",
    "g.add_artist(draw_circle_r)\n",
    "g.add_artist(draw_circle_i)\n",
    "g.plot(new_xlist, new_ylist, marker=\"o\", color = \"red\", linestyle = \" \",markersize=1)\n",
    "\n",
    "g.set_aspect('equal')\n"
   ]
  },
  {
   "cell_type": "code",
   "execution_count": 4,
   "metadata": {},
   "outputs": [
    {
     "name": "stderr",
     "output_type": "stream",
     "text": [
      "/opt/anaconda3/lib/python3.8/site-packages/seaborn/distributions.py:2551: FutureWarning: `distplot` is a deprecated function and will be removed in a future version. Please adapt your code to use either `displot` (a figure-level function with similar flexibility) or `histplot` (an axes-level function for histograms).\n",
      "  warnings.warn(msg, FutureWarning)\n"
     ]
    },
    {
     "data": {
      "text/plain": [
       "<AxesSubplot:ylabel='Density'>"
      ]
     },
     "execution_count": 4,
     "metadata": {},
     "output_type": "execute_result"
    },
    {
     "data": {
      "image/png": "[encoded data removed]",
      "text/plain": [
       "<Figure size 432x288 with 1 Axes>"
      ]
     },
     "metadata": {
      "needs_background": "light"
     },
     "output_type": "display_data"
    }
   ],
   "source": [
    "import seaborn as sns\n",
    "sns.distplot(new_xlist)"
   ]
  },
  {
   "cell_type": "code",
   "execution_count": 5,
   "metadata": {},
   "outputs": [
    {
     "name": "stdout",
     "output_type": "stream",
     "text": [
      "2276\n"
     ]
    },
    {
     "data": {
      "image/png": "[encoded data removed]",
      "text/plain": [
       "<Figure size 432x288 with 1 Axes>"
      ]
     },
     "metadata": {
      "needs_background": "light"
     },
     "output_type": "display_data"
    }
   ],
   "source": [
    "# 全反射の外径通過点\n",
    "import matplotlib.pyplot as plt\n",
    "import matplotlib.patches as patches\n",
    "\n",
    "print(len(n_zen_x_4))\n",
    "\n",
    "g = plt.subplot()\n",
    "#外径\n",
    "draw_circle_r = plt.Circle((0, 0), r, fill=False)\n",
    "#内径\n",
    "draw_circle_i = plt.Circle((0, 0), r_i, fill=False)\n",
    "g.add_artist(draw_circle_r)\n",
    "g.add_artist(draw_circle_i)\n",
    "# g.plot(new_x_a_list, new_y_a_list, marker=\"o\", color = \"red\", linestyle = \" \",markersize=1)\n",
    "\n",
    "#線追加\n",
    "# g.plot(new_x_d_list,new_y_d_list, marker=\"o\", color = \"red\", linestyle = \" \",markersize=1)\n",
    "# g.plot(test_x,test_y, marker=\"o\", color = \"red\", linestyle = \" \",markersize=1)\n",
    "n = 100\n",
    "g.plot(n_zen_x_1,n_zen_y_1, marker=\"o\", color = \"red\", linestyle = \" \",markersize=1)\n",
    "g.plot(n_zen_x_2,n_zen_y_2, marker=\"o\", color = \"red\", linestyle = \" \",markersize=1)\n",
    "g.plot(n_zen_x_3,n_zen_y_3, marker=\"o\", color = \"red\", linestyle = \" \",markersize=1)\n",
    "g.plot(n_zen_x_4,n_zen_y_4, marker=\"o\", color = \"red\", linestyle = \" \",markersize=1)\n",
    "g.plot([n_zen_x_1[n],n_zen_x_2[n]],[n_zen_y_1[n],n_zen_y_2[n]])\n",
    "g.plot([n_zen_x_2[n],n_zen_x_3[n]],[n_zen_y_2[n],n_zen_y_3[n]])\n",
    "g.plot([n_zen_x_3[n],n_zen_x_4[n]],[n_zen_y_3[n],n_zen_y_4[n]])\n",
    "# g.plot(new_xlist_d, new_ylist_d, marker=\"o\", color = \"red\", linestyle = \" \",markersize=1)\n",
    "# g.plot([new_xlist_d[100],new_x_d_list[100]],[new_ylist_d[100],new_y_d_list[100]])\n",
    "\n",
    "\n",
    "g.set_aspect('equal')\n",
    "\n"
   ]
  },
  {
   "cell_type": "code",
   "execution_count": 6,
   "metadata": {},
   "outputs": [
    {
     "name": "stderr",
     "output_type": "stream",
     "text": [
      "/opt/anaconda3/lib/python3.8/site-packages/seaborn/distributions.py:2551: FutureWarning: `distplot` is a deprecated function and will be removed in a future version. Please adapt your code to use either `displot` (a figure-level function with similar flexibility) or `histplot` (an axes-level function for histograms).\n",
      "  warnings.warn(msg, FutureWarning)\n"
     ]
    },
    {
     "data": {
      "text/plain": [
       "<AxesSubplot:ylabel='Density'>"
      ]
     },
     "execution_count": 6,
     "metadata": {},
     "output_type": "execute_result"
    },
    {
     "data": {
      "image/png": "[encoded data removed]",
      "text/plain": [
       "<Figure size 432x288 with 1 Axes>"
      ]
     },
     "metadata": {
      "needs_background": "light"
     },
     "output_type": "display_data"
    }
   ],
   "source": [
    "sns.distplot(n_zen_x_4)"
   ]
  },
  {
   "cell_type": "code",
   "execution_count": 7,
   "metadata": {},
   "outputs": [
    {
     "name": "stdout",
     "output_type": "stream",
     "text": [
      "11062\n"
     ]
    },
    {
     "data": {
      "image/png": "[encoded data removed]",
      "text/plain": [
       "<Figure size 432x288 with 1 Axes>"
      ]
     },
     "metadata": {
      "needs_background": "light"
     },
     "output_type": "display_data"
    }
   ],
   "source": [
    "# D<0\n",
    "import matplotlib.pyplot as plt\n",
    "import matplotlib.patches as patches\n",
    "\n",
    "\n",
    "\n",
    "g = plt.subplot()\n",
    "#外径\n",
    "draw_circle_r = plt.Circle((0, 0), r, fill=False)\n",
    "#内径\n",
    "draw_circle_i = plt.Circle((0, 0), r_i, fill=False)\n",
    "g.add_artist(draw_circle_r)\n",
    "g.add_artist(draw_circle_i)\n",
    "# g.plot(new_x_a_list, new_y_a_list, marker=\"o\", color = \"red\", linestyle = \" \",markersize=1)\n",
    "print(len(n_toka_x_1))\n",
    "#線追加\n",
    "# g.plot(new_x_d_list,new_y_d_list, marker=\"o\", color = \"red\", linestyle = \" \",markersize=1)\n",
    "# g.plot(test_x,test_y, marker=\"o\", color = \"red\", linestyle = \" \",markersize=1)\n",
    "n = 5000\n",
    "g.plot(n_toka_x_1,n_toka_y_1, marker=\"o\", color = \"red\", linestyle = \" \",markersize=1)\n",
    "g.plot(n_toka_x_2,n_toka_y_2, marker=\"o\", color = \"red\", linestyle = \" \",markersize=1)\n",
    "g.plot(n_toka_x_3,n_toka_y_3, marker=\"o\", color = \"red\", linestyle = \" \",markersize=1)\n",
    "\n",
    "g.plot([n_toka_x_1[n],n_toka_x_2[n]],[n_toka_y_1[n],n_toka_y_2[n]])\n",
    "g.plot([n_toka_x_2[n],n_toka_x_3[n]],[n_toka_y_2[n],n_toka_y_3[n]])\n",
    "# g.plot(new_xlist_d, new_ylist_d, marker=\"o\", color = \"red\", linestyle = \" \",markersize=1)\n",
    "# g.plot([new_xlist_d[100],new_x_d_list[100]],[new_ylist_d[100],new_y_d_list[100]])\n",
    "\n",
    "\n",
    "g.set_aspect('equal')\n"
   ]
  },
  {
   "cell_type": "code",
   "execution_count": 8,
   "metadata": {},
   "outputs": [
    {
     "name": "stderr",
     "output_type": "stream",
     "text": [
      "/opt/anaconda3/lib/python3.8/site-packages/seaborn/distributions.py:2551: FutureWarning: `distplot` is a deprecated function and will be removed in a future version. Please adapt your code to use either `displot` (a figure-level function with similar flexibility) or `histplot` (an axes-level function for histograms).\n",
      "  warnings.warn(msg, FutureWarning)\n"
     ]
    },
    {
     "data": {
      "text/plain": [
       "<AxesSubplot:ylabel='Density'>"
      ]
     },
     "execution_count": 8,
     "metadata": {},
     "output_type": "execute_result"
    },
    {
     "data": {
      "image/png": "[encoded data removed]",
      "text/plain": [
       "<Figure size 432x288 with 1 Axes>"
      ]
     },
     "metadata": {
      "needs_background": "light"
     },
     "output_type": "display_data"
    }
   ],
   "source": [
    "sns.distplot(n_toka_x_3)"
   ]
  },
  {
   "cell_type": "code",
   "execution_count": 14,
   "metadata": {},
   "outputs": [
    {
     "name": "stdout",
     "output_type": "stream",
     "text": [
      "5516\n"
     ]
    },
    {
     "data": {
      "image/png": "[encoded data removed]",
      "text/plain": [
       "<Figure size 432x288 with 1 Axes>"
      ]
     },
     "metadata": {
      "needs_background": "light"
     },
     "output_type": "display_data"
    }
   ],
   "source": [
    "# 内部透過\n",
    "import matplotlib.pyplot as plt\n",
    "import matplotlib.patches as patches\n",
    "\n",
    "\n",
    "\n",
    "g = plt.subplot()\n",
    "#外径\n",
    "draw_circle_r = plt.Circle((0, 0), r, fill=False)\n",
    "#内径\n",
    "draw_circle_i = plt.Circle((0, 0), r_i, fill=False)\n",
    "g.add_artist(draw_circle_r)\n",
    "g.add_artist(draw_circle_i)\n",
    "# g.plot(new_x_a_list, new_y_a_list, marker=\"o\", color = \"red\", linestyle = \" \",markersize=1)\n",
    "\n",
    "#線追加\n",
    "# g.plot(new_x_d_list,new_y_d_list, marker=\"o\", color = \"red\", linestyle = \" \",markersize=1)\n",
    "# g.plot(test_x,test_y, marker=\"o\", color = \"red\", linestyle = \" \",markersize=1)\n",
    "n = 2700\n",
    "g.plot(n_naibu_x_1,n_naibu_y_1, marker=\"o\", color = \"red\", linestyle = \" \",markersize=1)\n",
    "g.plot(n_naibu_x_2,n_naibu_y_2, marker=\"o\", color = \"blue\", linestyle = \" \",markersize=1)\n",
    "g.plot(n_naibu_x_3,n_naibu_y_3, marker=\"o\", color = \"green\", linestyle = \" \",markersize=1)\n",
    "g.plot(n_naibu_x_4,n_naibu_y_4, marker=\"o\", color = \"black\", linestyle = \" \",markersize=1)\n",
    "g.plot(n_naibu_x_5,n_naibu_y_5, marker=\"o\", color = \"Yellow\", linestyle = \" \",markersize=1)\n",
    "\n",
    "g.plot([n_naibu_x_1[n],n_naibu_x_2[n]],[n_naibu_y_1[n],n_naibu_y_2[n]])\n",
    "g.plot([n_naibu_x_2[n],n_naibu_x_3[n]],[n_naibu_y_2[n],n_naibu_y_3[n]])\n",
    "g.plot([n_naibu_x_3[n],n_naibu_x_4[n]],[n_naibu_y_3[n],n_naibu_y_4[n]])\n",
    "g.plot([n_naibu_x_4[n],n_naibu_x_5[n]],[n_naibu_y_4[n],n_naibu_y_5[n]])\n",
    "\n",
    "# g.plot(new_xlist_d, new_ylist_d, marker=\"o\", color = \"red\", linestyle = \" \",markersize=1)\n",
    "# g.plot([new_xlist_d[100],new_x_d_list[100]],[new_ylist_d[100],new_y_d_list[100]])\n",
    "\n",
    "print(len(n_naibu_x_1))\n",
    "g.set_aspect('equal')"
   ]
  },
  {
   "cell_type": "code",
   "execution_count": 10,
   "metadata": {},
   "outputs": [
    {
     "name": "stderr",
     "output_type": "stream",
     "text": [
      "/opt/anaconda3/lib/python3.8/site-packages/seaborn/distributions.py:2551: FutureWarning: `distplot` is a deprecated function and will be removed in a future version. Please adapt your code to use either `displot` (a figure-level function with similar flexibility) or `histplot` (an axes-level function for histograms).\n",
      "  warnings.warn(msg, FutureWarning)\n"
     ]
    },
    {
     "data": {
      "text/plain": [
       "<AxesSubplot:ylabel='Density'>"
      ]
     },
     "execution_count": 10,
     "metadata": {},
     "output_type": "execute_result"
    },
    {
     "data": {
      "image/png": "[encoded data removed]",
      "text/plain": [
       "<Figure size 432x288 with 1 Axes>"
      ]
     },
     "metadata": {
      "needs_background": "light"
     },
     "output_type": "display_data"
    }
   ],
   "source": [
    "import seaborn as sns\n",
    "sns.distplot(n_naibu_x_5)"
   ]
  },
  {
   "cell_type": "code",
   "execution_count": 11,
   "metadata": {},
   "outputs": [
    {
     "data": {
      "image/png": "[encoded data removed]",
      "text/plain": [
       "<Figure size 432x288 with 1 Axes>"
      ]
     },
     "metadata": {
      "needs_background": "light"
     },
     "output_type": "display_data"
    }
   ],
   "source": [
    "import matplotlib.pyplot as plt\n",
    "import matplotlib.patches as patches\n",
    "\n",
    "test1_x = []\n",
    "test1_y = []\n",
    "# test1_x = n_naibu_x_5 + n_toka_x_3 + n_zen_x_4\n",
    "# test1_y = n_naibu_y_5 + n_toka_y_3 + n_zen_y_4\n",
    "test1_x = n_toka_x_3 + n_zen_x_4\n",
    "test1_y = n_toka_y_3 + n_zen_y_4\n",
    "\n",
    "g = plt.subplot()\n",
    "#外径\n",
    "draw_circle_r = plt.Circle((0, 0), r, fill=False)\n",
    "#内径\n",
    "draw_circle_i = plt.Circle((0, 0), r_i, fill=False)\n",
    "g.add_artist(draw_circle_r)\n",
    "g.add_artist(draw_circle_i)\n",
    "g.plot(test1_x, test1_y, marker=\"o\", color = \"red\", linestyle = \" \",markersize=1)\n",
    "\n",
    "g.set_aspect('equal')"
   ]
  },
  {
   "cell_type": "code",
   "execution_count": 12,
   "metadata": {},
   "outputs": [
    {
     "name": "stderr",
     "output_type": "stream",
     "text": [
      "/opt/anaconda3/lib/python3.8/site-packages/seaborn/distributions.py:2551: FutureWarning: `distplot` is a deprecated function and will be removed in a future version. Please adapt your code to use either `displot` (a figure-level function with similar flexibility) or `histplot` (an axes-level function for histograms).\n",
      "  warnings.warn(msg, FutureWarning)\n"
     ]
    },
    {
     "data": {
      "text/plain": [
       "<AxesSubplot:ylabel='Density'>"
      ]
     },
     "execution_count": 12,
     "metadata": {},
     "output_type": "execute_result"
    },
    {
     "data": {
      "image/png": "[encoded data removed]",
      "text/plain": [
       "<Figure size 432x288 with 1 Axes>"
      ]
     },
     "metadata": {
      "needs_background": "light"
     },
     "output_type": "display_data"
    }
   ],
   "source": [
    "sns.distplot(test1_x)"
   ]
  },
  {
   "cell_type": "code",
   "execution_count": null,
   "metadata": {},
   "outputs": [],
   "source": []
  }
 ],
 "metadata": {
  "kernelspec": {
   "display_name": "Python 3",
   "language": "python",
   "name": "python3"
  },
  "language_info": {
   "codemirror_mode": {
    "name": "ipython",
    "version": 3
   },
   "file_extension": ".py",
   "mimetype": "text/x-python",
   "name": "python",
   "nbconvert_exporter": "python",
   "pygments_lexer": "ipython3",
   "version": "3.8.5"
  }
 },
 "nbformat": 4,
 "nbformat_minor": 4
}
